{
 "cells": [
  {
   "cell_type": "markdown",
   "metadata": {},
   "source": [
    "# Logistic regression classifier.\n",
    "***\n",
    "### `class LogisticRegression(iterationCount: 1000, learningRate: 0.1, fitIntercept: true)`\n",
    "***\n",
    "## Parameters:\n",
    "  #### `iterationCount`: *Int, optional, default `1000`*\n",
    "  The maximum number of passes over the training data.\n",
    "  #### `learningRate`: *Float, optional, default `0.1`*\n",
    "  The amount that the weights are updated during training.\n",
    "  #### `fitIntercept`: *Bool, optional, default `true`*\n",
    "  Whether to calculate the intercept for this model. If set to `false`, no intercept will be used in calculations.\n",
    "\n",
    "## Attributes:\n",
    "  #### `weights`: *Tensor*\n",
    "  The computed weight list for the model contains weights of each class agains the rest.\n",
    "\n",
    "***\n",
    "\n",
    "## Methods\n",
    "\n",
    "***\n",
    "\n",
    "  ### `fit(data: Tensor, labels: Tensor)`: Fit a logistic regression model.\n",
    "\n",
    "  ### Parameters:\n",
    "\n",
    "  #### `data`: *Tensor, shape [sample count, feature count]*\n",
    "  Training data.\n",
    "  #### `labels`: *Tensor, shape [sample , 1]*  \n",
    "  Target values.\n",
    "\n",
    "  ***\n",
    "\n",
    "  ### `prediction(for: Tensor)`: Predict class for sample input data.\n",
    "\n",
    "  ### Parameters:\n",
    "  #### `for`: *Tensor, shape [sample count, feature count]*\n",
    "  Sample data.\n",
    "\n",
    "  ### Returns:\n",
    "  Returns classification of sample input data.\n",
    "  ***\n",
    "\n",
    "  ### `score(data: Tensor, labels: Tensor)`: Returns the mean accuracy.\n",
    "\n",
    "  ### Parameters:\n",
    "  #### `data`: *Tensor, shape [sample count, feature count]*\n",
    "  Test sample data.\n",
    "  #### `labels`: *Tensor, shape [sample count, 1]*  \n",
    "  True value for test sample data.\n",
    "\n",
    "  ### Returns:\n",
    "  Returns the mean accuracy.\n",
    "\n",
    "***"
   ]
  },
  {
   "cell_type": "markdown",
   "metadata": {},
   "source": [
    "# Example"
   ]
  },
  {
   "cell_type": "markdown",
   "metadata": {},
   "source": [
    "<table class=\"tfo-notebook-buttons\" align=\"left\">\n",
    "  <td>\n",
    "    <a target=\"_blank\" href=\"https://colab.research.google.com/drive/1iveTn2BPQ8V9V46_rzIslI3nURf1SN7V\"><img src=\"https://www.tensorflow.org/images/colab_logo_32px.png\" />Run in Google Colab</a>\n",
    "  </td>\n",
    "  <td>\n",
    "    <a target=\"_blank\" href=\"https://github.com/param087/swiftML/blob/master/Notebooks/Logistic%20Regression.ipynb\"><img src=\"https://www.tensorflow.org/images/GitHub-Mark-32px.png\" />View source on GitHub</a>\n",
    "  </td>\n",
    "</table>"
   ]
  },
  {
   "cell_type": "markdown",
   "metadata": {},
   "source": [
    "## Install the swiftML package from GitHub."
   ]
  },
  {
   "cell_type": "code",
   "execution_count": 1,
   "metadata": {},
   "outputs": [
    {
     "name": "stdout",
     "output_type": "stream",
     "text": [
      "Installing packages:\n",
      "\t.package(url: \"https://github.com/param087/swiftML\", from: \"0.0.2\")\n",
      "\t\tswiftML\n",
      "With SwiftPM flags: []\n",
      "Working in: /tmp/tmp1nvlwrl_/swift-install\n",
      "Fetching https://github.com/param087/swiftML\n",
      "Completed resolution in 5.82s\n",
      "Cloning https://github.com/param087/swiftML\n",
      "Resolving https://github.com/param087/swiftML at 0.0.2\n",
      "Compile Swift Module 'swiftML' (16 sources)\n",
      "/tmp/tmp1nvlwrl_/swift-install/package/.build/checkouts/swiftML-1801b701/Sources/swiftML/PCA.swift:158:13: warning: variable 'u' was written to, but never read\n",
      "        var u: Tensor<Double>\n",
      "            ^\n",
      "/tmp/tmp1nvlwrl_/swift-install/package/.build/checkouts/swiftML-1801b701/Sources/swiftML/RandomForest.swift:54:13: warning: variable 'outOfBootData' was written to, but never read\n",
      "        var outOfBootData: [[String]]\n",
      "            ^\n",
      "\n",
      "/tmp/tmp1nvlwrl_/swift-install/package/.build/checkouts/swiftML-1801b701/Sources/swiftML/KNeighborsClassifier.swift:106:13: warning: variable 'indices' was written to, but never read\n",
      "        var indices: Tensor<Int32>\n",
      "            ^\n",
      "\n",
      "Compile Swift Module 'jupyterInstalledPackages' (1 sources)\n",
      "Linking ./.build/x86_64-unknown-linux/debug/libjupyterInstalledPackages.so\n",
      "Initializing Swift...\n",
      "Installation complete!\n"
     ]
    }
   ],
   "source": [
    "%install '.package(url: \"https://github.com/param087/swiftML\", from: \"0.0.2\")' swiftML"
   ]
  },
  {
   "cell_type": "markdown",
   "metadata": {},
   "source": [
    "## Import Swift packages"
   ]
  },
  {
   "cell_type": "code",
   "execution_count": 2,
   "metadata": {},
   "outputs": [],
   "source": [
    "import TensorFlow\n",
    "import swiftML"
   ]
  },
  {
   "cell_type": "markdown",
   "metadata": {},
   "source": [
    "## Import Python modules"
   ]
  },
  {
   "cell_type": "code",
   "execution_count": 3,
   "metadata": {},
   "outputs": [],
   "source": [
    "import Python\n",
    "\n",
    "let np = Python.import(\"numpy\")\n",
    "let datasets = Python.import(\"sklearn.datasets\")\n",
    "let modelSelection = Python.import(\"sklearn.model_selection\")"
   ]
  },
  {
   "cell_type": "markdown",
   "metadata": {},
   "source": [
    "## Load and split dataset"
   ]
  },
  {
   "cell_type": "code",
   "execution_count": 4,
   "metadata": {},
   "outputs": [],
   "source": [
    "// Load the iris dataset\n",
    "let iris = datasets.load_iris()\n",
    "\n",
    "let irisData = Tensor<Float>(numpy: np.array(iris.data, dtype: np.float32))!\n",
    "\n",
    "// Split the dataset into trainig and testing \n",
    "let trainTestSplit = modelSelection.train_test_split(iris.data, iris.target, test_size: 0.3)\n",
    "\n",
    "let trainData = Tensor<Float>(numpy: np.array(trainTestSplit[0], dtype: np.float32))!\n",
    "let testData = Tensor<Float>(numpy: np.array(trainTestSplit[1], dtype: np.float32))!\n",
    "var trainTarget = Tensor<Int32>(\n",
    "    Tensor<Float>(numpy: np.array(trainTestSplit[2], dtype: np.float32))!)\n",
    "trainTarget = trainTarget.reshaped(to: [trainTarget.shape[0] ,1])\n",
    "var testTarget = Tensor<Int32>(\n",
    "    Tensor<Float>(numpy: np.array(trainTestSplit[3], dtype: np.float32))!)\n",
    "testTarget = testTarget.reshaped(to: [testTarget.shape[0] ,1])"
   ]
  },
  {
   "cell_type": "markdown",
   "metadata": {},
   "source": [
    "## Logistic regression classifier"
   ]
  },
  {
   "cell_type": "code",
   "execution_count": 5,
   "metadata": {},
   "outputs": [],
   "source": [
    "let model = LogisticRegression(iterationCount: 10000, learningRate: 0.01)"
   ]
  },
  {
   "cell_type": "code",
   "execution_count": 6,
   "metadata": {},
   "outputs": [],
   "source": [
    "model.fit(data: trainData, labels: trainTarget)"
   ]
  },
  {
   "cell_type": "code",
   "execution_count": 7,
   "metadata": {},
   "outputs": [
    {
     "name": "stdout",
     "output_type": "stream",
     "text": [
      "Training Score:  0.9714286\r\n"
     ]
    }
   ],
   "source": [
    "print(\"Training Score: \", model.score(data: trainData, labels: trainTarget))"
   ]
  },
  {
   "cell_type": "code",
   "execution_count": 8,
   "metadata": {},
   "outputs": [
    {
     "name": "stdout",
     "output_type": "stream",
     "text": [
      "Testing Score:  0.9777778\r\n"
     ]
    }
   ],
   "source": [
    "print(\"Testing Score: \", model.score(data: testData, labels: testTarget))"
   ]
  }
 ],
 "metadata": {
  "kernelspec": {
   "display_name": "Swift",
   "language": "swift",
   "name": "swift"
  },
  "language_info": {
   "file_extension": ".swift",
   "mimetype": "text/x-swift",
   "name": "swift",
   "version": ""
  }
 },
 "nbformat": 4,
 "nbformat_minor": 2
}

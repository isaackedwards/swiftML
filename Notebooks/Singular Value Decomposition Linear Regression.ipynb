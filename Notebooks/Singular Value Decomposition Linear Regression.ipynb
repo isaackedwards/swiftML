{
 "cells": [
  {
   "cell_type": "markdown",
   "metadata": {},
   "source": [
    "# Singular Value Decomposition Linear Regression\n",
    "\n",
    "***\n",
    "### `class SingularValueDecompositionLinearRegression(fitIntercept: true)`\n",
    "***\n",
    "\n",
    "## Parameters:\n",
    "  #### `fitIntercept`: *Bool, optional, default `true`*\n",
    "  Whether to calculate the intercept for this model. If set to `false`, no intercept will be used in calculations.\n",
    "\n",
    "## Attributes: \n",
    "  #### `weights`: *Tensor, shape [feature count, target count]*\n",
    "  Estimated intercepts and coefficients for the linear regression problem. If `fitIntercept: true` first row in tensor represent intercept and remaining rows represent coefficients, else tensor matrix represent the coefficients for the linear regression.\n",
    "\n",
    "***\n",
    "\n",
    "## Methods\n",
    "\n",
    "***\n",
    "\n",
    "  ### `fit(data: Tensor, labels: Tensor)`:  Fit a linear model.\n",
    "\n",
    "  ### Parameters:\n",
    "\n",
    "  #### `data`: *Tensor, shape [sample count, feature count]*\n",
    "  Training data.\n",
    "  #### `labels`: *Tensor, shape [sample count, target count]*  \n",
    "  Target data.\n",
    "\n",
    "  ***\n",
    "\n",
    "  ### `prediction(for: Tensor)`: Prediction using a linear model.\n",
    "\n",
    "  ### Parameters:\n",
    "  #### `for`: *Tensor, shape [sample count, feature count]*\n",
    "  Sample data.\n",
    "\n",
    "  ### Returns:\n",
    "  Returns predicted values.  \n",
    "\n",
    "  ***\n",
    "  ### `score(data: Tensor, labels: Tensor)`: Returns the coefficient of determination $R^2$ for the prediction.\n",
    "\n",
    "  ### Parameters:\n",
    "  #### `data`: *Tensor, shape [sample count, feature count]*\n",
    "  Test sample data.\n",
    "  #### `labels`: *Tensor, shape [sample count, target count]*  \n",
    "  True value for test sample data.\n",
    "\n",
    "  ### Returns:\n",
    "  Returns the coefficient of determination $R^2$\n",
    "  \n",
    "***\n",
    "\n",
    "\n"
   ]
  },
  {
   "cell_type": "markdown",
   "metadata": {},
   "source": [
    "# Example"
   ]
  },
  {
   "cell_type": "markdown",
   "metadata": {},
   "source": [
    "<table class=\"tfo-notebook-buttons\" align=\"left\">\n",
    "  <td>\n",
    "    <a target=\"_blank\" href=\"https://colab.research.google.com/drive/1GLczuSuDkL6YvCTWCMc4Woap_ZmIxofS\"><img src=\"https://www.tensorflow.org/images/colab_logo_32px.png\" />Run in Google Colab</a>\n",
    "  </td>\n",
    "  <td>\n",
    "    <a target=\"_blank\" href=\"https://github.com/param087/swiftML/blob/master/Notebooks/Singular%20Value%20Decomposition%20Linear%20Regression.ipynb\"><img src=\"https://www.tensorflow.org/images/GitHub-Mark-32px.png\" />View source on GitHub</a>\n",
    "  </td>\n",
    "</table>"
   ]
  },
  {
   "cell_type": "markdown",
   "metadata": {},
   "source": [
    "## Install the swiftML package from GitHub."
   ]
  },
  {
   "cell_type": "code",
   "execution_count": 1,
   "metadata": {},
   "outputs": [
    {
     "name": "stdout",
     "output_type": "stream",
     "text": [
      "Installing packages:\n",
      "\t.package(url: \"https://github.com/param087/swiftML\", from: \"0.0.2\")\n",
      "\t\tswiftML\n",
      "With SwiftPM flags: []\n",
      "Working in: /tmp/tmp29sd7bnt/swift-install\n",
      "Fetching https://github.com/param087/swiftML\n",
      "Completed resolution in 2.95s\n",
      "Cloning https://github.com/param087/swiftML\n",
      "Resolving https://github.com/param087/swiftML at 0.0.2\n",
      "Compile Swift Module 'swiftML' (16 sources)\n",
      "/tmp/tmp29sd7bnt/swift-install/package/.build/checkouts/swiftML-1801b701/Sources/swiftML/KNeighborsClassifier.swift:106:13: warning: variable 'indices' was written to, but never read\n",
      "        var indices: Tensor<Int32>\n",
      "            ^\n",
      "\n",
      "/tmp/tmp29sd7bnt/swift-install/package/.build/checkouts/swiftML-1801b701/Sources/swiftML/PCA.swift:158:13: warning: variable 'u' was written to, but never read\n",
      "        var u: Tensor<Double>\n",
      "            ^\n",
      "/tmp/tmp29sd7bnt/swift-install/package/.build/checkouts/swiftML-1801b701/Sources/swiftML/RandomForest.swift:54:13: warning: variable 'outOfBootData' was written to, but never read\n",
      "        var outOfBootData: [[String]]\n",
      "            ^\n",
      "\n",
      "Compile Swift Module 'jupyterInstalledPackages' (1 sources)\n",
      "Linking ./.build/x86_64-unknown-linux/debug/libjupyterInstalledPackages.so\n",
      "Initializing Swift...\n",
      "Installation complete!\n"
     ]
    }
   ],
   "source": [
    "%install '.package(url: \"https://github.com/param087/swiftML\", from: \"0.0.2\")' swiftML"
   ]
  },
  {
   "cell_type": "markdown",
   "metadata": {},
   "source": [
    "## Import Swift packages"
   ]
  },
  {
   "cell_type": "code",
   "execution_count": 2,
   "metadata": {},
   "outputs": [],
   "source": [
    "import TensorFlow\n",
    "import swiftML"
   ]
  },
  {
   "cell_type": "markdown",
   "metadata": {},
   "source": [
    "This example uses the only the first feature of the `diabetes` dataset, in order to illustrate a two-dimensional plot of this regression technique. The straight line can be seen in the plot, showing how linear regression attempts to draw a straight line that will best minimize the residual sum of squares between the observed responses in the dataset, and the responses predicted by the linear approximation."
   ]
  },
  {
   "cell_type": "markdown",
   "metadata": {},
   "source": [
    "## Import Python modules"
   ]
  },
  {
   "cell_type": "code",
   "execution_count": 3,
   "metadata": {},
   "outputs": [],
   "source": [
    "%include \"EnableIPythonDisplay.swift\"\n",
    "IPythonDisplay.shell.enable_matplotlib(\"inline\")\n",
    "\n",
    "import Python\n",
    "\n",
    "let np = Python.import(\"numpy\")\n",
    "let plt = Python.import(\"matplotlib.pyplot\")\n",
    "\n",
    "let datasets = Python.import(\"sklearn.datasets\")"
   ]
  },
  {
   "cell_type": "markdown",
   "metadata": {},
   "source": [
    "## Load and split dataset"
   ]
  },
  {
   "cell_type": "code",
   "execution_count": 4,
   "metadata": {},
   "outputs": [],
   "source": [
    "// Load the diabetes dataset\n",
    "let diabetes = datasets.load_diabetes()\n",
    "\n",
    "// Use only one feature.\n",
    "let diabetesData = Tensor<Float>(numpy: np.array(diabetes.data, dtype: np.float32))!\n",
    "let data = diabetesData.slice(lowerBounds: [0, 2], upperBounds: [diabetesData.shape[0], 3])\n",
    "\n",
    "// Split the data into training/testing sets.\n",
    "let trainData = data.slice(lowerBounds: [0, 0], upperBounds: [(data.shape[0] - 20), 1])\n",
    "let testData = data.slice(lowerBounds: [(data.shape[0] - 20), 0], upperBounds: [data.shape[0], 1])\n",
    "\n",
    "var labels = Tensor<Float>(numpy: np.array(diabetes.target, dtype: np.float32))!\n",
    "labels = labels.reshaped(to: [labels.shape[0], 1])\n",
    "\n",
    "// Split the targets/labels into training/testing sets.\n",
    "let trainLabels = labels.slice(lowerBounds: [0, 0], upperBounds: [(data.shape[0] - 20), 1])\n",
    "let testLabels = labels.slice(lowerBounds: [(data.shape[0] - 20), 0], upperBounds: [data.shape[0], 1])\n"
   ]
  },
  {
   "cell_type": "code",
   "execution_count": 5,
   "metadata": {},
   "outputs": [],
   "source": [
    "let model = SingularValueDecompositionLinearRegression(fitIntercept: true)"
   ]
  },
  {
   "cell_type": "markdown",
   "metadata": {},
   "source": [
    "## Fit a linear model"
   ]
  },
  {
   "cell_type": "code",
   "execution_count": 6,
   "metadata": {},
   "outputs": [],
   "source": [
    "model.fit(data: trainData, labels: trainLabels)"
   ]
  },
  {
   "cell_type": "code",
   "execution_count": 7,
   "metadata": {},
   "outputs": [
    {
     "data": {
      "text/plain": [
       "0.33513123\n"
      ]
     },
     "execution_count": 7,
     "metadata": {},
     "output_type": "execute_result"
    }
   ],
   "source": [
    "model.score(data: trainData, labels: trainLabels)"
   ]
  },
  {
   "cell_type": "code",
   "execution_count": 8,
   "metadata": {},
   "outputs": [
    {
     "data": {
      "text/plain": [
       "0.47257543\n"
      ]
     },
     "execution_count": 8,
     "metadata": {},
     "output_type": "execute_result"
    }
   ],
   "source": [
    "model.score(data: testData, labels: testLabels)"
   ]
  },
  {
   "cell_type": "code",
   "execution_count": 9,
   "metadata": {},
   "outputs": [
    {
     "data": {
      "text/plain": [
       "[[152.91887],\n",
       " [938.23773]]\n"
      ]
     },
     "execution_count": 9,
     "metadata": {},
     "output_type": "execute_result"
    }
   ],
   "source": [
    "model.weights"
   ]
  },
  {
   "cell_type": "code",
   "execution_count": 10,
   "metadata": {},
   "outputs": [],
   "source": [
    "let predictedTestLabels = model.prediction(for: testData)\n",
    "let x = testData.makeNumpyArray()\n",
    "let y = testLabels.makeNumpyArray()\n",
    "let yPredicted = predictedTestLabels.makeNumpyArray()"
   ]
  },
  {
   "cell_type": "code",
   "execution_count": 11,
   "metadata": {},
   "outputs": [
    {
     "data": {
      "image/png": "[encoded data removed]",
      "text/plain": [
       "<Figure size 720x432 with 1 Axes>"
      ]
     },
     "metadata": {
      "needs_background": "light"
     },
     "output_type": "display_data"
    },
    {
     "data": {
      "text/plain": [
       "None\n"
      ]
     },
     "execution_count": 11,
     "metadata": {},
     "output_type": "execute_result"
    }
   ],
   "source": [
    "plt.figure(figsize: [10, 6])\n",
    "\n",
    "plt.plot(x, yPredicted)\n",
    "plt.scatter(x, y)\n",
    "\n",
    "plt.xlabel(\"features\")\n",
    "plt.ylabel(\"labels\")\n",
    "plt.title(\"Linear Regression using least square method\")\n",
    "\n",
    "plt.show()"
   ]
  }
 ],
 "metadata": {
  "kernelspec": {
   "display_name": "Swift",
   "language": "swift",
   "name": "swift"
  },
  "language_info": {
   "file_extension": ".swift",
   "mimetype": "text/x-swift",
   "name": "swift",
   "version": ""
  }
 },
 "nbformat": 4,
 "nbformat_minor": 2
}

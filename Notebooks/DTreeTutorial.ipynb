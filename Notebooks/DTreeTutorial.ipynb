{
 "cells": [
  {
   "cell_type": "markdown",
   "metadata": {
    "colab_type": "text",
    "id": "hN2Xlkfgd4vU"
   },
   "source": [
    "# Decision Tree\n",
    "\n",
    "***\n",
    "### `class DecisionTree(data: [[String]], target: Int, maxDepth: Int, perform: String, using: String, tolerance: Float) `\n",
    "***\n",
    "\n",
    "## Parameters:\n",
    "  #### `data` : [[String]]\n",
    "  Data with labels (see format below)\n",
    "  #### `target`: *Int*\n",
    "  column number of the labels\n",
    "  #### `maxDepth`: *Int*\n",
    "  Max depth tree to which the decision tree is grown\n",
    "  #### `perform`: *String*\n",
    "  whether to do regression or classification\n",
    "  #### `using`: *String*\n",
    "  whether to use infoGain or giniImpurity\n",
    "  #### `tolerance`: *Float, default: 0.1*\n",
    "  Column number of the labels\n",
    "  \n",
    "\n",
    "***\n",
    "\n",
    "## Methods\n",
    "\n",
    "***\n",
    "\n",
    "  ### `displayTree()` :  Prints the tree grown during initializer.\n",
    "\n",
    "\n",
    "***\n",
    "\n",
    "  ### `classify(example: [[String]])` : Classfies/Predicts an example by traversing.\n",
    "\n",
    "  ### parameters:\n",
    "  #### `example`: [[String]]\n",
    "  String array with feature header to be classified.\n",
    "\n",
    "  ### Returns:\n",
    "  Returns predicted classification/prediction as a string.  \n",
    "\n",
    "  ***\n",
    "  ### `score(testData: [[String]])`: Scores the tree's accuracy on test data.\n",
    "\n",
    "  ### parameters:\n",
    "  #### `testData`: [[String]]\n",
    "  test data as a 2D string array with feature header (see format below)\n",
    "\n",
    "  ### Returns:\n",
    "  Returns accuracy of predictions as float \n",
    "  and predictions as string array\n",
    "  \n",
    "***"
   ]
  },
  {
   "cell_type": "markdown",
   "metadata": {
    "colab_type": "text",
    "id": "LWF2kIiid4vW"
   },
   "source": [
    "# Example"
   ]
  },
  {
   "cell_type": "markdown",
   "metadata": {
    "colab_type": "text",
    "id": "Iep64439d4vX"
   },
   "source": [
    "<table class=\"tfo-notebook-buttons\" align=\"left\">\n",
    "  <td>\n",
    "    <a target=\"_blank\" href=\"https://colab.research.google.com/drive/1S0UP89ZoIJq7Kgkzlp2lie_SWmseR5qL\"><img src=\"https://www.tensorflow.org/images/colab_logo_32px.png\" />Run in Google Colab</a>\n",
    "  </td>\n",
    "  <td>\n",
    "    <a target=\"_blank\" href=\"https://github.com/param087/swiftML/blob/master/Notebooks/DTreeTutorial.ipynb\"><img src=\"https://www.tensorflow.org/images/GitHub-Mark-32px.png\" />View source on GitHub</a>\n",
    "  </td>\n",
    "</table>"
   ]
  },
  {
   "cell_type": "markdown",
   "metadata": {
    "colab_type": "text",
    "id": "kcDTSCQcd4vc"
   },
   "source": [
    "## Install the swiftML package from GitHub."
   ]
  },
  {
   "cell_type": "code",
   "execution_count": 1,
   "metadata": {
    "colab": {},
    "colab_type": "code",
    "id": "wxCyCTsKd4vd"
   },
   "outputs": [
    {
     "name": "stdout",
     "output_type": "stream",
     "text": [
      "Installing packages:\n",
      "\t.package(url: \"https://github.com/param087/swiftML\", from: \"0.0.2\")\n",
      "\t\tswiftML\n",
      "With SwiftPM flags: []\n",
      "Working in: /tmp/tmp1cgf6t_c/swift-install\n",
      "Fetching https://github.com/param087/swiftML\n",
      "Completed resolution in 5.16s\n",
      "Cloning https://github.com/param087/swiftML\n",
      "Resolving https://github.com/param087/swiftML at 0.0.2\n",
      "Compile Swift Module 'swiftML' (16 sources)\n",
      "/tmp/tmp1cgf6t_c/swift-install/package/.build/checkouts/swiftML-1801b701/Sources/swiftML/PCA.swift:158:13: warning: variable 'u' was written to, but never read\n",
      "        var u: Tensor<Double>\n",
      "            ^\n",
      "/tmp/tmp1cgf6t_c/swift-install/package/.build/checkouts/swiftML-1801b701/Sources/swiftML/RandomForest.swift:54:13: warning: variable 'outOfBootData' was written to, but never read\n",
      "        var outOfBootData: [[String]]\n",
      "            ^\n",
      "\n",
      "/tmp/tmp1cgf6t_c/swift-install/package/.build/checkouts/swiftML-1801b701/Sources/swiftML/KNeighborsClassifier.swift:106:13: warning: variable 'indices' was written to, but never read\n",
      "        var indices: Tensor<Int32>\n",
      "            ^\n",
      "\n",
      "Compile Swift Module 'jupyterInstalledPackages' (1 sources)\n",
      "Linking ./.build/x86_64-unknown-linux/debug/libjupyterInstalledPackages.so\n",
      "Initializing Swift...\n",
      "Installation complete!\n"
     ]
    }
   ],
   "source": [
    "%install '.package(url: \"https://github.com/param087/swiftML\", from: \"0.0.2\")' swiftML"
   ]
  },
  {
   "cell_type": "markdown",
   "metadata": {
    "colab_type": "text",
    "id": "oI4v2EDQd4vh"
   },
   "source": [
    "## Import Swift packages"
   ]
  },
  {
   "cell_type": "code",
   "execution_count": 2,
   "metadata": {
    "colab": {},
    "colab_type": "code",
    "id": "rsVtX_Ihd4vi"
   },
   "outputs": [],
   "source": [
    "import TensorFlow\n",
    "import swiftML"
   ]
  },
  {
   "cell_type": "markdown",
   "metadata": {
    "colab_type": "text",
    "id": "GQMj84mad4vp"
   },
   "source": [
    "## Load dataset"
   ]
  },
  {
   "cell_type": "code",
   "execution_count": 3,
   "metadata": {
    "colab": {},
    "colab_type": "code",
    "id": "9Wxckr1hd4vq"
   },
   "outputs": [],
   "source": [
    "let patientDataTrain : [[String]] = [\n",
    "  [\"temperature\", \"nausea\", \"lumbar pain\", \"urine pushing\", \"micturition pains\", \"Burning of urethra, itch, swelling of urethra outlet\", \"Inflamtation of urinary bladder\", \"Nephritis of renal pelvis origin\"],\n",
    "    [\"35.5\",    \"no\",    \"yes\",    \"no\",    \"no\",    \"no\",    \"no\",    \"no\"],\n",
    "    [\"35.9\",    \"no\",    \"no\",    \"yes\",    \"yes\",    \"yes\",    \"yes\",    \"no\"],\n",
    "    [\"36.0\",    \"no\",    \"no\",    \"yes\",    \"yes\",    \"yes\",    \"yes\",    \"no\"],\n",
    "    [\"36.0\",    \"no\",    \"yes\",    \"no\",    \"no\",    \"no\",    \"no\",    \"no\"],\n",
    "    [\"36.0\",    \"no\",    \"yes\",    \"no\",    \"no\",    \"no\",    \"no\",    \"no\"],\n",
    "    [\"36.2\",    \"no\",    \"no\",    \"yes\",    \"yes\",    \"yes\",    \"yes\",    \"no\"],\n",
    "    [\"36.2\",    \"no\",    \"yes\",    \"no\",    \"no\",    \"no\",    \"no\",    \"no\"],\n",
    "    [\"36.3\",    \"no\",    \"no\",    \"yes\",    \"yes\",    \"yes\",    \"yes\",    \"no\"],\n",
    "    [\"36.6\",    \"no\",    \"no\",    \"yes\",    \"yes\",    \"yes\",    \"yes\",    \"no\"],\n",
    "    [\"36.6\",    \"no\",    \"no\",    \"yes\",    \"yes\",    \"yes\",    \"yes\",    \"no\"],\n",
    "    [\"36.6\",    \"no\",    \"yes\",    \"no\",    \"no\",    \"no\",    \"no\",    \"no\"],\n",
    "    [\"36.6\",    \"no\",    \"yes\",    \"no\",    \"no\",    \"no\",    \"no\",    \"no\"],\n",
    "    [\"36.7\",    \"no\",    \"no\",    \"yes\",    \"yes\",    \"yes\",    \"yes\", \"no\"],\n",
    "    [\"36.7\",    \"no\",    \"yes\",    \"no\",    \"no\",    \"no\",    \"no\",    \"no\"],\n",
    "    [\"36.7\",    \"no\",    \"yes\",    \"no\",    \"no\",    \"no\",    \"no\",    \"no\"],\n",
    "    [\"36.8\",    \"no\",    \"no\",    \"yes\",    \"yes\",    \"yes\",    \"yes\",    \"no\"],\n",
    "    [\"36.8\",    \"no\",    \"no\",   \"yes\",    \"yes\",    \"yes\",    \"yes\",    \"no\"],\n",
    "    [\"36.9\",    \"no\",    \"no\",    \"yes\",    \"yes\",    \"yes\",    \"yes\",    \"no\"],\n",
    "    [\"36.9\",    \"no\",    \"yes\",    \"no\",    \"no\",    \"no\",    \"no\",    \"no\"],\n",
    "    [\"37.0\",    \"no\",    \"no\",    \"yes\",    \"yes\",    \"no\",    \"yes\",    \"no\"],\n",
    "    [\"37.0\",    \"no\",    \"no\",    \"yes\",    \"yes\",    \"no\",    \"yes\",    \"no\"],\n",
    "    [\"37.0\",    \"no\",    \"yes\",    \"no\",    \"no\",    \"no\",    \"no\",    \"no\"],\n",
    "    [\"37.0\",    \"no\",    \"no\",    \"yes\",    \"yes\",    \"yes\",    \"yes\",    \"no\"],\n",
    "    [\"37.0\",    \"no\",    \"no\",    \"yes\",    \"yes\",    \"yes\",    \"yes\",    \"no\"],\n",
    "    [\"37.0\",    \"no\",    \"no\",    \"yes\",    \"yes\",    \"yes\",    \"yes\",    \"no\"],\n",
    "    [\"37.0\",    \"no\",    \"no\",    \"yes\",    \"no\",    \"no\",    \"yes\",    \"no\"],\n",
    "    [\"37.1\",    \"no\",    \"yes\",    \"no\",    \"no\",    \"no\",    \"no\",    \"no\"],\n",
    "    [\"37.1\",    \"no\",    \"no\",    \"yes\",    \"yes\",    \"yes\",    \"yes\",    \"no\"],\n",
    "    [\"37.1\",    \"no\",    \"no\",     \"yes\",    \"no\",    \"no\",    \"yes\",    \"no\"],\n",
    "    [\"37.2\",    \"no\",    \"no\",    \"yes\",    \"yes\",    \"no\",    \"yes\",    \"no\"],\n",
    "    [\"37.2\",    \"no\",    \"yes\",    \"no\",    \"no\",    \"no\",    \"no\",    \"no\"],\n",
    "    [\"37.2\",    \"no\",    \"no\",    \"yes\",    \"no\",    \"no\",    \"yes\",    \"no\"],\n",
    "    [\"37.3\",    \"no\",    \"yes\",    \"no\",    \"no\",    \"no\",    \"no\",    \"no\"],\n",
    "    [\"37.3\",    \"no\",    \"no\",    \"yes\",    \"yes\",    \"yes\",    \"yes\",    \"no\"],\n",
    "    [\"37.3\",    \"no\",    \"no\",    \"yes\",    \"no\",    \"no\",    \"yes\",    \"no\"],\n",
    "    [\"37.4\",    \"no\",    \"yes\",    \"no\",    \"no\",    \"no\",    \"no\",    \"no\"],\n",
    "    [\"37.4\",    \"no\",    \"no\",    \"yes\",    \"no\",    \"no\",    \"yes\",    \"no\"],\n",
    "    [\"37.5\",    \"no\",    \"no\",    \"yes\",    \"yes\",    \"no\",    \"yes\",    \"no\"],\n",
    "    [\"37.5\",    \"no\",    \"yes\",    \"no\",    \"no\",    \"no\",    \"no\",    \"no\"],\n",
    "    [\"37.5\",    \"no\",    \"yes\",    \"no\",    \"no\",    \"no\",    \"no\",    \"no\"],\n",
    "    [\"37.5\",    \"no\",    \"no\",    \"yes\",    \"yes\",    \"yes\",    \"yes\",    \"no\"],\n",
    "    [\"37.5\",    \"no\",    \"no\",    \"yes\",    \"no\",    \"no\",    \"yes\",    \"no\"],\n",
    "    [\"37.6\",    \"no\",    \"no\",    \"yes\",    \"yes\",    \"no\",    \"yes\",    \"no\"],\n",
    "    [\"37.6\",    \"no\",    \"no\",    \"yes\",    \"yes\",    \"no\",    \"yes\",    \"no\"],\n",
    "    [\"37.6\",    \"no\",    \"no\",    \"yes\",    \"yes\",    \"yes\",    \"yes\",    \"no\"],\n",
    "    [\"37.7\",    \"no\",    \"no\",    \"yes\",    \"yes\",    \"no\",    \"yes\",    \"no\"],\n",
    "    [\"37.7\",    \"no\",    \"yes\",    \"no\",    \"no\",    \"no\",    \"no\",    \"no\"],\n",
    "    [\"37.7\",    \"no\",    \"no\",    \"yes\",    \"no\",    \"no\",    \"yes\",    \"no\"],\n",
    "    [\"37.8\",    \"no\",    \"yes\",    \"no\",    \"no\",    \"no\",    \"no\",    \"no\"],\n",
    "    [\"37.8\",    \"no\",    \"no\",    \"yes\",    \"yes\",    \"yes\",    \"yes\",    \"no\"],\n",
    "    [\"37.8\",    \"no\",    \"no\",    \"yes\",    \"no\",    \"no\",    \"yes\",    \"no\"],\n",
    "    [\"37.9\",    \"no\",    \"no\",    \"yes\",    \"yes\",    \"no\",    \"yes\",    \"no\"],\n",
    "    [\"37.9\",    \"no\",    \"no\",    \"yes\",    \"yes\",    \"no\",    \"yes\",    \"no\"],\n",
    "    [\"37.9\",    \"no\",    \"yes\",    \"no\",    \"no\",    \"no\",    \"no\",    \"no\"],\n",
    "    [\"37.9\",    \"no\",    \"no\",    \"yes\",    \"yes\",    \"yes\",    \"yes\",    \"no\"],\n",
    "    [\"37.9\",    \"no\",    \"no\",    \"yes\",    \"no\",    \"no\",    \"yes\",    \"no\"],\n",
    "    [\"38.0\",    \"no\",    \"yes\",    \"yes\",    \"no\",    \"yes\",    \"no\",    \"yes\"],\n",
    "    [\"38.0\",    \"no\",    \"yes\",    \"yes\",    \"no\",    \"yes\",    \"no\",    \"yes\"],\n",
    "    [\"38.1\",    \"no\",    \"yes\",    \"yes\",    \"no\",    \"yes\",    \"no\",    \"yes\"],\n",
    "    [\"38.3\",    \"no\",    \"yes\",    \"yes\",    \"no\",    \"yes\",    \"no\",    \"yes\"],\n",
    "    [\"38.5\",    \"no\",    \"yes\",    \"yes\",    \"no\",    \"yes\",    \"no\",    \"yes\"],\n",
    "    [\"38.9\",    \"no\",    \"yes\",    \"yes\",    \"no\",    \"yes\",    \"no\",    \"yes\"],\n",
    "    [\"39.0\",    \"no\",    \"yes\",    \"yes\",    \"no\",    \"yes\",    \"no\",    \"yes\"],\n",
    "    [\"39.7\",    \"no\",    \"yes\",    \"yes\",    \"no\",    \"yes\",    \"no\",    \"yes\"],\n",
    "    [\"40.0\",    \"yes\",    \"yes\",    \"yes\",    \"yes\",    \"yes\",    \"yes\",    \"yes\"],\n",
    "    [\"40.0\",    \"yes\",    \"yes\",    \"yes\",    \"yes\",    \"yes\",    \"yes\",    \"yes\"],\n",
    "    [\"40.0\",    \"yes\",    \"yes\",    \"yes\",    \"yes\",    \"no\",    \"yes\",    \"yes\"],\n",
    "    [\"40.0\",    \"no\",    \"no\",    \"no\",    \"no\",    \"no\",    \"no\",    \"no\"],\n",
    "    [\"40.0\",    \"no\",    \"no\",    \"no\",    \"no\",    \"no\",    \"no\",    \"no\"],\n",
    "    [\"40.0\",    \"yes\",    \"yes\",    \"no\",    \"yes\",    \"no\",    \"no\",    \"yes\"],\n",
    "    [\"40.0\",    \"no\",    \"yes\",    \"yes\",    \"no\",    \"yes\",    \"no\",    \"yes\"],\n",
    "    [\"40.2\",    \"yes\",    \"yes\",    \"yes\",    \"yes\",    \"yes\",    \"yes\",    \"yes\"],\n",
    "    [\"40.2\",    \"no\",    \"no\",    \"no\",    \"no\",    \"no\",    \"no\",    \"no\"],\n",
    "    [\"40.2\",    \"yes\",    \"yes\",    \"no\",    \"yes\",    \"no\",    \"no\",    \"yes\"],\n",
    "    [\"40.3\",    \"no\",    \"yes\",    \"yes\",    \"no\",    \"yes\",    \"no\",    \"yes\"],\n",
    "    [\"40.4\",    \"yes\",    \"yes\",    \"yes\",    \"yes\",    \"yes\",    \"yes\",    \"yes\"],\n",
    "    [\"40.4\",    \"yes\",    \"yes\",    \"yes\",    \"yes\",    \"no\",    \"yes\",    \"yes\"],\n",
    "    [\"40.4\",    \"yes\",    \"yes\",    \"yes\",    \"yes\",    \"no\",    \"yes\",    \"yes\"],\n",
    "    [\"40.4\",    \"no\",    \"no\",    \"no\",    \"no\",    \"no\",    \"no\",    \"no\"],\n",
    "    [\"40.5\",    \"yes\",    \"yes\",    \"yes\",    \"yes\",    \"no\",    \"yes\",    \"yes\"],\n",
    "    [\"40.6\",    \"yes\",    \"yes\",    \"yes\",    \"yes\",    \"yes\",    \"yes\",    \"yes\"],\n",
    "    [\"40.6\",    \"no\",    \"no\",    \"no\",    \"no\",    \"no\",    \"no\",    \"no\"],\n",
    "    [\"40.6\",    \"yes\",    \"yes\",    \"no\",    \"yes\",    \"no\",    \"no\",    \"yes\"],\n",
    "    [\"40.7\",    \"yes\",    \"yes\",    \"yes\",    \"yes\",    \"yes\",    \"yes\",    \"yes\"],\n",
    "    [\"40.7\",    \"yes\",    \"yes\",    \"yes\",    \"yes\",    \"no\",    \"yes\",    \"yes\"],\n",
    "    [\"40.7\",    \"yes\",    \"yes\",    \"no\",    \"yes\",    \"no\",    \"no\",   \"yes\"],\n",
    "    [\"40.7\",    \"no\",    \"yes\",   \"yes\",    \"no\",    \"yes\",    \"no\",    \"yes\"],\n",
    "    [\"40.8\",    \"no\",    \"yes\",    \"yes\",    \"no\",    \"yes\",    \"no\",    \"yes\"],\n",
    "    [\"40.9\",    \"no\",    \"yes\",    \"yes\",    \"no\",    \"yes\",    \"no\",    \"yes\"],\n",
    "    [\"41.0\",    \"yes\",    \"yes\",    \"yes\",    \"yes\",    \"yes\",    \"yes\",    \"yes\"],\n",
    "    [\"41.0\",    \"yes\",    \"yes\",    \"no\",    \"yes\",   \"no\",    \"no\",    \"yes\"],\n",
    "    [\"41.0\",    \"no\",    \"yes\",    \"yes\",    \"no\",    \"yes\",    \"no\",    \"yes\"],\n",
    "    [\"41.1\",    \"yes\",    \"yes\",    \"yes\",    \"yes\",    \"yes\",    \"yes\",    \"yes\"],\n",
    "    [\"41.1\",    \"yes\",    \"yes\",    \"yes\",    \"yes\",    \"no\",    \"yes\",    \"yes\"],\n",
    "    [\"41.1\",    \"no\",    \"no\",    \"no\",    \"no\",    \"no\",    \"no\",    \"no\"],\n",
    "    [\"41.1\",    \"no\",    \"yes\",    \"yes\",    \"no\",    \"yes\",    \"no\",    \"yes\"],\n",
    "    [\"41.2\",    \"yes\",    \"yes\",    \"yes\",    \"yes\",    \"yes\",    \"yes\",    \"yes\"],\n",
    "    [\"41.2\",    \"no\",    \"no\",    \"no\",    \"no\",    \"no\",    \"no\",    \"no\"],\n",
    "    [\"41.2\",    \"no\",    \"yes\",    \"yes\",    \"no\",    \"yes\",    \"no\",    \"yes\"],\n",
    "    [\"41.3\",    \"yes\",    \"yes\",    \"yes\",    \"yes\",    \"no\",    \"yes\",    \"yes\"],\n",
    "    [\"41.4\",    \"no\",    \"yes\",    \"yes\",    \"no\",    \"yes\",    \"no\",    \"yes\"],\n",
    "    [\"41.5\",    \"no\",   \"no\",    \"no\",    \"no\",    \"no\",    \"no\",    \"no\"],\n",
    "    [\"41.5\",    \"yes\",    \"yes\",    \"no\",    \"yes\",    \"no\",    \"no\",    \"yes\"],\n",
    "    [\"41.5\",    \"no\",    \"yes\",    \"yes\",    \"no\",    \"yes\",    \"no\",    \"yes\"]\n",
    "]\n",
    "\n",
    "\n",
    "let patientDataTest : [[String]] = [\n",
    "  [\"temperature\", \"nausea\", \"lumbar pain\", \"urine pushing\", \"micturition pains\", \"Burning of urethra, itch, swelling of urethra outlet\", \"Inflamtation of urinary bladder\", \"Nephritis of renal pelvis origin\"],\n",
    "        [\"41.5\",    \"no\",    \"yes\",    \"yes\",    \"no\",    \"yes\",    \"no\",    \"yes\"],\n",
    "        [\"41.2\",    \"yes\",    \"yes\",    \"no\",    \"yes\",    \"no\",    \"no\",    \"yes\"],\n",
    "        [\"41.1\",    \"yes\",    \"yes\",    \"no\",    \"yes\",    \"no\",    \"no\",    \"yes\"],\n",
    "        [\"41.0\",    \"no\",    \"no\",    \"no\",    \"no\",    \"no\",    \"no\",    \"no\"],\n",
    "        [\"40.9\",    \"yes\",    \"yes\",    \"yes\",    \"yes\",    \"no\",    \"yes\",   \"yes\"],\n",
    "        [\"40.9\",    \"yes\",    \"yes\",    \"yes\",    \"yes\",    \"no\",    \"yes\",    \"yes\"],\n",
    "        [\"40.7\",    \"no\",    \"no\",    \"no\",    \"no\",    \"no\",    \"no\",    \"no\"],\n",
    "        [\"40.4\",    \"yes\",    \"yes\",    \"no\",    \"yes\",    \"no\",    \"no\",    \"yes\"],\n",
    "        [\"40.1\",    \"yes\",    \"yes\",    \"yes\",    \"yes\",    \"no\",    \"yes\",    \"yes\"],\n",
    "        [\"40.0\",    \"yes\",    \"yes\",    \"no\",    \"yes\",    \"no\",    \"no\",    \"yes\"],\n",
    "        [\"39.4\",    \"no\",    \"yes\",    \"yes\",    \"no\",    \"yes\",    \"no\",    \"yes\"],\n",
    "        [\"38.7\",    \"no\",    \"yes\",    \"yes\",    \"no\",    \"yes\",    \"no\",    \"yes\"],\n",
    "        [\"37.7\",    \"no\",    \"no\",    \"yes\",    \"yes\",    \"no\",    \"yes\",    \"no\"],\n",
    "        [\"37.5\",    \"no\",    \"no\",    \"yes\",    \"no\",    \"no\",    \"yes\",    \"no\"],\n",
    "        [\"37.0\",    \"no\",    \"no\",    \"yes\",    \"yes\",    \"yes\",    \"yes\",    \"no\"],\n",
    "        [\"35.9\",    \"no\",    \"yes\",    \"no\",    \"no\",    \"no\",    \"no\",    \"no\"]\n",
    " ]\n"
   ]
  },
  {
   "cell_type": "markdown",
   "metadata": {
    "colab_type": "text",
    "id": "WjJB6Wkdd4vw"
   },
   "source": [
    "## Fit a Decision Tree Classifier"
   ]
  },
  {
   "cell_type": "code",
   "execution_count": 4,
   "metadata": {
    "colab": {},
    "colab_type": "code",
    "id": "E5YrvnHBd4vy"
   },
   "outputs": [],
   "source": [
    "let cTree : DecisionTree = DecisionTree(data: patientDataTrain, target: 7, perform: \"classification\", using : \"gini\")"
   ]
  },
  {
   "cell_type": "markdown",
   "metadata": {
    "colab_type": "text",
    "id": "SQZBKwpZkZuW"
   },
   "source": [
    "### Classifying single example"
   ]
  },
  {
   "cell_type": "code",
   "execution_count": 5,
   "metadata": {
    "colab": {
     "base_uri": "https://localhost:8080/",
     "height": 34
    },
    "colab_type": "code",
    "executionInfo": {
     "elapsed": 472,
     "status": "ok",
     "timestamp": 1566417145245,
     "user": {
      "displayName": "Victor Antony",
      "photoUrl": "",
      "userId": "18391518674105965387"
     },
     "user_tz": -120
    },
    "id": "Z9ZQtivmkfWJ",
    "outputId": "37c174cf-2170-4257-e329-dc542a64c37b"
   },
   "outputs": [
    {
     "data": {
      "text/plain": [
       "\"no\"\n"
      ]
     },
     "execution_count": 5,
     "metadata": {},
     "output_type": "execute_result"
    }
   ],
   "source": [
    "let this = [\n",
    "    [\"temperature\", \"nausea\", \"lumbar pain\", \"urine pushing\", \"micturition pains\", \"Burning of urethra, itch, swelling of urethra outlet\", \"Inflamtation of urinary bladder\", \"Nephritis of renal pelvis origin\"],\n",
    "    [\"35.5\",    \"no\",    \"yes\",    \"no\",    \"no\",    \"no\",    \"no\",    \"?\"]\n",
    "]\n",
    "\n",
    "cTree.classify(example: this)"
   ]
  },
  {
   "cell_type": "markdown",
   "metadata": {
    "colab_type": "text",
    "id": "Keypoyz_jSG-"
   },
   "source": [
    "### Scoring model accuracy"
   ]
  },
  {
   "cell_type": "code",
   "execution_count": 6,
   "metadata": {
    "colab": {},
    "colab_type": "code",
    "id": "JVIOTzOAd4wA"
   },
   "outputs": [],
   "source": [
    "let treeOutput = cTree.score(testData: patientDataTest)"
   ]
  },
  {
   "cell_type": "code",
   "execution_count": 7,
   "metadata": {
    "colab": {
     "base_uri": "https://localhost:8080/",
     "height": 51
    },
    "colab_type": "code",
    "executionInfo": {
     "elapsed": 571,
     "status": "ok",
     "timestamp": 1566417151405,
     "user": {
      "displayName": "Victor Antony",
      "photoUrl": "",
      "userId": "18391518674105965387"
     },
     "user_tz": -120
    },
    "id": "HHgtfosTd4wD",
    "outputId": "21ceb4cc-f1ec-4a74-bbe1-2058660281de"
   },
   "outputs": [
    {
     "name": "stdout",
     "output_type": "stream",
     "text": [
      "accuracy:  100.0 %\r\n",
      "classifications:  [\"yes\", \"yes\", \"yes\", \"no\", \"yes\", \"yes\", \"no\", \"yes\", \"yes\", \"yes\", \"yes\", \"yes\", \"no\", \"no\", \"no\", \"no\"]\r\n"
     ]
    }
   ],
   "source": [
    "print(\"accuracy: \", treeOutput.0*100, \"%\")\n",
    "print(\"classifications: \", treeOutput.1)"
   ]
  },
  {
   "cell_type": "markdown",
   "metadata": {
    "colab_type": "text",
    "id": "T9oT6xf-uGOK"
   },
   "source": [
    "### Printing the tree"
   ]
  },
  {
   "cell_type": "code",
   "execution_count": 8,
   "metadata": {
    "colab": {
     "base_uri": "https://localhost:8080/",
     "height": 340
    },
    "colab_type": "code",
    "executionInfo": {
     "elapsed": 498,
     "status": "ok",
     "timestamp": 1566417172708,
     "user": {
      "displayName": "Victor Antony",
      "photoUrl": "",
      "userId": "18391518674105965387"
     },
     "user_tz": -120
    },
    "id": "O0kiB1EFvP6Q",
    "outputId": "c51c89f5-a207-40cc-abaa-a8b0f33f6cbf"
   },
   "outputs": [
    {
     "name": "stdout",
     "output_type": "stream",
     "text": [
      "  lumbar pain\r\n",
      "\r\n",
      "\r\n",
      "  no\r\n",
      "    no\r\n",
      "\r\n",
      "\r\n",
      "  yes\r\n",
      "    temperature\r\n",
      "\r\n",
      "\r\n",
      "    more than equal 37.9\r\n",
      "      yes\r\n",
      "\r\n",
      "\r\n",
      "    less than 37.9\r\n",
      "      no\r\n",
      "\r\n",
      "\r\n"
     ]
    }
   ],
   "source": [
    "cTree.displayTree()"
   ]
  },
  {
   "cell_type": "markdown",
   "metadata": {
    "colab_type": "text",
    "id": "7LezMj1ruTDH"
   },
   "source": [
    "## Fit a Decision Tree Regressor"
   ]
  },
  {
   "cell_type": "code",
   "execution_count": 9,
   "metadata": {
    "colab": {},
    "colab_type": "code",
    "id": "T9p9YlGauLn5"
   },
   "outputs": [],
   "source": [
    "let rTree : DecisionTree = DecisionTree(data: patientDataTrain, target: 0, perform: \"regression\", using : \"infogain\")"
   ]
  },
  {
   "cell_type": "markdown",
   "metadata": {
    "colab_type": "text",
    "id": "FuQUWwtGud-L"
   },
   "source": [
    "### Scoring model accuracy"
   ]
  },
  {
   "cell_type": "code",
   "execution_count": 10,
   "metadata": {
    "colab": {
     "base_uri": "https://localhost:8080/",
     "height": 71
    },
    "colab_type": "code",
    "executionInfo": {
     "elapsed": 683,
     "status": "ok",
     "timestamp": 1566417266155,
     "user": {
      "displayName": "Victor Antony",
      "photoUrl": "",
      "userId": "18391518674105965387"
     },
     "user_tz": -120
    },
    "id": "pgWe4X10ufFb",
    "outputId": "88923baa-1109-46c3-fe79-ad30fd03566c"
   },
   "outputs": [
    {
     "name": "stdout",
     "output_type": "stream",
     "text": [
      "RMSE Error:  0.6577052\r\n",
      "predictions:  [\"39.855553\", \"40.666668\", \"40.666668\", \"40.625\", \"40.62857\", \"40.62857\", \"40.625\", \"40.666668\", \"40.62857\", \"40.666668\", \"39.855553\", \"39.855553\", \"37.48889\", \"37.433334\", \"36.894737\", \"36.92632\"]\r\n"
     ]
    }
   ],
   "source": [
    "let treeOutput = rTree.score(testData: patientDataTest)\n",
    "\n",
    "print(\"RMSE Error: \", treeOutput.0)\n",
    "print(\"predictions: \", treeOutput.1)"
   ]
  },
  {
   "cell_type": "code",
   "execution_count": null,
   "metadata": {},
   "outputs": [],
   "source": []
  }
 ],
 "metadata": {
  "colab": {
   "collapsed_sections": [],
   "name": "DTreeTutorial.ipynb",
   "provenance": [],
   "version": "0.3.2"
  },
  "kernelspec": {
   "display_name": "Swift",
   "language": "swift",
   "name": "swift"
  },
  "language_info": {
   "file_extension": ".swift",
   "mimetype": "text/x-swift",
   "name": "swift",
   "version": ""
  }
 },
 "nbformat": 4,
 "nbformat_minor": 1
}

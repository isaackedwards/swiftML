{
 "cells": [
  {
   "cell_type": "markdown",
   "metadata": {
    "colab_type": "text",
    "id": "hN2Xlkfgd4vU"
   },
   "source": [
    "# Random Forest\n",
    "\n",
    "***\n",
    "### `class RandomForest(data: [[String]],target: Int, perform: String,using: String, nTrees: Int, nFeatures: Int, depth: Int)  `\n",
    "***\n",
    "\n",
    "## Parameters:\n",
    "  #### `data` : [[String]]\n",
    "  Data with labels (see format below)\n",
    "  #### `target`: *Int*\n",
    "  column number of the labels\n",
    "  Max depth tree to which the decision tree is grown\n",
    "  #### `perform`: *String*\n",
    "  whether to do regression or classification\n",
    "  #### `using`: *String*\n",
    "  whether to use infoGain or giniImpurity\n",
    "  #### `nTrees`: *String*\n",
    "  number of Trees\n",
    "  #### `nFeatures`: *String*\n",
    "  number of features to consider at each step\n",
    "  #### `tolerance`: *Float, default: 0.1*\n",
    "  Column number of the labels\n",
    "  \n",
    "\n",
    "***\n",
    "\n",
    "## Methods\n",
    "\n",
    "***\n",
    "\n",
    "  ### `make()` : Grows trees to fill the random forest \n",
    "\n",
    "  ***\n",
    "\n",
    "  ### `predict(this: [[String]])` : Classfies/Predicts an example by using all trees in the foret\n",
    "\n",
    "  ### parameters:\n",
    "  #### `this`: [[String]]\n",
    "  String array of sample with feature header to be classified/predicted\n",
    "\n",
    "  ### Returns:\n",
    "  Returns predicted classification/prediction as a string.  \n",
    "\n",
    "  ***\n",
    "  ### `score(with: [[String]])`: Scores the forest's accuracy on test data.\n",
    "\n",
    "  ### parameters:\n",
    "  #### `with`: [[String]]\n",
    "  test data as a 2D string array with feature header (see format below)\n",
    "\n",
    "  ### Returns:\n",
    "  Returns accuracy of predictions as float \n",
    "  and predictions as string array\n",
    "  \n",
    "***"
   ]
  },
  {
   "cell_type": "markdown",
   "metadata": {
    "colab_type": "text",
    "id": "LWF2kIiid4vW"
   },
   "source": [
    "# Example"
   ]
  },
  {
   "cell_type": "markdown",
   "metadata": {
    "colab_type": "text",
    "id": "Iep64439d4vX"
   },
   "source": [
    "<table class=\"tfo-notebook-buttons\" align=\"left\">\n",
    "  <td>\n",
    "    <a target=\"_blank\" href=\"https://colab.research.google.com/github/param087/swiftML/blob/master/Notebooks/RandomForestTutorial.ipynb\"><img src=\"https://www.tensorflow.org/images/colab_logo_32px.png\" />Run in Google Colab</a>\n",
    "  </td>\n",
    "  <td>\n",
    "    <a target=\"_blank\" href=\"https://github.com/param087/swiftML/blob/master/Notebooks/RandomForestTutorial.ipynb\"><img src=\"https://www.tensorflow.org/images/GitHub-Mark-32px.png\" />View source on GitHub</a>\n",
    "  </td>\n",
    "</table>"
   ]
  },
  {
   "cell_type": "markdown",
   "metadata": {
    "colab_type": "text",
    "id": "kcDTSCQcd4vc"
   },
   "source": [
    "## Install the swiftML package from GitHub."
   ]
  },
  {
   "cell_type": "code",
   "execution_count": 1,
   "metadata": {
    "colab": {},
    "colab_type": "code",
    "id": "wxCyCTsKd4vd"
   },
   "outputs": [
    {
     "name": "stdout",
     "output_type": "stream",
     "text": [
      "Installing packages:\n",
      "\t.package(url: \"https://github.com/param087/swiftML\", from: \"0.0.2\")\n",
      "\t\tswiftML\n",
      "With SwiftPM flags: []\n",
      "Working in: /tmp/tmptviw86go/swift-install\n",
      "Fetching https://github.com/param087/swiftML\n",
      "Completed resolution in 2.84s\n",
      "Cloning https://github.com/param087/swiftML\n",
      "Resolving https://github.com/param087/swiftML at 0.0.2\n",
      "Compile Swift Module 'swiftML' (16 sources)\n",
      "/tmp/tmptviw86go/swift-install/package/.build/checkouts/swiftML-1801b701/Sources/swiftML/KNeighborsClassifier.swift:106:13: warning: variable 'indices' was written to, but never read\n",
      "        var indices: Tensor<Int32>\n",
      "            ^\n",
      "\n",
      "/tmp/tmptviw86go/swift-install/package/.build/checkouts/swiftML-1801b701/Sources/swiftML/PCA.swift:158:13: warning: variable 'u' was written to, but never read\n",
      "        var u: Tensor<Double>\n",
      "            ^\n",
      "/tmp/tmptviw86go/swift-install/package/.build/checkouts/swiftML-1801b701/Sources/swiftML/RandomForest.swift:54:13: warning: variable 'outOfBootData' was written to, but never read\n",
      "        var outOfBootData: [[String]]\n",
      "            ^\n",
      "\n",
      "Compile Swift Module 'jupyterInstalledPackages' (1 sources)\n",
      "Linking ./.build/x86_64-unknown-linux/debug/libjupyterInstalledPackages.so\n",
      "Initializing Swift...\n",
      "Installation complete!\n"
     ]
    }
   ],
   "source": [
    "%install '.package(url: \"https://github.com/param087/swiftML\", from: \"0.0.4\")' swiftML"
   ]
  },
  {
   "cell_type": "markdown",
   "metadata": {
    "colab_type": "text",
    "id": "oI4v2EDQd4vh"
   },
   "source": [
    "## Import Swift packages"
   ]
  },
  {
   "cell_type": "code",
   "execution_count": 2,
   "metadata": {
    "colab": {},
    "colab_type": "code",
    "id": "rsVtX_Ihd4vi"
   },
   "outputs": [],
   "source": [
    "import TensorFlow\n",
    "import swiftML"
   ]
  },
  {
   "cell_type": "markdown",
   "metadata": {
    "colab_type": "text",
    "id": "GQMj84mad4vp"
   },
   "source": [
    "## Load dataset"
   ]
  },
  {
   "cell_type": "code",
   "execution_count": 3,
   "metadata": {
    "colab": {},
    "colab_type": "code",
    "id": "9Wxckr1hd4vq"
   },
   "outputs": [],
   "source": [
    "let patientDataTrain : [[String]] = [\n",
    "  [\"temperature\", \"nausea\", \"lumbar pain\", \"urine pushing\", \"micturition pains\", \"Burning of urethra, itch, swelling of urethra outlet\", \"Inflamtation of urinary bladder\", \"Nephritis of renal pelvis origin\"],\n",
    "    [\"35.5\",    \"no\",    \"yes\",    \"no\",    \"no\",    \"no\",    \"no\",    \"no\"],\n",
    "    [\"35.9\",    \"no\",    \"no\",    \"yes\",    \"yes\",    \"yes\",    \"yes\",    \"no\"],\n",
    "    [\"36.0\",    \"no\",    \"no\",    \"yes\",    \"yes\",    \"yes\",    \"yes\",    \"no\"],\n",
    "    [\"36.0\",    \"no\",    \"yes\",    \"no\",    \"no\",    \"no\",    \"no\",    \"no\"],\n",
    "    [\"36.0\",    \"no\",    \"yes\",    \"no\",    \"no\",    \"no\",    \"no\",    \"no\"],\n",
    "    [\"36.2\",    \"no\",    \"no\",    \"yes\",    \"yes\",    \"yes\",    \"yes\",    \"no\"],\n",
    "    [\"36.2\",    \"no\",    \"yes\",    \"no\",    \"no\",    \"no\",    \"no\",    \"no\"],\n",
    "    [\"36.3\",    \"no\",    \"no\",    \"yes\",    \"yes\",    \"yes\",    \"yes\",    \"no\"],\n",
    "    [\"36.6\",    \"no\",    \"no\",    \"yes\",    \"yes\",    \"yes\",    \"yes\",    \"no\"],\n",
    "    [\"36.6\",    \"no\",    \"no\",    \"yes\",    \"yes\",    \"yes\",    \"yes\",    \"no\"],\n",
    "    [\"36.6\",    \"no\",    \"yes\",    \"no\",    \"no\",    \"no\",    \"no\",    \"no\"],\n",
    "    [\"36.6\",    \"no\",    \"yes\",    \"no\",    \"no\",    \"no\",    \"no\",    \"no\"],\n",
    "    [\"36.7\",    \"no\",    \"no\",    \"yes\",    \"yes\",    \"yes\",    \"yes\", \"no\"],\n",
    "    [\"36.7\",    \"no\",    \"yes\",    \"no\",    \"no\",    \"no\",    \"no\",    \"no\"],\n",
    "    [\"36.7\",    \"no\",    \"yes\",    \"no\",    \"no\",    \"no\",    \"no\",    \"no\"],\n",
    "    [\"36.8\",    \"no\",    \"no\",    \"yes\",    \"yes\",    \"yes\",    \"yes\",    \"no\"],\n",
    "    [\"36.8\",    \"no\",    \"no\",   \"yes\",    \"yes\",    \"yes\",    \"yes\",    \"no\"],\n",
    "    [\"36.9\",    \"no\",    \"no\",    \"yes\",    \"yes\",    \"yes\",    \"yes\",    \"no\"],\n",
    "    [\"36.9\",    \"no\",    \"yes\",    \"no\",    \"no\",    \"no\",    \"no\",    \"no\"],\n",
    "    [\"37.0\",    \"no\",    \"no\",    \"yes\",    \"yes\",    \"no\",    \"yes\",    \"no\"],\n",
    "    [\"37.0\",    \"no\",    \"no\",    \"yes\",    \"yes\",    \"no\",    \"yes\",    \"no\"],\n",
    "    [\"37.0\",    \"no\",    \"yes\",    \"no\",    \"no\",    \"no\",    \"no\",    \"no\"],\n",
    "    [\"37.0\",    \"no\",    \"no\",    \"yes\",    \"yes\",    \"yes\",    \"yes\",    \"no\"],\n",
    "    [\"37.0\",    \"no\",    \"no\",    \"yes\",    \"yes\",    \"yes\",    \"yes\",    \"no\"],\n",
    "    [\"37.0\",    \"no\",    \"no\",    \"yes\",    \"yes\",    \"yes\",    \"yes\",    \"no\"],\n",
    "    [\"37.0\",    \"no\",    \"no\",    \"yes\",    \"no\",    \"no\",    \"yes\",    \"no\"],\n",
    "    [\"37.1\",    \"no\",    \"yes\",    \"no\",    \"no\",    \"no\",    \"no\",    \"no\"],\n",
    "    [\"37.1\",    \"no\",    \"no\",    \"yes\",    \"yes\",    \"yes\",    \"yes\",    \"no\"],\n",
    "    [\"37.1\",    \"no\",    \"no\",     \"yes\",    \"no\",    \"no\",    \"yes\",    \"no\"],\n",
    "    [\"37.2\",    \"no\",    \"no\",    \"yes\",    \"yes\",    \"no\",    \"yes\",    \"no\"],\n",
    "    [\"37.2\",    \"no\",    \"yes\",    \"no\",    \"no\",    \"no\",    \"no\",    \"no\"],\n",
    "    [\"37.2\",    \"no\",    \"no\",    \"yes\",    \"no\",    \"no\",    \"yes\",    \"no\"],\n",
    "    [\"37.3\",    \"no\",    \"yes\",    \"no\",    \"no\",    \"no\",    \"no\",    \"no\"],\n",
    "    [\"37.3\",    \"no\",    \"no\",    \"yes\",    \"yes\",    \"yes\",    \"yes\",    \"no\"],\n",
    "    [\"37.3\",    \"no\",    \"no\",    \"yes\",    \"no\",    \"no\",    \"yes\",    \"no\"],\n",
    "    [\"37.4\",    \"no\",    \"yes\",    \"no\",    \"no\",    \"no\",    \"no\",    \"no\"],\n",
    "    [\"37.4\",    \"no\",    \"no\",    \"yes\",    \"no\",    \"no\",    \"yes\",    \"no\"],\n",
    "    [\"37.5\",    \"no\",    \"no\",    \"yes\",    \"yes\",    \"no\",    \"yes\",    \"no\"],\n",
    "    [\"37.5\",    \"no\",    \"yes\",    \"no\",    \"no\",    \"no\",    \"no\",    \"no\"],\n",
    "    [\"37.5\",    \"no\",    \"yes\",    \"no\",    \"no\",    \"no\",    \"no\",    \"no\"],\n",
    "    [\"37.5\",    \"no\",    \"no\",    \"yes\",    \"yes\",    \"yes\",    \"yes\",    \"no\"],\n",
    "    [\"37.5\",    \"no\",    \"no\",    \"yes\",    \"no\",    \"no\",    \"yes\",    \"no\"],\n",
    "    [\"37.6\",    \"no\",    \"no\",    \"yes\",    \"yes\",    \"no\",    \"yes\",    \"no\"],\n",
    "    [\"37.6\",    \"no\",    \"no\",    \"yes\",    \"yes\",    \"no\",    \"yes\",    \"no\"],\n",
    "    [\"37.6\",    \"no\",    \"no\",    \"yes\",    \"yes\",    \"yes\",    \"yes\",    \"no\"],\n",
    "    [\"37.7\",    \"no\",    \"no\",    \"yes\",    \"yes\",    \"no\",    \"yes\",    \"no\"],\n",
    "    [\"37.7\",    \"no\",    \"yes\",    \"no\",    \"no\",    \"no\",    \"no\",    \"no\"],\n",
    "    [\"37.7\",    \"no\",    \"no\",    \"yes\",    \"no\",    \"no\",    \"yes\",    \"no\"],\n",
    "    [\"37.8\",    \"no\",    \"yes\",    \"no\",    \"no\",    \"no\",    \"no\",    \"no\"],\n",
    "    [\"37.8\",    \"no\",    \"no\",    \"yes\",    \"yes\",    \"yes\",    \"yes\",    \"no\"],\n",
    "    [\"37.8\",    \"no\",    \"no\",    \"yes\",    \"no\",    \"no\",    \"yes\",    \"no\"],\n",
    "    [\"37.9\",    \"no\",    \"no\",    \"yes\",    \"yes\",    \"no\",    \"yes\",    \"no\"],\n",
    "    [\"37.9\",    \"no\",    \"no\",    \"yes\",    \"yes\",    \"no\",    \"yes\",    \"no\"],\n",
    "    [\"37.9\",    \"no\",    \"yes\",    \"no\",    \"no\",    \"no\",    \"no\",    \"no\"],\n",
    "    [\"37.9\",    \"no\",    \"no\",    \"yes\",    \"yes\",    \"yes\",    \"yes\",    \"no\"],\n",
    "    [\"37.9\",    \"no\",    \"no\",    \"yes\",    \"no\",    \"no\",    \"yes\",    \"no\"],\n",
    "    [\"38.0\",    \"no\",    \"yes\",    \"yes\",    \"no\",    \"yes\",    \"no\",    \"yes\"],\n",
    "    [\"38.0\",    \"no\",    \"yes\",    \"yes\",    \"no\",    \"yes\",    \"no\",    \"yes\"],\n",
    "    [\"38.1\",    \"no\",    \"yes\",    \"yes\",    \"no\",    \"yes\",    \"no\",    \"yes\"],\n",
    "    [\"38.3\",    \"no\",    \"yes\",    \"yes\",    \"no\",    \"yes\",    \"no\",    \"yes\"],\n",
    "    [\"38.5\",    \"no\",    \"yes\",    \"yes\",    \"no\",    \"yes\",    \"no\",    \"yes\"],\n",
    "    [\"38.9\",    \"no\",    \"yes\",    \"yes\",    \"no\",    \"yes\",    \"no\",    \"yes\"],\n",
    "    [\"39.0\",    \"no\",    \"yes\",    \"yes\",    \"no\",    \"yes\",    \"no\",    \"yes\"],\n",
    "    [\"39.7\",    \"no\",    \"yes\",    \"yes\",    \"no\",    \"yes\",    \"no\",    \"yes\"],\n",
    "    [\"40.0\",    \"yes\",    \"yes\",    \"yes\",    \"yes\",    \"yes\",    \"yes\",    \"yes\"],\n",
    "    [\"40.0\",    \"yes\",    \"yes\",    \"yes\",    \"yes\",    \"yes\",    \"yes\",    \"yes\"],\n",
    "    [\"40.0\",    \"yes\",    \"yes\",    \"yes\",    \"yes\",    \"no\",    \"yes\",    \"yes\"],\n",
    "    [\"40.0\",    \"no\",    \"no\",    \"no\",    \"no\",    \"no\",    \"no\",    \"no\"],\n",
    "    [\"40.0\",    \"no\",    \"no\",    \"no\",    \"no\",    \"no\",    \"no\",    \"no\"],\n",
    "    [\"40.0\",    \"yes\",    \"yes\",    \"no\",    \"yes\",    \"no\",    \"no\",    \"yes\"],\n",
    "    [\"40.0\",    \"no\",    \"yes\",    \"yes\",    \"no\",    \"yes\",    \"no\",    \"yes\"],\n",
    "    [\"40.2\",    \"yes\",    \"yes\",    \"yes\",    \"yes\",    \"yes\",    \"yes\",    \"yes\"],\n",
    "    [\"40.2\",    \"no\",    \"no\",    \"no\",    \"no\",    \"no\",    \"no\",    \"no\"],\n",
    "    [\"40.2\",    \"yes\",    \"yes\",    \"no\",    \"yes\",    \"no\",    \"no\",    \"yes\"],\n",
    "    [\"40.3\",    \"no\",    \"yes\",    \"yes\",    \"no\",    \"yes\",    \"no\",    \"yes\"],\n",
    "    [\"40.4\",    \"yes\",    \"yes\",    \"yes\",    \"yes\",    \"yes\",    \"yes\",    \"yes\"],\n",
    "    [\"40.4\",    \"yes\",    \"yes\",    \"yes\",    \"yes\",    \"no\",    \"yes\",    \"yes\"],\n",
    "    [\"40.4\",    \"yes\",    \"yes\",    \"yes\",    \"yes\",    \"no\",    \"yes\",    \"yes\"],\n",
    "    [\"40.4\",    \"no\",    \"no\",    \"no\",    \"no\",    \"no\",    \"no\",    \"no\"],\n",
    "    [\"40.5\",    \"yes\",    \"yes\",    \"yes\",    \"yes\",    \"no\",    \"yes\",    \"yes\"],\n",
    "    [\"40.6\",    \"yes\",    \"yes\",    \"yes\",    \"yes\",    \"yes\",    \"yes\",    \"yes\"],\n",
    "    [\"40.6\",    \"no\",    \"no\",    \"no\",    \"no\",    \"no\",    \"no\",    \"no\"],\n",
    "    [\"40.6\",    \"yes\",    \"yes\",    \"no\",    \"yes\",    \"no\",    \"no\",    \"yes\"],\n",
    "    [\"40.7\",    \"yes\",    \"yes\",    \"yes\",    \"yes\",    \"yes\",    \"yes\",    \"yes\"],\n",
    "    [\"40.7\",    \"yes\",    \"yes\",    \"yes\",    \"yes\",    \"no\",    \"yes\",    \"yes\"],\n",
    "    [\"40.7\",    \"yes\",    \"yes\",    \"no\",    \"yes\",    \"no\",    \"no\",   \"yes\"],\n",
    "    [\"40.7\",    \"no\",    \"yes\",   \"yes\",    \"no\",    \"yes\",    \"no\",    \"yes\"],\n",
    "    [\"40.8\",    \"no\",    \"yes\",    \"yes\",    \"no\",    \"yes\",    \"no\",    \"yes\"],\n",
    "    [\"40.9\",    \"no\",    \"yes\",    \"yes\",    \"no\",    \"yes\",    \"no\",    \"yes\"],\n",
    "    [\"41.0\",    \"yes\",    \"yes\",    \"yes\",    \"yes\",    \"yes\",    \"yes\",    \"yes\"],\n",
    "    [\"41.0\",    \"yes\",    \"yes\",    \"no\",    \"yes\",   \"no\",    \"no\",    \"yes\"],\n",
    "    [\"41.0\",    \"no\",    \"yes\",    \"yes\",    \"no\",    \"yes\",    \"no\",    \"yes\"],\n",
    "    [\"41.1\",    \"yes\",    \"yes\",    \"yes\",    \"yes\",    \"yes\",    \"yes\",    \"yes\"],\n",
    "    [\"41.1\",    \"yes\",    \"yes\",    \"yes\",    \"yes\",    \"no\",    \"yes\",    \"yes\"],\n",
    "    [\"41.1\",    \"no\",    \"no\",    \"no\",    \"no\",    \"no\",    \"no\",    \"no\"],\n",
    "    [\"41.1\",    \"no\",    \"yes\",    \"yes\",    \"no\",    \"yes\",    \"no\",    \"yes\"],\n",
    "    [\"41.2\",    \"yes\",    \"yes\",    \"yes\",    \"yes\",    \"yes\",    \"yes\",    \"yes\"],\n",
    "    [\"41.2\",    \"no\",    \"no\",    \"no\",    \"no\",    \"no\",    \"no\",    \"no\"],\n",
    "    [\"41.2\",    \"no\",    \"yes\",    \"yes\",    \"no\",    \"yes\",    \"no\",    \"yes\"],\n",
    "    [\"41.3\",    \"yes\",    \"yes\",    \"yes\",    \"yes\",    \"no\",    \"yes\",    \"yes\"],\n",
    "    [\"41.4\",    \"no\",    \"yes\",    \"yes\",    \"no\",    \"yes\",    \"no\",    \"yes\"],\n",
    "    [\"41.5\",    \"no\",   \"no\",    \"no\",    \"no\",    \"no\",    \"no\",    \"no\"],\n",
    "    [\"41.5\",    \"yes\",    \"yes\",    \"no\",    \"yes\",    \"no\",    \"no\",    \"yes\"],\n",
    "    [\"41.5\",    \"no\",    \"yes\",    \"yes\",    \"no\",    \"yes\",    \"no\",    \"yes\"]\n",
    "]\n",
    "\n",
    "\n",
    "let patientDataTest : [[String]] = [\n",
    "  [\"temperature\", \"nausea\", \"lumbar pain\", \"urine pushing\", \"micturition pains\", \"Burning of urethra, itch, swelling of urethra outlet\", \"Inflamtation of urinary bladder\", \"Nephritis of renal pelvis origin\"],\n",
    "        [\"41.5\",    \"no\",    \"yes\",    \"yes\",    \"no\",    \"yes\",    \"no\",    \"yes\"],\n",
    "        [\"41.2\",    \"yes\",    \"yes\",    \"no\",    \"yes\",    \"no\",    \"no\",    \"yes\"],\n",
    "        [\"41.1\",    \"yes\",    \"yes\",    \"no\",    \"yes\",    \"no\",    \"no\",    \"yes\"],\n",
    "        [\"41.0\",    \"no\",    \"no\",    \"no\",    \"no\",    \"no\",    \"no\",    \"no\"],\n",
    "        [\"40.9\",    \"yes\",    \"yes\",    \"yes\",    \"yes\",    \"no\",    \"yes\",   \"yes\"],\n",
    "        [\"40.9\",    \"yes\",    \"yes\",    \"yes\",    \"yes\",    \"no\",    \"yes\",    \"yes\"],\n",
    "        [\"40.7\",    \"no\",    \"no\",    \"no\",    \"no\",    \"no\",    \"no\",    \"no\"],\n",
    "        [\"40.4\",    \"yes\",    \"yes\",    \"no\",    \"yes\",    \"no\",    \"no\",    \"yes\"],\n",
    "        [\"40.1\",    \"yes\",    \"yes\",    \"yes\",    \"yes\",    \"no\",    \"yes\",    \"yes\"],\n",
    "        [\"40.0\",    \"yes\",    \"yes\",    \"no\",    \"yes\",    \"no\",    \"no\",    \"yes\"],\n",
    "        [\"39.4\",    \"no\",    \"yes\",    \"yes\",    \"no\",    \"yes\",    \"no\",    \"yes\"],\n",
    "        [\"38.7\",    \"no\",    \"yes\",    \"yes\",    \"no\",    \"yes\",    \"no\",    \"yes\"],\n",
    "        [\"37.7\",    \"no\",    \"no\",    \"yes\",    \"yes\",    \"no\",    \"yes\",    \"no\"],\n",
    "        [\"37.5\",    \"no\",    \"no\",    \"yes\",    \"no\",    \"no\",    \"yes\",    \"no\"],\n",
    "        [\"37.0\",    \"no\",    \"no\",    \"yes\",    \"yes\",    \"yes\",    \"yes\",    \"no\"],\n",
    "        [\"35.9\",    \"no\",    \"yes\",    \"no\",    \"no\",    \"no\",    \"no\",    \"no\"]\n",
    " ]\n"
   ]
  },
  {
   "cell_type": "markdown",
   "metadata": {
    "colab_type": "text",
    "id": "WjJB6Wkdd4vw"
   },
   "source": [
    "## Fit a Random Forest Classifier"
   ]
  },
  {
   "cell_type": "code",
   "execution_count": 4,
   "metadata": {
    "colab": {},
    "colab_type": "code",
    "id": "E5YrvnHBd4vy"
   },
   "outputs": [],
   "source": [
    "let RF = RandomForest(data: patientDataTrain,\n",
    "                      target: 6, perform: \"classification\",\n",
    "                      using: \"gini\", nTrees: 100,\n",
    "                      nFeatures: 3, depth: 5)"
   ]
  },
  {
   "cell_type": "code",
   "execution_count": 5,
   "metadata": {
    "colab": {},
    "colab_type": "code",
    "id": "I21pEpDrxVnM"
   },
   "outputs": [],
   "source": [
    "RF.make()"
   ]
  },
  {
   "cell_type": "markdown",
   "metadata": {
    "colab_type": "text",
    "id": "SQZBKwpZkZuW"
   },
   "source": [
    "### Classifying single example\n",
    "\n",
    "\n"
   ]
  },
  {
   "cell_type": "code",
   "execution_count": 6,
   "metadata": {
    "colab": {
     "base_uri": "https://localhost:8080/",
     "height": 34
    },
    "colab_type": "code",
    "id": "Z9ZQtivmkfWJ",
    "outputId": "ff1fbc11-09dc-4d2a-dc53-daa0abdfce4a"
   },
   "outputs": [
    {
     "name": "stdout",
     "output_type": "stream",
     "text": [
      "no\r\n"
     ]
    }
   ],
   "source": [
    "let sample = [[\"temperature\", \"nausea\", \"lumbar pain\", \"urine pushing\", \"micturition pains\", \"Burning of urethra, itch, swelling of urethra outlet\", \"Inflamtation of urinary bladder\", \"Nephritis of renal pelvis origin\"], \n",
    "              [\"41.5\",    \"no\",    \"yes\",    \"yes\",    \"no\",    \"yes\",    \"?\",    \"yes\"]]\n",
    "\n",
    "let singleClassification = RF.predict(this: sample)\n",
    "\n",
    "print(singleClassification)"
   ]
  },
  {
   "cell_type": "markdown",
   "metadata": {
    "colab_type": "text",
    "id": "Keypoyz_jSG-"
   },
   "source": [
    "### Scoring model accuracy"
   ]
  },
  {
   "cell_type": "code",
   "execution_count": 7,
   "metadata": {
    "colab": {},
    "colab_type": "code",
    "id": "JVIOTzOAd4wA"
   },
   "outputs": [],
   "source": [
    "let forestOutput = RF.score(with: patientDataTest)"
   ]
  },
  {
   "cell_type": "code",
   "execution_count": 8,
   "metadata": {
    "colab": {
     "base_uri": "https://localhost:8080/",
     "height": 51
    },
    "colab_type": "code",
    "id": "HHgtfosTd4wD",
    "outputId": "a4efdadb-1ff2-42c7-e624-31d0a17c2ac5"
   },
   "outputs": [
    {
     "name": "stdout",
     "output_type": "stream",
     "text": [
      "accuracy:  100.0 %\r\n",
      "classifications:  [\"no\", \"no\", \"no\", \"no\", \"yes\", \"yes\", \"no\", \"no\", \"yes\", \"no\", \"no\", \"no\", \"yes\", \"yes\", \"yes\", \"no\"]\r\n"
     ]
    }
   ],
   "source": [
    "print(\"accuracy: \", forestOutput.0*100, \"%\")\n",
    "print(\"classifications: \", forestOutput.1)"
   ]
  },
  {
   "cell_type": "markdown",
   "metadata": {
    "colab_type": "text",
    "id": "7LezMj1ruTDH"
   },
   "source": [
    "## Fit a Decision Tree Regressor"
   ]
  },
  {
   "cell_type": "code",
   "execution_count": 9,
   "metadata": {
    "colab": {},
    "colab_type": "code",
    "id": "T9p9YlGauLn5"
   },
   "outputs": [],
   "source": [
    "let RF = RandomForest(data: patientDataTrain,\n",
    "                      target: 0, perform: \"regression\",\n",
    "                      using: \"gini\", nTrees: 100,\n",
    "                      nFeatures: 3, depth: 5)"
   ]
  },
  {
   "cell_type": "code",
   "execution_count": 10,
   "metadata": {
    "colab": {},
    "colab_type": "code",
    "id": "MkUojSLvxq90"
   },
   "outputs": [],
   "source": [
    "RF.make()"
   ]
  },
  {
   "cell_type": "markdown",
   "metadata": {
    "colab_type": "text",
    "id": "FuQUWwtGud-L"
   },
   "source": [
    "### Scoring model accuracy"
   ]
  },
  {
   "cell_type": "code",
   "execution_count": 11,
   "metadata": {
    "colab": {
     "base_uri": "https://localhost:8080/",
     "height": 71
    },
    "colab_type": "code",
    "id": "pgWe4X10ufFb",
    "outputId": "a2a9e72e-ea3d-4d16-8efc-ddcc676e81de"
   },
   "outputs": [
    {
     "name": "stdout",
     "output_type": "stream",
     "text": [
      "RMSE Error:  0.7225346\r\n",
      "predictions:  [\"39.85768\", \"40.63902\", \"40.63902\", \"40.147484\", \"40.614365\", \"40.614365\", \"40.147484\", \"40.63902\", \"40.614365\", \"40.63902\", \"39.85768\", \"39.85768\", \"37.416653\", \"37.430756\", \"36.925903\", \"37.150177\"]\r\n"
     ]
    }
   ],
   "source": [
    "let forestOutput = RF.score(with: patientDataTest)\n",
    "\n",
    "print(\"RMSE Error: \", forestOutput.0)\n",
    "print(\"predictions: \", forestOutput.1)\n"
   ]
  },
  {
   "cell_type": "code",
   "execution_count": null,
   "metadata": {},
   "outputs": [],
   "source": []
  }
 ],
 "metadata": {
  "colab": {
   "collapsed_sections": [],
   "name": "RForestTutorial.ipynb",
   "provenance": [],
   "version": "0.3.2"
  },
  "kernelspec": {
   "display_name": "Swift",
   "language": "swift",
   "name": "swift"
  },
  "language_info": {
   "file_extension": ".swift",
   "mimetype": "text/x-swift",
   "name": "swift",
   "version": ""
  }
 },
 "nbformat": 4,
 "nbformat_minor": 1
}
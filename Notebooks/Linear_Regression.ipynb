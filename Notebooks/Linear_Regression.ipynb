{
 "cells": [
  {
   "cell_type": "markdown",
   "metadata": {},
   "source": [
    "## Installation command for local Repository"
   ]
  },
  {
   "cell_type": "code",
   "execution_count": 1,
   "metadata": {
    "scrolled": false
   },
   "outputs": [
    {
     "name": "stdout",
     "output_type": "stream",
     "text": [
      "Installing packages:\n",
      "\t.package(path: \"/home/param/GSOC19/github/swiftML\")\n",
      "\t\tswiftML\n",
      "With SwiftPM flags: []\n",
      "Working in: /tmp/tmpckf4txr2/swift-install\n",
      "Completed resolution in 0.39s\n",
      "Compile Swift Module 'swiftML' (12 sources)\n",
      "/home/param/GSOC19/github/swiftML/Sources/swiftML/KNeighborsClassifier.swift:128:13: warning: variable 'indices' was written to, but never read\n",
      "        var indices: Tensor<Int32>\n",
      "            ^\n",
      "\n",
      "/home/param/GSOC19/github/swiftML/Sources/swiftML/SVC.swift:49:13: warning: initialization of immutable value 'd' was never used; consider replacing with assignment to '_' or removing it\n",
      "        let d = x.shape[1]\n",
      "        ~~~~^\n",
      "        _\n",
      "/home/param/GSOC19/github/swiftML/Sources/swiftML/SVC.swift:299:13: warning: initialization of immutable value 'n' was never used; consider replacing with assignment to '_' or removing it\n",
      "        let n = a.shape[0]\n",
      "        ~~~~^\n",
      "        _\n",
      "/home/param/GSOC19/github/swiftML/Sources/swiftML/SVC.swift:300:13: warning: initialization of immutable value 'm' was never used; consider replacing with assignment to '_' or removing it\n",
      "        let m = a.shape[1]\n",
      "        ~~~~^\n",
      "        _\n",
      "\n",
      "Compile Swift Module 'jupyterInstalledPackages' (1 sources)\n",
      "Linking ./.build/x86_64-unknown-linux/debug/libjupyterInstalledPackages.so\n",
      "Initializing Swift...\n",
      "Installation complete!\n"
     ]
    }
   ],
   "source": [
    "%install '.package(path: \"/home/param/GSOC19/github/swiftML\")' swiftML"
   ]
  },
  {
   "cell_type": "code",
   "execution_count": 2,
   "metadata": {},
   "outputs": [],
   "source": [
    "import TensorFlow\n",
    "import swiftML"
   ]
  },
  {
   "cell_type": "markdown",
   "metadata": {},
   "source": [
    "### Dataset"
   ]
  },
  {
   "cell_type": "code",
   "execution_count": 3,
   "metadata": {},
   "outputs": [],
   "source": [
    "let features = Tensor<Float>([[10], [9], [2], [15], [10], [16], [11], [16]])\n",
    "let labels = Tensor<Float>([[95], [80], [10], [50], [45], [98], [38], [93]])"
   ]
  },
  {
   "cell_type": "markdown",
   "metadata": {},
   "source": [
    "## Linear Regression with least square method"
   ]
  },
  {
   "cell_type": "code",
   "execution_count": 4,
   "metadata": {},
   "outputs": [
    {
     "name": "stdout",
     "output_type": "stream",
     "text": [
      "Score:  0.4370948\r\n",
      "Weights:  [[12.5846615],\r\n",
      " [ 4.5878954]]\r\n"
     ]
    }
   ],
   "source": [
    "let model = LinearRegression(gradientDescent: false)\n",
    "model.fit(data: features, labels: labels)\n",
    "let yPred = model.prediction(for: features)\n",
    "print(\"Score: \", model.score(data: features, labels: labels))\n",
    "print(\"Weights: \", model.weights)"
   ]
  },
  {
   "cell_type": "code",
   "execution_count": 5,
   "metadata": {},
   "outputs": [
    {
     "name": "stdout",
     "output_type": "stream",
     "text": [
      "2.7.15+ (default, Nov 27 2018, 23:36:35) \r\n",
      "[GCC 7.3.0]\r\n"
     ]
    }
   ],
   "source": [
    "import Python\n",
    "print(Python.version)"
   ]
  },
  {
   "cell_type": "markdown",
   "metadata": {},
   "source": [
    "### Visualization"
   ]
  },
  {
   "cell_type": "code",
   "execution_count": 6,
   "metadata": {
    "scrolled": true
   },
   "outputs": [],
   "source": [
    "%include \"EnableIPythonDisplay.swift\"\n",
    "IPythonDisplay.shell.enable_matplotlib(\"inline\")\n",
    "\n",
    "let np = Python.import(\"numpy\")\n",
    "\n",
    "let plt = Python.import(\"matplotlib.pyplot\")"
   ]
  },
  {
   "cell_type": "code",
   "execution_count": 7,
   "metadata": {},
   "outputs": [],
   "source": [
    "let x = features.makeNumpyArray()\n",
    "let y = labels.makeNumpyArray()\n",
    "let yP = yPred.makeNumpyArray()"
   ]
  },
  {
   "cell_type": "code",
   "execution_count": 8,
   "metadata": {},
   "outputs": [
    {
     "data": {
      "image/png": "[encoded data removed]",
      "text/plain": [
       "<Figure size 720x432 with 1 Axes>"
      ]
     },
     "metadata": {
      "needs_background": "light"
     },
     "output_type": "display_data"
    },
    {
     "data": {
      "text/plain": [
       "None\n"
      ]
     },
     "execution_count": 8,
     "metadata": {},
     "output_type": "execute_result"
    }
   ],
   "source": [
    "plt.figure(figsize: [10, 6])\n",
    "\n",
    "plt.plot(x, yP)\n",
    "plt.scatter(x, y)\n",
    "\n",
    "plt.xlabel(\"features\")\n",
    "plt.ylabel(\"labels\")\n",
    "plt.title(\"Linear Regression using least square method\")\n",
    "\n",
    "plt.show()"
   ]
  },
  {
   "cell_type": "markdown",
   "metadata": {},
   "source": [
    "## Linear Regression with Gradient Descent"
   ]
  },
  {
   "cell_type": "code",
   "execution_count": 9,
   "metadata": {},
   "outputs": [
    {
     "name": "stdout",
     "output_type": "stream",
     "text": [
      "Score:  0.43709487\r\n",
      "Weights:  [[ 12.58417],\r\n",
      " [4.5879345]]\r\n"
     ]
    }
   ],
   "source": [
    "let modelG = LinearRegression(gradientDescent: true, iterations: 100000, learningRate: 0.001)\n",
    "modelG.fit(data: features, labels: labels)\n",
    "let yPredG = modelG.prediction(for: features)\n",
    "print(\"Score: \", modelG.score(data: features, labels: labels))\n",
    "print(\"Weights: \",modelG.weights)"
   ]
  },
  {
   "cell_type": "code",
   "execution_count": 10,
   "metadata": {},
   "outputs": [],
   "source": [
    "let yPG = yPredG.makeNumpyArray()"
   ]
  },
  {
   "cell_type": "code",
   "execution_count": 11,
   "metadata": {},
   "outputs": [
    {
     "data": {
      "image/png": "[encoded data removed]",
      "text/plain": [
       "<Figure size 720x432 with 1 Axes>"
      ]
     },
     "metadata": {
      "needs_background": "light"
     },
     "output_type": "display_data"
    },
    {
     "data": {
      "text/plain": [
       "None\n"
      ]
     },
     "execution_count": 11,
     "metadata": {},
     "output_type": "execute_result"
    }
   ],
   "source": [
    "plt.figure(figsize: [10, 6])\n",
    "\n",
    "plt.plot(x, yPG)\n",
    "plt.scatter(x, y)\n",
    "\n",
    "plt.xlabel(\"features\")\n",
    "plt.ylabel(\"labels\")\n",
    "plt.title(\"Linear Regression using gradient descent\")\n",
    "\n",
    "plt.show()"
   ]
  },
  {
   "cell_type": "code",
   "execution_count": null,
   "metadata": {},
   "outputs": [],
   "source": []
  }
 ],
 "metadata": {
  "kernelspec": {
   "display_name": "Swift",
   "language": "swift",
   "name": "swift"
  },
  "language_info": {
   "file_extension": ".swift",
   "mimetype": "text/x-swift",
   "name": "swift",
   "version": ""
  }
 },
 "nbformat": 4,
 "nbformat_minor": 2
}

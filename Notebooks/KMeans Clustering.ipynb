{
 "cells": [
  {
   "cell_type": "markdown",
   "metadata": {},
   "source": [
    "# KMeans Clustering\n",
    "\n",
    "***\n",
    "### `class KMeans(clusterCount: 2, maximumIterationCount: 300, initializer: \"kmean++\", seed: 0)`\n",
    "***\n",
    "\n",
    "## Parameters:\n",
    "  #### `clusterCount`: *Int, optional, default `2`*\n",
    "  The number of clusters to form as well as the number of centroids to generate.\n",
    "  #### `maximumIterationCount`: *Int, optional, default `300`*\n",
    "  Maximum number of iterations of the k-means algorithm for a single run.\n",
    "  #### `initializer`: *{`\"kmeans++\"` or `\"random\"`}, optional, default `\"kmeans++\"`*\n",
    "  Method for cluster initialization.\n",
    "  `\"kmeans++\"`: Heuristic Initialization of centroids. \n",
    "  `\"random\"`: Random Initialization of centroids.  \n",
    "  #### `seed`: *Int64, optional, default `0`*\n",
    "  Initialize a pseudo-random number generator for `\"kmeans++\"`.\n",
    "  \n",
    "\n",
    "## Attributes: \n",
    "  #### `centroids`: *Tensor, shape [centroid count, feature count]*\n",
    "  Coordinates of cluster centers.\n",
    "  #### `labels`: *Tensor, shape [sample count]*\n",
    "  Labels of each point.\n",
    "  #### `inertia`: *Tensor*\n",
    "  Inertia is the sum of square distances of samples to their closest cluster center.\n",
    "\n",
    "***\n",
    "\n",
    "## Methods\n",
    "\n",
    "***\n",
    "\n",
    "  ### `fit(data: Tensor)`:  Fit a KMeans cluster.\n",
    "\n",
    "  ### Parameters:\n",
    "\n",
    "  #### `data`: *Tensor, shape [sample count, feature count]*\n",
    "  Training data.\n",
    "\n",
    "  ***\n",
    "\n",
    "  ### `prediction(for: Tensor)`: Predict the closest cluster given sample belongs.\n",
    "\n",
    "  ### Parameters:\n",
    "  #### `for`: *Tensor, shape [sample count, feature count]*\n",
    "  Sample data.\n",
    "\n",
    "  ### Returns:\n",
    "  Returns predicted closest cluster given sample.  \n",
    "\n",
    "  ***\n",
    "  ### `score()`: Returns the sum of square distances of samples to their closest cluster center.\n",
    "\n",
    "  ### Returns:\n",
    "  Sum of square distances of samples to their closest cluster center.\n",
    "\n",
    "\n",
    "  ***\n",
    "\n",
    "  ### `transformation(for: Tensor)`: Transform input to a cluster-distance space.\n",
    "\n",
    "  ### Parameters:\n",
    "  #### `for`: *Tensor, shape [sample count, feature count]*\n",
    "  New data to transform.\n",
    "\n",
    "  ### Returns:\n",
    "  Returns input transformed in the new space.\n",
    "\n",
    "  ***\n",
    "\n",
    "  ### `fitAndPrediction(for: Tensor)`: \tCompute cluster centers and predict the closest cluster given sample belongs.\n",
    "\n",
    "  ### Parameters:\n",
    "  #### `for`: *Tensor, shape [sample count, feature count]*\n",
    "  Sample data.\n",
    "\n",
    "  ### Returns:\n",
    "  Returns predicted closest cluster given sample.  \n",
    "\n",
    "  ***\n",
    "\n",
    "  ### `fitAndTransformation(for: Tensor)`: \tCompute cluster centers and transform input to a cluster-distance space.\n",
    "\n",
    "  ### Parameters:\n",
    "  #### `for`: *Tensor, shape [sample count, feature count]*\n",
    "  New data to transform.\n",
    "\n",
    "  ### Returns:\n",
    "  Returns input transformed in the new space.\n",
    "  \n",
    "***"
   ]
  },
  {
   "cell_type": "markdown",
   "metadata": {},
   "source": [
    "# Example"
   ]
  },
  {
   "cell_type": "markdown",
   "metadata": {},
   "source": [
    "<table class=\"tfo-notebook-buttons\" align=\"left\">\n",
    "  <td>\n",
    "    <a target=\"_blank\" href=\"https://colab.research.google.com/drive/1IXBztJeB-VyqLFm4nyNrJH8vHi8LIXuX\"><img src=\"https://www.tensorflow.org/images/colab_logo_32px.png\" />Run in Google Colab</a>\n",
    "  </td>\n",
    "  <td>\n",
    "    <a target=\"_blank\" href=\"https://github.com/param087/swiftML/blob/master/Notebooks/KMeans%20Clustering.ipynb\"><img src=\"https://www.tensorflow.org/images/GitHub-Mark-32px.png\" />View source on GitHub</a>\n",
    "  </td>\n",
    "</table>"
   ]
  },
  {
   "cell_type": "markdown",
   "metadata": {},
   "source": [
    "## Install the swiftML package from GitHub."
   ]
  },
  {
   "cell_type": "code",
   "execution_count": 1,
   "metadata": {},
   "outputs": [
    {
     "name": "stdout",
     "output_type": "stream",
     "text": [
      "Installing packages:\n",
      "\t.package(url: \"https://github.com/param087/swiftML\", from: \"0.0.2\")\n",
      "\t\tswiftML\n",
      "With SwiftPM flags: []\n",
      "Working in: /tmp/tmp_l3quisk/swift-install\n",
      "Fetching https://github.com/param087/swiftML\n",
      "Completed resolution in 2.93s\n",
      "Cloning https://github.com/param087/swiftML\n",
      "Resolving https://github.com/param087/swiftML at 0.0.2\n",
      "Compile Swift Module 'swiftML' (16 sources)\n",
      "/tmp/tmp_l3quisk/swift-install/package/.build/checkouts/swiftML-1801b701/Sources/swiftML/KNeighborsClassifier.swift:106:13: warning: variable 'indices' was written to, but never read\n",
      "        var indices: Tensor<Int32>\n",
      "            ^\n",
      "\n",
      "/tmp/tmp_l3quisk/swift-install/package/.build/checkouts/swiftML-1801b701/Sources/swiftML/PCA.swift:158:13: warning: variable 'u' was written to, but never read\n",
      "        var u: Tensor<Double>\n",
      "            ^\n",
      "/tmp/tmp_l3quisk/swift-install/package/.build/checkouts/swiftML-1801b701/Sources/swiftML/RandomForest.swift:54:13: warning: variable 'outOfBootData' was written to, but never read\n",
      "        var outOfBootData: [[String]]\n",
      "            ^\n",
      "\n",
      "Compile Swift Module 'jupyterInstalledPackages' (1 sources)\n",
      "Linking ./.build/x86_64-unknown-linux/debug/libjupyterInstalledPackages.so\n",
      "Initializing Swift...\n",
      "Installation complete!\n"
     ]
    }
   ],
   "source": [
    "%install '.package(url: \"https://github.com/param087/swiftML\", from: \"0.0.2\")' swiftML"
   ]
  },
  {
   "cell_type": "markdown",
   "metadata": {},
   "source": [
    "## Import Swift packages"
   ]
  },
  {
   "cell_type": "code",
   "execution_count": 2,
   "metadata": {},
   "outputs": [],
   "source": [
    "import TensorFlow\n",
    "import swiftML"
   ]
  },
  {
   "cell_type": "markdown",
   "metadata": {},
   "source": [
    "## Import Python modules"
   ]
  },
  {
   "cell_type": "code",
   "execution_count": 3,
   "metadata": {},
   "outputs": [],
   "source": [
    "%include \"EnableIPythonDisplay.swift\"\n",
    "IPythonDisplay.shell.enable_matplotlib(\"inline\")\n",
    "\n",
    "let np = Python.import(\"numpy\")\n",
    "\n",
    "let plt = Python.import(\"matplotlib.pyplot\")"
   ]
  },
  {
   "cell_type": "markdown",
   "metadata": {},
   "source": [
    "## Dataset"
   ]
  },
  {
   "cell_type": "code",
   "execution_count": 4,
   "metadata": {},
   "outputs": [],
   "source": [
    "let dataset = Tensor<Float>([[1, 1], [1, 2], [2, 2], [4, 5], [5, 4]])"
   ]
  },
  {
   "cell_type": "markdown",
   "metadata": {},
   "source": [
    "## KMeans with `random` initializer"
   ]
  },
  {
   "cell_type": "code",
   "execution_count": 5,
   "metadata": {},
   "outputs": [
    {
     "name": "stdout",
     "output_type": "stream",
     "text": [
      "Labels:  [[0],\r\n",
      " [0],\r\n",
      " [0],\r\n",
      " [1],\r\n",
      " [1]]\r\n",
      "Inertia:  2.3333335\r\n",
      "Transformation:  [[ 0.7453561,  4.9497476],\r\n",
      " [ 0.4714045,  4.3011627],\r\n",
      " [ 0.7453559,   3.535534],\r\n",
      " [  4.268749, 0.70710677],\r\n",
      " [ 4.3461347, 0.70710677]]\r\n"
     ]
    }
   ],
   "source": [
    "let model = KMeans(clusterCount: 2, maximumIterationCount: 100, initializer: \"random\")\n",
    "model.fit(data: dataset)\n",
    "print(\"Labels: \",model.labels)\n",
    "print(\"Inertia: \",model.inertia)\n",
    "print(\"Transformation: \",model.transformation(for: dataset))"
   ]
  },
  {
   "cell_type": "code",
   "execution_count": 6,
   "metadata": {},
   "outputs": [
    {
     "data": {
      "text/plain": [
       "[[1.3333334, 1.6666667],\n",
       " [      4.5,       4.5]]\n"
      ]
     },
     "execution_count": 6,
     "metadata": {},
     "output_type": "execute_result"
    }
   ],
   "source": [
    "model.centroids"
   ]
  },
  {
   "cell_type": "code",
   "execution_count": 7,
   "metadata": {},
   "outputs": [
    {
     "data": {
      "text/plain": [
       "[[1],\n",
       " [0],\n",
       " [1]]\n"
      ]
     },
     "execution_count": 7,
     "metadata": {},
     "output_type": "execute_result"
    }
   ],
   "source": [
    "let testdata = Tensor<Float>([[3,4], [2,3], [5, 5]])\n",
    "model.prediction(for: testdata)"
   ]
  },
  {
   "cell_type": "code",
   "execution_count": 8,
   "metadata": {},
   "outputs": [],
   "source": [
    "let y = model.labels.makeNumpyArray()\n",
    "let centroids = model.centroids.makeNumpyArray()\n",
    "\n",
    "let dataNP = dataset.makeNumpyArray()\n",
    "let colors2 = [\"red\",\"blue\"]"
   ]
  },
  {
   "cell_type": "code",
   "execution_count": 9,
   "metadata": {},
   "outputs": [
    {
     "data": {
      "image/png": "[encoded data removed]",
      "text/plain": [
       "<Figure size 720x432 with 1 Axes>"
      ]
     },
     "metadata": {
      "needs_background": "light"
     },
     "output_type": "display_data"
    },
    {
     "data": {
      "text/plain": [
       "None\n"
      ]
     },
     "execution_count": 9,
     "metadata": {},
     "output_type": "execute_result"
    }
   ],
   "source": [
    "plt.figure(figsize: [10, 6])\n",
    "\n",
    "for i in 0..<dataset.shape[0] {\n",
    "    let id:Int = Int(y[i][0])!\n",
    "    plt.scatter(dataNP[i][0], dataNP[i][1], color: colors2[id])\n",
    "}\n",
    "\n",
    "for i in 0..<model.centroids.shape[0] {\n",
    "    plt.scatter(centroids[i][0], centroids[i][1], color: \"black\", marker: \"*\")\n",
    "}\n",
    "\n",
    "plt.show()"
   ]
  },
  {
   "cell_type": "markdown",
   "metadata": {},
   "source": [
    "## Kmeans with `kmeans++` initializer"
   ]
  },
  {
   "cell_type": "code",
   "execution_count": 10,
   "metadata": {},
   "outputs": [
    {
     "name": "stdout",
     "output_type": "stream",
     "text": [
      "Labels:  [[0],\r\n",
      " [0],\r\n",
      " [0],\r\n",
      " [1],\r\n",
      " [1]]\r\n",
      "Inertia:  2.3333335\r\n",
      "Transformation:  [[ 0.7453561,  4.9497476],\r\n",
      " [ 0.4714045,  4.3011627],\r\n",
      " [ 0.7453559,   3.535534],\r\n",
      " [  4.268749, 0.70710677],\r\n",
      " [ 4.3461347, 0.70710677]]\r\n"
     ]
    }
   ],
   "source": [
    "let model = KMeans(clusterCount: 2, maximumIterationCount: 100, initializer: \"kmeans++\")\n",
    "model.fit(data: dataset)\n",
    "print(\"Labels: \",model.labels)\n",
    "print(\"Inertia: \",model.inertia)\n",
    "print(\"Transformation: \",model.transformation(for: dataset))"
   ]
  },
  {
   "cell_type": "code",
   "execution_count": 11,
   "metadata": {},
   "outputs": [
    {
     "data": {
      "text/plain": [
       "[[1],\n",
       " [0],\n",
       " [1]]\n"
      ]
     },
     "execution_count": 11,
     "metadata": {},
     "output_type": "execute_result"
    }
   ],
   "source": [
    "let testdata = Tensor<Float>([[3,4], [2,3], [5, 5]])\n",
    "model.prediction(for: testdata)"
   ]
  },
  {
   "cell_type": "code",
   "execution_count": 12,
   "metadata": {},
   "outputs": [],
   "source": [
    "let y = model.labels.makeNumpyArray()\n",
    "let centroids = model.centroids.makeNumpyArray()\n",
    "\n",
    "let dataNP = dataset.makeNumpyArray()\n",
    "let colors2 = [\"red\",\"blue\"]"
   ]
  },
  {
   "cell_type": "code",
   "execution_count": 13,
   "metadata": {},
   "outputs": [
    {
     "data": {
      "image/png": "[encoded data removed]",
      "text/plain": [
       "<Figure size 720x432 with 1 Axes>"
      ]
     },
     "metadata": {
      "needs_background": "light"
     },
     "output_type": "display_data"
    },
    {
     "data": {
      "text/plain": [
       "None\n"
      ]
     },
     "execution_count": 13,
     "metadata": {},
     "output_type": "execute_result"
    }
   ],
   "source": [
    "plt.figure(figsize: [10, 6])\n",
    "\n",
    "for i in 0..<dataset.shape[0] {\n",
    "    let id:Int = Int(y[i][0])!\n",
    "    plt.scatter(dataNP[i][0], dataNP[i][1], color: colors2[id])\n",
    "}\n",
    "\n",
    "for i in 0..<model.centroids.shape[0] {\n",
    "    plt.scatter(centroids[i][0], centroids[i][1], color: \"black\", marker: \"*\")\n",
    "}\n",
    "\n",
    "plt.show()"
   ]
  }
 ],
 "metadata": {
  "kernelspec": {
   "display_name": "Swift",
   "language": "swift",
   "name": "swift"
  },
  "language_info": {
   "file_extension": ".swift",
   "mimetype": "text/x-swift",
   "name": "swift",
   "version": ""
  }
 },
 "nbformat": 4,
 "nbformat_minor": 2
}

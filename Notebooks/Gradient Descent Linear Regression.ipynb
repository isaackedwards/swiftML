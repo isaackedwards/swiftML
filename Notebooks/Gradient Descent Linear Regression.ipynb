{
 "cells": [
  {
   "cell_type": "markdown",
   "metadata": {},
   "source": [
    "# Gradient Descent Linear Regression\n",
    "\n",
    "***\n",
    "### `class GradientDescentLinearRegression(iterationCount: 1000, learningRate: 0.001, fitIntercept: true)`\n",
    "***\n",
    "\n",
    "## Parameters:\n",
    "  #### `iterationCount`: *Int, optional, default `1000`*\n",
    "  The maximum number of passes over the training data.\n",
    "  #### `learningRate`: *Float, optional, default `0.001`*\n",
    "  The amount that the weights are updated during training.\n",
    "  #### `fitIntercept`: *Bool, optional, default `true`*\n",
    "  Whether to calculate the intercept for this model. If set to `false`, no intercept will be used in calculations.\n",
    "\n",
    "## Attributes: \n",
    "  #### `weights`: *Tensor, shape [feature count, target count]*\n",
    "  Estimated intercepts and coefficients for the linear regression problem. If `fitIntercept: true` first row in tensor represent intercept and remaining rows represent coefficients, else tensor matrix represent the coefficients for the linear regression.\n",
    "\n",
    "***\n",
    "\n",
    "## Methods\n",
    "\n",
    "***\n",
    "\n",
    "  ### `fit(data: Tensor, labels: Tensor)`:  Fit a linear model.\n",
    "\n",
    "  ### parameters:\n",
    "\n",
    "  #### `data`: *Tensor, shape [sample count, feature count]*\n",
    "  Training data.\n",
    "  #### `labels`: *Tensor, shape [sample count, target count]*  \n",
    "  Target data.\n",
    "\n",
    "  ***\n",
    "\n",
    "  ### `prediction(for: Tensor)`: Prediction using a linear model.\n",
    "\n",
    "  ### parameters:\n",
    "  #### `for`: *Tensor, shape [sample count, feature count]*\n",
    "  Sample data.\n",
    "\n",
    "  ### Returns:\n",
    "  Returns predicted values.  \n",
    "\n",
    "  ***\n",
    "  ### `score(data: Tensor, labels: Tensor)`: Returns the coefficient of determination $R^2$ for the prediction.\n",
    "\n",
    "  ### parameters:\n",
    "  #### `data`: *Tensor, shape [sample count, feature count]*\n",
    "  Test sample data.\n",
    "  #### `labels`: *Tensor, shape [sample count, target count]*  \n",
    "  True value for test sample data.\n",
    "\n",
    "  ### Returns:\n",
    "  Returns the coefficient of determination $R^2$\n",
    "  \n",
    "***"
   ]
  },
  {
   "cell_type": "markdown",
   "metadata": {},
   "source": [
    "# Example"
   ]
  },
  {
   "cell_type": "markdown",
   "metadata": {},
   "source": [
    "##  Install the swiftML package that's in the local directory."
   ]
  },
  {
   "cell_type": "code",
   "execution_count": 1,
   "metadata": {},
   "outputs": [
    {
     "name": "stdout",
     "output_type": "stream",
     "text": [
      "Installing packages:\n",
      "\t.package(path: \"/home/param/GSOC19/github/swiftML\")\n",
      "\t\tswiftML\n",
      "With SwiftPM flags: []\n",
      "Working in: /tmp/tmpfbw501gj/swift-install\n",
      "Completed resolution in 0.37s\n",
      "Compile Swift Module 'swiftML' (4 sources)\n",
      "Compile Swift Module 'jupyterInstalledPackages' (1 sources)\n",
      "Linking ./.build/x86_64-unknown-linux/debug/libjupyterInstalledPackages.so\n",
      "Initializing Swift...\n",
      "Installation complete!\n"
     ]
    }
   ],
   "source": [
    "%install '.package(path: \"/home/param/GSOC19/github/swiftML\")' swiftML"
   ]
  },
  {
   "cell_type": "markdown",
   "metadata": {},
   "source": [
    "## Install the swiftML package from GitHub."
   ]
  },
  {
   "cell_type": "code",
   "execution_count": null,
   "metadata": {},
   "outputs": [],
   "source": [
    "%install '.package(url: \"https://github.com/param087/swiftML\", from: \"0.0.1\")' swiftML"
   ]
  },
  {
   "cell_type": "markdown",
   "metadata": {},
   "source": [
    "## Import Swift packages"
   ]
  },
  {
   "cell_type": "code",
   "execution_count": 2,
   "metadata": {},
   "outputs": [],
   "source": [
    "import TensorFlow\n",
    "import swiftML"
   ]
  },
  {
   "cell_type": "markdown",
   "metadata": {},
   "source": [
    "This example uses the only the first feature of the `diabetes` dataset, in order to illustrate a two-dimensional plot of this regression technique. The straight line can be seen in the plot, showing how linear regression attempts to draw a straight line that will best minimize the residual sum of squares between the observed responses in the dataset, and the responses predicted by the linear approximation."
   ]
  },
  {
   "cell_type": "markdown",
   "metadata": {},
   "source": [
    "## Import Python modules"
   ]
  },
  {
   "cell_type": "code",
   "execution_count": 3,
   "metadata": {},
   "outputs": [],
   "source": [
    "%include \"EnableIPythonDisplay.swift\"\n",
    "IPythonDisplay.shell.enable_matplotlib(\"inline\")\n",
    "\n",
    "import Python\n",
    "\n",
    "let np = Python.import(\"numpy\")\n",
    "let plt = Python.import(\"matplotlib.pyplot\")\n",
    "\n",
    "let datasets = Python.import(\"sklearn.datasets\")"
   ]
  },
  {
   "cell_type": "markdown",
   "metadata": {},
   "source": [
    "## Load and split dataset"
   ]
  },
  {
   "cell_type": "code",
   "execution_count": 4,
   "metadata": {},
   "outputs": [],
   "source": [
    "// Load the diabetes dataset\n",
    "let diabetes = datasets.load_diabetes()\n",
    "\n",
    "// Use only one feature.\n",
    "let diabetesData = Tensor<Float>(numpy: np.array(diabetes.data, dtype: np.float32))!\n",
    "let data = diabetesData.slice(lowerBounds: [0, 2], upperBounds: [diabetesData.shape[0], 3])\n",
    "\n",
    "// Split the data into training/testing sets.\n",
    "let trainData = data.slice(lowerBounds: [0, 0], upperBounds: [(data.shape[0] - 20), 1])\n",
    "let testData = data.slice(lowerBounds: [(data.shape[0] - 20), 0], upperBounds: [data.shape[0], 1])\n",
    "\n",
    "var labels = Tensor<Float>(numpy: np.array(diabetes.target, dtype: np.float32))!\n",
    "labels = labels.reshaped(to: [labels.shape[0], 1])\n",
    "\n",
    "// Split the targets/labels into training/testing sets.\n",
    "let trainLabels = labels.slice(lowerBounds: [0, 0], upperBounds: [(data.shape[0] - 20), 1])\n",
    "let testLabels = labels.slice(lowerBounds: [(data.shape[0] - 20), 0], upperBounds: [data.shape[0], 1])\n"
   ]
  },
  {
   "cell_type": "code",
   "execution_count": 6,
   "metadata": {},
   "outputs": [],
   "source": [
    "let model = GradientDescentLinearRegression(iterationCount: 100000, learningRate: 0.001)"
   ]
  },
  {
   "cell_type": "markdown",
   "metadata": {},
   "source": [
    "## Fit a linear model"
   ]
  },
  {
   "cell_type": "code",
   "execution_count": 7,
   "metadata": {},
   "outputs": [],
   "source": [
    "model.fit(data: trainData, labels: trainLabels)"
   ]
  },
  {
   "cell_type": "code",
   "execution_count": 8,
   "metadata": {},
   "outputs": [
    {
     "data": {
      "text/plain": [
       "0.33513123\n"
      ]
     },
     "execution_count": 8,
     "metadata": {},
     "output_type": "execute_result"
    }
   ],
   "source": [
    "model.score(data: trainData, labels: trainLabels)"
   ]
  },
  {
   "cell_type": "code",
   "execution_count": 9,
   "metadata": {},
   "outputs": [
    {
     "data": {
      "text/plain": [
       "0.47256792\n"
      ]
     },
     "execution_count": 9,
     "metadata": {},
     "output_type": "execute_result"
    }
   ],
   "source": [
    "model.score(data: testData, labels: testLabels)"
   ]
  },
  {
   "cell_type": "code",
   "execution_count": 10,
   "metadata": {},
   "outputs": [
    {
     "data": {
      "text/plain": [
       "[[152.91888],\n",
       " [938.20593]]\n"
      ]
     },
     "execution_count": 10,
     "metadata": {},
     "output_type": "execute_result"
    }
   ],
   "source": [
    "model.weights"
   ]
  },
  {
   "cell_type": "code",
   "execution_count": 11,
   "metadata": {},
   "outputs": [],
   "source": [
    "let predictedTestLabels = model.prediction(for: testData)\n",
    "let x = testData.makeNumpyArray()\n",
    "let y = testLabels.makeNumpyArray()\n",
    "let yPredicted = predictedTestLabels.makeNumpyArray()"
   ]
  },
  {
   "cell_type": "code",
   "execution_count": 12,
   "metadata": {},
   "outputs": [
    {
     "data": {
      "image/png": "[encoded data removed]",
      "text/plain": [
       "<Figure size 720x432 with 1 Axes>"
      ]
     },
     "metadata": {
      "needs_background": "light"
     },
     "output_type": "display_data"
    },
    {
     "data": {
      "text/plain": [
       "None\n"
      ]
     },
     "execution_count": 12,
     "metadata": {},
     "output_type": "execute_result"
    }
   ],
   "source": [
    "plt.figure(figsize: [10, 6])\n",
    "\n",
    "plt.plot(x, yPredicted)\n",
    "plt.scatter(x, y)\n",
    "\n",
    "plt.xlabel(\"features\")\n",
    "plt.ylabel(\"labels\")\n",
    "plt.title(\"Linear Regression using least square method\")\n",
    "\n",
    "plt.show()"
   ]
  },
  {
   "cell_type": "code",
   "execution_count": null,
   "metadata": {},
   "outputs": [],
   "source": []
  }
 ],
 "metadata": {
  "kernelspec": {
   "display_name": "Swift",
   "language": "swift",
   "name": "swift"
  },
  "language_info": {
   "file_extension": ".swift",
   "mimetype": "text/x-swift",
   "name": "swift",
   "version": ""
  }
 },
 "nbformat": 4,
 "nbformat_minor": 2
}

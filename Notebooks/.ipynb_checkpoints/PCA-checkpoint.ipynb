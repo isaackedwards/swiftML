{
 "cells": [
  {
   "cell_type": "markdown",
   "metadata": {},
   "source": [
    "## Installation command for local Repository"
   ]
  },
  {
   "cell_type": "code",
   "execution_count": 1,
   "metadata": {},
   "outputs": [
    {
     "name": "stdout",
     "output_type": "stream",
     "text": [
      "Installing packages:\n",
      "\t.package(path: \"/home/param/GSOC19/github/swiftML\")\n",
      "\t\tswiftML\n",
      "With SwiftPM flags: []\n",
      "Working in: /tmp/tmpbr95xak8/swift-install\n",
      "Completed resolution in 0.40s\n",
      "Compile Swift Module 'swiftML' (2 sources)\n",
      "Compile Swift Module 'jupyterInstalledPackages' (1 sources)\n",
      "Linking ./.build/x86_64-unknown-linux/debug/libjupyterInstalledPackages.so\n",
      "Initializing Swift...\n",
      "Installation complete!\n"
     ]
    }
   ],
   "source": [
    "%install '.package(path: \"/home/param/GSOC19/github/swiftML\")' swiftML"
   ]
  },
  {
   "cell_type": "code",
   "execution_count": 2,
   "metadata": {},
   "outputs": [],
   "source": [
    "import TensorFlow\n",
    "import swiftML"
   ]
  },
  {
   "cell_type": "markdown",
   "metadata": {},
   "source": [
    "### Dataset"
   ]
  },
  {
   "cell_type": "code",
   "execution_count": 3,
   "metadata": {},
   "outputs": [],
   "source": [
    "let X = Tensor<Double>([[-1, -1], [-2, -1], [-3, -2], [1, 1], [2, 1], [3, 2]])"
   ]
  },
  {
   "cell_type": "markdown",
   "metadata": {},
   "source": [
    "## Principal Component Analysis"
   ]
  },
  {
   "cell_type": "code",
   "execution_count": 4,
   "metadata": {},
   "outputs": [
    {
     "name": "stdout",
     "output_type": "stream",
     "text": [
      "[[    1.383405778728807,   0.29357869708094075],\r\n",
      " [   2.2218980166336806,   -0.2513348437429923],\r\n",
      " [    3.605303795362487,  0.042243853337948334],\r\n",
      " [   -1.383405778728807,  -0.29357869708094075],\r\n",
      " [  -2.2218980166336806,    0.2513348437429923],\r\n",
      " [   -3.605303795362487, -0.042243853337948334]]\r\n"
     ]
    }
   ],
   "source": [
    "let model = PCA(componentCount: 2)\n",
    "model.fit(data: X)\n",
    "let newX = model.transformation(for: X)\n",
    "print(newX)"
   ]
  },
  {
   "cell_type": "markdown",
   "metadata": {},
   "source": [
    "### Retrieve Original Dataset"
   ]
  },
  {
   "cell_type": "code",
   "execution_count": 5,
   "metadata": {},
   "outputs": [
    {
     "name": "stdout",
     "output_type": "stream",
     "text": [
      "[[-0.9999999999999997, -0.9999999999999998],\r\n",
      " [-1.9999999999999993, -0.9999999999999997],\r\n",
      " [-2.9999999999999987,  -1.999999999999999],\r\n",
      " [ 0.9999999999999997,  0.9999999999999998],\r\n",
      " [ 1.9999999999999993,  0.9999999999999997],\r\n",
      " [ 2.9999999999999987,   1.999999999999999]]\r\n"
     ]
    }
   ],
   "source": [
    "let XOriginal = model.inverseTransformation(for: newX)\n",
    "print(XOriginal)"
   ]
  },
  {
   "cell_type": "code",
   "execution_count": 6,
   "metadata": {},
   "outputs": [
    {
     "name": "stdout",
     "output_type": "stream",
     "text": [
      "mean:  [[0.0, 0.0]]\r\n",
      "components:  [[-0.8384922379048738, -0.5449135408239331],\r\n",
      " [ 0.5449135408239331, -0.8384922379048738]]\r\n",
      "nComponents:  2\r\n",
      "explainedVariance:  [ 7.9395431207184375, 0.06045687928155813]\r\n",
      "explainedVarianceRatio:  [   0.9924428900898052, 0.0075571099101947705]\r\n",
      "singularValues:  [ 6.300612319734661, 0.5498039617971033]\r\n"
     ]
    }
   ],
   "source": [
    "print(\"mean: \", model.mean)\n",
    "print(\"components: \", model.components)\n",
    "print(\"nComponents: \", model.componentCount)\n",
    "print(\"explainedVariance: \",model.explainedVariance)\n",
    "print(\"explainedVarianceRatio: \", model.explainedVarianceRatio)\n",
    "print(\"singularValues: \", model.singularValues)"
   ]
  },
  {
   "cell_type": "markdown",
   "metadata": {},
   "source": [
    "## Minka’s MLE is used to guess the dimension"
   ]
  },
  {
   "cell_type": "code",
   "execution_count": 7,
   "metadata": {},
   "outputs": [
    {
     "name": "stdout",
     "output_type": "stream",
     "text": [
      "[[  1.383405778728807],\r\n",
      " [ 2.2218980166336806],\r\n",
      " [  3.605303795362487],\r\n",
      " [ -1.383405778728807],\r\n",
      " [-2.2218980166336806],\r\n",
      " [ -3.605303795362487]]\r\n"
     ]
    }
   ],
   "source": [
    "let model = PCA()\n",
    "model.fit(data: X)\n",
    "let newX = model.transformation(for: X)\n",
    "print(newX)"
   ]
  },
  {
   "cell_type": "code",
   "execution_count": 8,
   "metadata": {},
   "outputs": [
    {
     "name": "stdout",
     "output_type": "stream",
     "text": [
      "[[ -1.159975007336852, -0.7538365412834047],\r\n",
      " [-1.8630442403635754,  -1.210742315593533],\r\n",
      " [ -3.023019247700427, -1.9645788568769373],\r\n",
      " [  1.159975007336852,  0.7538365412834047],\r\n",
      " [ 1.8630442403635754,   1.210742315593533],\r\n",
      " [  3.023019247700427,  1.9645788568769373]]\r\n"
     ]
    }
   ],
   "source": [
    "let XOriginal = model.inverseTransformation(for: newX)\n",
    "print(XOriginal)"
   ]
  },
  {
   "cell_type": "code",
   "execution_count": 9,
   "metadata": {},
   "outputs": [
    {
     "name": "stdout",
     "output_type": "stream",
     "text": [
      "mean:  [[0.0, 0.0]]\r\n",
      "components:  [[-0.8384922379048738, -0.5449135408239331]]\r\n",
      "nComponents:  1\r\n",
      "explainedVariance:  [7.9395431207184375]\r\n",
      "explainedVarianceRatio:  [0.9924428900898052]\r\n",
      "singularValues:  [6.300612319734661]\r\n"
     ]
    }
   ],
   "source": [
    "print(\"mean: \", model.mean)\n",
    "print(\"components: \", model.components)\n",
    "print(\"nComponents: \", model.componentCount)\n",
    "print(\"explainedVariance: \",model.explainedVariance)\n",
    "print(\"explainedVarianceRatio: \", model.explainedVarianceRatio)\n",
    "print(\"singularValues: \", model.singularValues)"
   ]
  }
 ],
 "metadata": {
  "kernelspec": {
   "display_name": "Swift",
   "language": "swift",
   "name": "swift"
  },
  "language_info": {
   "file_extension": ".swift",
   "mimetype": "text/x-swift",
   "name": "swift",
   "version": ""
  }
 },
 "nbformat": 4,
 "nbformat_minor": 2
}

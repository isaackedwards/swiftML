{
 "cells": [
  {
   "cell_type": "markdown",
   "metadata": {},
   "source": [
    "# K-neighbors regressor\n",
    "\n",
    "***\n",
    "### `class KNeighborsRegressor(neighborCount: 5, weights: \"distance\", p: 2)`\n",
    "***\n",
    "\n",
    "## Parameters:\n",
    "  #### `neighborCount`: *Int, optional, default `5`*\n",
    "  Number of neighbors to use by queries.\n",
    "  #### `weights`: *{`\"distance\"`,`\"uniform\"`}, optional, default `\"distance\"`*\n",
    "  Weight function used in prediction.\n",
    "  `\"uniform\"`: Uniform weights. All points in each neighborhood are weighted equally.\n",
    "  `\"distance\"`: Weight points by the inverse of their distance. In this case, closer neighbors of a query point will have a greater influence than neighbors which are further away.\n",
    "  #### `p`: *Int, optional, default `2`*\n",
    "  Power parameter for the Minkowski metric. When `p` = 1, this is equivalent to using manhattan distance (`l1`), and euclidean distance (`l2`) for `p` = 2. For arbitrary `p`, minkowski_distance (`l_p`) is used.\n",
    "\n",
    "***\n",
    "\n",
    "## Methods\n",
    "\n",
    "***\n",
    "\n",
    "  ### `fit(data: Tensor, labels: Tensor)`: Fit a K-neighbors regressor model.\n",
    "\n",
    "  ### Parameters:\n",
    "\n",
    "  #### `data`: *Tensor, shape [sample count, feature count]*\n",
    "  Training data.\n",
    "  #### `labels`: *Tensor, shape [sample count]*  \n",
    "  Target values.\n",
    "\n",
    "  ***\n",
    "\n",
    "  ### `prediction(for: Tensor)`: Predict the target value for the provided data.\n",
    "\n",
    "  ### Parameters:\n",
    "  #### `for`: *Tensor, shape [sample count, feature count]*\n",
    "  Sample data.\n",
    "\n",
    "  ### Returns:\n",
    "  Predicted target values.\n",
    "\n",
    "  ***\n",
    "  ### `score(data: Tensor, labels: Tensor)`: Returns the coefficient of determination $R^2$ for the prediction.\n",
    "\n",
    "  ### Parameters:\n",
    "  #### `data`: *Tensor, shape [sample count, feature count]*\n",
    "  Test data.\n",
    "  #### `labels`: *Tensor, shape [sample count]*  \n",
    "  True target value for test data.\n",
    "\n",
    "  ### Returns:\n",
    "  Returns the coefficient of determination $R^2$.\n",
    "\n",
    "***"
   ]
  },
  {
   "cell_type": "markdown",
   "metadata": {},
   "source": [
    "# Example"
   ]
  },
  {
   "cell_type": "markdown",
   "metadata": {},
   "source": [
    "##  Install the swiftML package that's in the local directory."
   ]
  },
  {
   "cell_type": "code",
   "execution_count": 1,
   "metadata": {},
   "outputs": [
    {
     "name": "stdout",
     "output_type": "stream",
     "text": [
      "Installing packages:\n",
      "\t.package(path: \"/home/param/GSOC19/github/swiftML\")\n",
      "\t\tswiftML\n",
      "With SwiftPM flags: []\n",
      "Working in: /tmp/tmpvkfplhy6/swift-install\n",
      "Completed resolution in 0.44s\n",
      "Compile Swift Module 'swiftML' (3 sources)\n",
      "/home/param/GSOC19/github/swiftML/Sources/swiftML/KNeighborsClassifier.swift:107:13: warning: variable 'indices' was written to, but never read\n",
      "        var indices: Tensor<Int32>\n",
      "            ^\n",
      "\n",
      "Compile Swift Module 'jupyterInstalledPackages' (1 sources)\n",
      "Linking ./.build/x86_64-unknown-linux/debug/libjupyterInstalledPackages.so\n",
      "Initializing Swift...\n",
      "Installation complete!\n"
     ]
    }
   ],
   "source": [
    "%install '.package(path: \"/home/param/GSOC19/github/swiftML\")' swiftML"
   ]
  },
  {
   "cell_type": "markdown",
   "metadata": {},
   "source": [
    "## Install the swiftML package from GitHub."
   ]
  },
  {
   "cell_type": "code",
   "execution_count": null,
   "metadata": {},
   "outputs": [],
   "source": [
    "%install '.package(url: \"https://github.com/param087/swiftML\", from: \"0.0.1\")' swiftML"
   ]
  },
  {
   "cell_type": "markdown",
   "metadata": {},
   "source": [
    "## Import Swift packages"
   ]
  },
  {
   "cell_type": "code",
   "execution_count": 2,
   "metadata": {},
   "outputs": [],
   "source": [
    "import TensorFlow\n",
    "import swiftML"
   ]
  },
  {
   "cell_type": "markdown",
   "metadata": {},
   "source": [
    "This example uses the only the first feature of the `diabetes` dataset, in order to illustrate a two-dimensional plot of this regression technique. The straight line can be seen in the plot, showing how linear regression attempts to draw a straight line that will best minimize the residual sum of squares between the observed responses in the dataset, and the responses predicted by the linear approximation."
   ]
  },
  {
   "cell_type": "markdown",
   "metadata": {},
   "source": [
    "## Import Python modules"
   ]
  },
  {
   "cell_type": "code",
   "execution_count": 3,
   "metadata": {},
   "outputs": [],
   "source": [
    "%include \"EnableIPythonDisplay.swift\"\n",
    "IPythonDisplay.shell.enable_matplotlib(\"inline\")\n",
    "\n",
    "import Python\n",
    "\n",
    "let np = Python.import(\"numpy\")\n",
    "let plt = Python.import(\"matplotlib.pyplot\")\n",
    "\n",
    "let datasets = Python.import(\"sklearn.datasets\")"
   ]
  },
  {
   "cell_type": "markdown",
   "metadata": {},
   "source": [
    "## dataset\n",
    "Random sine data with noise"
   ]
  },
  {
   "cell_type": "code",
   "execution_count": 4,
   "metadata": {},
   "outputs": [],
   "source": [
    "let data = Tensor<Float>([[0.093949  ],\n",
    "       [0.10109199],\n",
    "       [0.35518029],\n",
    "       [0.4356465 ],\n",
    "       [0.59137213],\n",
    "       [0.71676644],\n",
    "       [1.32277806],\n",
    "       [1.91720759],\n",
    "       [2.0733097 ],\n",
    "       [2.118274  ],\n",
    "       [2.18793606],\n",
    "       [2.28075166],\n",
    "       [2.30739681],\n",
    "       [2.60924161],\n",
    "       [2.6444746 ],\n",
    "       [2.72441591],\n",
    "       [2.74406752],\n",
    "       [2.84022281],\n",
    "       [2.84216974],\n",
    "       [3.01381688],\n",
    "       [3.06047861],\n",
    "       [3.08466998],\n",
    "       [3.08817749],\n",
    "       [3.19960511],\n",
    "       [3.22947057],\n",
    "       [3.4091015 ],\n",
    "       [3.57594683],\n",
    "       [3.87116845],\n",
    "       [3.89078375],\n",
    "       [3.90264588],\n",
    "       [3.95862519],\n",
    "       [3.99579282],\n",
    "       [4.16309923],\n",
    "       [4.35006074],\n",
    "       [4.458865  ],\n",
    "       [4.62798319],\n",
    "       [4.71874039],\n",
    "       [4.72334459],\n",
    "       [4.8183138 ],\n",
    "       [4.89309171]])\n",
    "\n",
    "let labels = Tensor<Float>([ 0.23430296,  0.10091989,  0.34775941,  0.4219966 ,  0.55750066,\n",
    "        0.71991826,  0.96940081,  0.94059723,  0.87637482,  0.8538402 ,\n",
    "        0.61790585,  0.75839099,  0.74075654,  0.50756044,  0.47689441,\n",
    "        0.84495547,  0.38713765,  0.29682859,  0.29496884,  0.12742837,\n",
    "       -0.08574159,  0.05689193,  0.05338977, -0.05797992, -0.08776485,\n",
    "       -0.43496758, -0.42082464, -0.66655347, -0.68104667, -0.68968448,\n",
    "       -0.43950071, -0.75404581, -0.85289554, -0.93507411, -0.96803456,\n",
    "       -0.62536624, -0.99997983, -0.99993999, -0.99439521, -0.98371764])"
   ]
  },
  {
   "cell_type": "markdown",
   "metadata": {},
   "source": [
    "##  KNeighbors Regressor"
   ]
  },
  {
   "cell_type": "code",
   "execution_count": 5,
   "metadata": {},
   "outputs": [
    {
     "name": "stdout",
     "output_type": "stream",
     "text": [
      "Score:  0.963958\r\n"
     ]
    }
   ],
   "source": [
    "let model = KNeighborsRegressor(neighborCount: 5, weights: \"uniform\")\n",
    "model.fit(data: data, labels: labels)\n",
    "print(\"Score: \",model.score(data: data, labels: labels))"
   ]
  },
  {
   "cell_type": "code",
   "execution_count": 6,
   "metadata": {},
   "outputs": [],
   "source": [
    "let predictedTestLabels = model.prediction(for: data)\n",
    "let x = data.makeNumpyArray()\n",
    "let y = labels.makeNumpyArray()\n",
    "let yPredicted = predictedTestLabels.makeNumpyArray()"
   ]
  },
  {
   "cell_type": "code",
   "execution_count": 7,
   "metadata": {},
   "outputs": [
    {
     "data": {
      "image/png": "[encoded data removed]",
      "text/plain": [
       "<Figure size 720x432 with 1 Axes>"
      ]
     },
     "metadata": {
      "needs_background": "light"
     },
     "output_type": "display_data"
    },
    {
     "data": {
      "text/plain": [
       "None\n"
      ]
     },
     "execution_count": 7,
     "metadata": {},
     "output_type": "execute_result"
    }
   ],
   "source": [
    "plt.figure(figsize: [10, 6])\n",
    "\n",
    "plt.plot(x, yPredicted)\n",
    "plt.scatter(x, y)\n",
    "\n",
    "plt.xlabel(\"features\")\n",
    "plt.ylabel(\"labels\")\n",
    "plt.title(\"Linear Regression using least square method\")\n",
    "\n",
    "plt.show()"
   ]
  },
  {
   "cell_type": "code",
   "execution_count": 8,
   "metadata": {},
   "outputs": [
    {
     "name": "stdout",
     "output_type": "stream",
     "text": [
      "Score:  1.0\r\n"
     ]
    }
   ],
   "source": [
    "let model = KNeighborsRegressor(neighborCount: 3, weights: \"distance\")\n",
    "model.fit(data: data, labels: labels)\n",
    "print(\"Score: \",model.score(data: data, labels: labels))"
   ]
  },
  {
   "cell_type": "code",
   "execution_count": 9,
   "metadata": {},
   "outputs": [],
   "source": [
    "let predictedTestLabels = model.prediction(for: data)\n",
    "let x = data.makeNumpyArray()\n",
    "let y = labels.makeNumpyArray()\n",
    "let yPredicted = predictedTestLabels.makeNumpyArray()"
   ]
  },
  {
   "cell_type": "code",
   "execution_count": 10,
   "metadata": {},
   "outputs": [
    {
     "data": {
      "image/png": "[encoded data removed]",
      "text/plain": [
       "<Figure size 720x432 with 1 Axes>"
      ]
     },
     "metadata": {
      "needs_background": "light"
     },
     "output_type": "display_data"
    },
    {
     "data": {
      "text/plain": [
       "None\n"
      ]
     },
     "execution_count": 10,
     "metadata": {},
     "output_type": "execute_result"
    }
   ],
   "source": [
    "plt.figure(figsize: [10, 6])\n",
    "\n",
    "plt.plot(x, yPredicted)\n",
    "plt.scatter(x, y)\n",
    "\n",
    "plt.xlabel(\"features\")\n",
    "plt.ylabel(\"labels\")\n",
    "plt.title(\"Linear Regression using least square method\")\n",
    "\n",
    "plt.show()"
   ]
  }
 ],
 "metadata": {
  "kernelspec": {
   "display_name": "Swift",
   "language": "swift",
   "name": "swift"
  },
  "language_info": {
   "file_extension": ".swift",
   "mimetype": "text/x-swift",
   "name": "swift",
   "version": ""
  }
 },
 "nbformat": 4,
 "nbformat_minor": 2
}

{
 "cells": [
  {
   "cell_type": "markdown",
   "metadata": {},
   "source": [
    "## Installation command for local Repository"
   ]
  },
  {
   "cell_type": "code",
   "execution_count": 1,
   "metadata": {
    "scrolled": true
   },
   "outputs": [
    {
     "name": "stdout",
     "output_type": "stream",
     "text": [
      "Installing packages:\n",
      "\t.package(path: \"/home/param/GSOC19/github/swiftML\")\n",
      "\t\tswiftML\n",
      "With SwiftPM flags: []\n",
      "Working in: /tmp/tmp5n2lsscz/swift-install\n",
      "Completed resolution in 0.87s\n",
      "Compile Swift Module 'swiftML' (2 sources)\n",
      "Compile Swift Module 'jupyterInstalledPackages' (1 sources)\n",
      "Linking ./.build/x86_64-unknown-linux/debug/libjupyterInstalledPackages.so\n",
      "Initializing Swift...\n",
      "Installation complete!\n"
     ]
    }
   ],
   "source": [
    "%install '.package(path: \"/home/param/GSOC19/github/swiftML\")' swiftML"
   ]
  },
  {
   "cell_type": "code",
   "execution_count": 3,
   "metadata": {},
   "outputs": [],
   "source": [
    "import TensorFlow\n",
    "import swiftML"
   ]
  },
  {
   "cell_type": "code",
   "execution_count": 4,
   "metadata": {},
   "outputs": [],
   "source": [
    "let features = Tensor<Float>([[-2, 2],[-3, 0],[2, -1],[1, -4]])\n",
    "let labels = Tensor<Int32>([[1],[1],[0],[2]])\n"
   ]
  },
  {
   "cell_type": "code",
   "execution_count": 5,
   "metadata": {},
   "outputs": [
    {
     "name": "stdout",
     "output_type": "stream",
     "text": [
      "Prediction:  [[1],\r\n",
      " [1],\r\n",
      " [0],\r\n",
      " [2]]\r\n",
      "score:  1.0\r\n",
      "model weights:  [[[-2.0018325],\r\n",
      " [ 1.7346683]], [[ 3.853297],\r\n",
      " [1.9797337]], [[0.23139887],\r\n",
      " [-0.5186192]]]\r\n"
     ]
    }
   ],
   "source": [
    "let model = LogisticRegression(fitIntercept: false)\n",
    "model.fit(data: features, labels: labels)\n",
    "\n",
    "print(\"Prediction: \",model.prediction(for: features))\n",
    "print(\"score: \",model.score(data: features, labels: labels ))\n",
    "print(\"model weights: \",model.weights)"
   ]
  },
  {
   "cell_type": "code",
   "execution_count": null,
   "metadata": {},
   "outputs": [],
   "source": []
  }
 ],
 "metadata": {
  "kernelspec": {
   "display_name": "Swift",
   "language": "swift",
   "name": "swift"
  },
  "language_info": {
   "file_extension": ".swift",
   "mimetype": "text/x-swift",
   "name": "swift",
   "version": ""
  }
 },
 "nbformat": 4,
 "nbformat_minor": 2
}

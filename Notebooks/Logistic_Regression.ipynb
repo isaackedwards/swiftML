{
 "cells": [
  {
   "cell_type": "markdown",
   "metadata": {},
   "source": [
    "## Installation command for local Repository"
   ]
  },
  {
   "cell_type": "code",
   "execution_count": 1,
   "metadata": {},
   "outputs": [
    {
     "name": "stdout",
     "output_type": "stream",
     "text": [
      "Installing packages:\n",
      "\t.package(path: \"/home/param/GSOC19/github/swiftML\")\n",
      "\t\tswiftML\n",
      "With SwiftPM flags: []\n",
      "Working in: /tmp/tmp_z1n36uf/swift-install\n",
      "Completed resolution in 0.40s\n",
      "Compile Swift Module 'swiftML' (12 sources)\n",
      "/home/param/GSOC19/github/swiftML/Sources/swiftML/KNeighborsClassifier.swift:128:13: warning: variable 'indices' was written to, but never read\n",
      "        var indices: Tensor<Int32>\n",
      "            ^\n",
      "\n",
      "/home/param/GSOC19/github/swiftML/Sources/swiftML/SVC.swift:49:13: warning: initialization of immutable value 'd' was never used; consider replacing with assignment to '_' or removing it\n",
      "        let d = x.shape[1]\n",
      "        ~~~~^\n",
      "        _\n",
      "/home/param/GSOC19/github/swiftML/Sources/swiftML/SVC.swift:299:13: warning: initialization of immutable value 'n' was never used; consider replacing with assignment to '_' or removing it\n",
      "        let n = a.shape[0]\n",
      "        ~~~~^\n",
      "        _\n",
      "/home/param/GSOC19/github/swiftML/Sources/swiftML/SVC.swift:300:13: warning: initialization of immutable value 'm' was never used; consider replacing with assignment to '_' or removing it\n",
      "        let m = a.shape[1]\n",
      "        ~~~~^\n",
      "        _\n",
      "\n",
      "Compile Swift Module 'jupyterInstalledPackages' (1 sources)\n",
      "Linking ./.build/x86_64-unknown-linux/debug/libjupyterInstalledPackages.so\n",
      "Initializing Swift...\n",
      "Installation complete!\n"
     ]
    }
   ],
   "source": [
    "%install '.package(path: \"/home/param/GSOC19/github/swiftML\")' swiftML"
   ]
  },
  {
   "cell_type": "code",
   "execution_count": 2,
   "metadata": {},
   "outputs": [],
   "source": [
    "import TensorFlow\n",
    "import swiftML"
   ]
  },
  {
   "cell_type": "code",
   "execution_count": 3,
   "metadata": {},
   "outputs": [],
   "source": [
    "let features = Tensor<Float>([[-2, 2],[-3, 0],[2, -1],[1, -4]])\n",
    "let labels = Tensor<Float>([[1],[1],[0],[2]])\n"
   ]
  },
  {
   "cell_type": "code",
   "execution_count": 4,
   "metadata": {},
   "outputs": [
    {
     "name": "stdout",
     "output_type": "stream",
     "text": [
      "Prediction:  [[1.0],\r\n",
      " [1.0],\r\n",
      " [0.0],\r\n",
      " [2.0]]\r\n",
      "score:  1.0\r\n",
      "model weights:  [[[-2.0018325],\r\n",
      " [ 1.7346683]], [[ 3.853297],\r\n",
      " [1.9797337]], [[0.23139887],\r\n",
      " [-0.5186192]]]\r\n"
     ]
    }
   ],
   "source": [
    "let model = LogisticRegression(fitIntercept: false)\n",
    "model.fit(data: features, labels: labels)\n",
    "\n",
    "print(\"Prediction: \",model.prediction(for: features))\n",
    "print(\"score: \",model.score(data: features, labels: labels ))\n",
    "print(\"model weights: \",model.weights)"
   ]
  },
  {
   "cell_type": "code",
   "execution_count": null,
   "metadata": {},
   "outputs": [],
   "source": []
  }
 ],
 "metadata": {
  "kernelspec": {
   "display_name": "Swift",
   "language": "swift",
   "name": "swift"
  },
  "language_info": {
   "file_extension": ".swift",
   "mimetype": "text/x-swift",
   "name": "swift",
   "version": ""
  }
 },
 "nbformat": 4,
 "nbformat_minor": 2
}

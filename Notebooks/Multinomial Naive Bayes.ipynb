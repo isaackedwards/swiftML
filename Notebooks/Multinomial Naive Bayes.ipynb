{
 "cells": [
  {
   "cell_type": "markdown",
   "metadata": {},
   "source": [
    "# Multinomial naive bayes classifier.\n",
    "The multinomial Naive Bayes classifier is suitable for classification with discrete features.\n",
    "***\n",
    "### `class MultinomialNB(alpha: 1.0)`\n",
    "***\n",
    "\n",
    "## Parameters:\n",
    "  #### `alpha`: *Float, optional, default `1.0`*\n",
    "  Additive smoothing parameter.\n",
    "\n",
    "## Attributes:\n",
    "  #### `classLogPrior`: *Tensor, shape [class count]*\n",
    "  The prior log probability for each class.\n",
    "  #### `featureLogProb`: *Tensor, shape [class count, feature count]*\n",
    "  Empirical log probability of features given a class.\n",
    "  #### `classes`: *Tensor, shape [class count]*\n",
    "  Unique classes in target value set.\n",
    "\n",
    "***\n",
    "\n",
    "## Methods\n",
    "\n",
    "***\n",
    "\n",
    "  ### `fit(data: Tensor, labels: Tensor)`: Fit a multinomial naive bayes classifier model.\n",
    "\n",
    "  ### Parameters:\n",
    "\n",
    "  #### `data`: *Tensor, shape [sample count, feature count]*\n",
    "  Training data.\n",
    "  #### `labels`: *Tensor, shape [sample count]*  \n",
    "  Target values.\n",
    "\n",
    "  ***\n",
    "\n",
    "  ### `prediction(for: Tensor)`: Predict class for sample input data.\n",
    "\n",
    "  ### Parameters:\n",
    "  #### `for`: *Tensor, shape [sample count, feature count]*\n",
    "  Sample data.\n",
    "\n",
    "  ### Returns:\n",
    "  Returns classification of sample input data.\n",
    "  ***\n",
    "\n",
    "  ### `score(data: Tensor, labels: Tensor)`: Returns the mean accuracy.\n",
    "\n",
    "  ### Parameters:\n",
    "  #### `data`: *Tensor, shape [sample count, feature count]*\n",
    "  Test sample data.\n",
    "  #### `labels`: *Tensor, shape [sample count]*  \n",
    "  True value for test sample data.\n",
    "\n",
    "  ### Returns:\n",
    "  Returns the mean accuracy.\n",
    "  ***\n",
    "  \n",
    "  ### `predictLogProba(data: Tensor)`: Returns log-probability estimates.\n",
    "\n",
    "  ### Parameters:\n",
    "  #### `data`: *Tensor, shape [sample count, feature count]*\n",
    "  Input data.\n",
    "\n",
    "  ### Returns:\n",
    "  Returns log-probability estimates for the input data.\n",
    "\n",
    "***"
   ]
  },
  {
   "cell_type": "markdown",
   "metadata": {},
   "source": [
    "# Example"
   ]
  },
  {
   "cell_type": "markdown",
   "metadata": {},
   "source": [
    "##  Install the swiftML package that's in the local directory."
   ]
  },
  {
   "cell_type": "code",
   "execution_count": 1,
   "metadata": {},
   "outputs": [
    {
     "name": "stdout",
     "output_type": "stream",
     "text": [
      "Installing packages:\n",
      "\t.package(path: \"/home/param/GSOC19/github/swiftML\")\n",
      "\t\tswiftML\n",
      "With SwiftPM flags: []\n",
      "Working in: /tmp/tmp5sukzatr/swift-install\n",
      "Completed resolution in 0.91s\n",
      "Compile Swift Module 'swiftML' (4 sources)\n",
      "Compile Swift Module 'jupyterInstalledPackages' (1 sources)\n",
      "Linking ./.build/x86_64-unknown-linux/debug/libjupyterInstalledPackages.so\n",
      "Initializing Swift...\n",
      "Installation complete!\n"
     ]
    }
   ],
   "source": [
    "%install '.package(path: \"/home/param/GSOC19/github/swiftML\")' swiftML"
   ]
  },
  {
   "cell_type": "markdown",
   "metadata": {},
   "source": [
    "## Install the swiftML package from GitHub."
   ]
  },
  {
   "cell_type": "code",
   "execution_count": null,
   "metadata": {},
   "outputs": [],
   "source": [
    "%install '.package(url: \"https://github.com/param087/swiftML\", from: \"0.0.1\")' swiftML"
   ]
  },
  {
   "cell_type": "markdown",
   "metadata": {},
   "source": [
    "## Import Swift packages"
   ]
  },
  {
   "cell_type": "code",
   "execution_count": 3,
   "metadata": {},
   "outputs": [],
   "source": [
    "import TensorFlow\n",
    "import swiftML"
   ]
  },
  {
   "cell_type": "markdown",
   "metadata": {},
   "source": [
    "## Dataset"
   ]
  },
  {
   "cell_type": "code",
   "execution_count": 8,
   "metadata": {},
   "outputs": [],
   "source": [
    "let trainData = Tensor<Float>([[2, 4, 0, 3, 2, 2, 2, 4, 3, 2, 0, 2, 3, 4, 1, 2, 2, 4, 0, 1, 1, 0,\n",
    "        3, 1, 1, 2, 2, 0, 1, 3, 3, 3, 4, 4, 0, 0, 0, 3, 0, 0, 3, 4, 3, 1,\n",
    "        2, 0, 0, 2, 1, 3, 2, 3, 0, 1, 1, 4, 0, 0, 0, 2, 4, 2, 3, 2, 2, 0,\n",
    "        4, 3, 4, 3, 3, 2, 3, 3, 1, 4, 4, 1, 4, 0, 1, 3, 2, 1, 0, 2, 3, 0,\n",
    "        1, 0, 2, 3, 4, 0, 4, 2, 2, 0, 1, 2],\n",
    "       [0, 1, 4, 1, 1, 1, 2, 0, 2, 1, 1, 4, 3, 4, 0, 3, 0, 1, 0, 3, 0, 1,\n",
    "        4, 0, 0, 0, 0, 0, 1, 4, 0, 1, 2, 0, 1, 4, 0, 4, 1, 3, 4, 1, 2, 1,\n",
    "        4, 2, 2, 3, 1, 1, 1, 2, 0, 3, 0, 3, 3, 2, 1, 0, 2, 3, 3, 2, 4, 1,\n",
    "        2, 0, 1, 0, 0, 2, 0, 2, 1, 2, 2, 1, 1, 4, 3, 0, 3, 2, 1, 1, 1, 3,\n",
    "        3, 0, 0, 1, 3, 1, 4, 1, 0, 3, 0, 3],\n",
    "       [1, 3, 1, 1, 1, 2, 0, 1, 0, 1, 0, 1, 4, 3, 1, 2, 4, 2, 0, 0, 3, 4,\n",
    "        4, 2, 0, 3, 4, 3, 3, 4, 1, 2, 0, 1, 0, 3, 1, 2, 0, 2, 0, 1, 2, 4,\n",
    "        4, 4, 0, 1, 3, 3, 3, 4, 4, 1, 3, 3, 1, 0, 2, 1, 2, 0, 4, 3, 1, 3,\n",
    "        2, 3, 1, 1, 0, 2, 4, 0, 2, 1, 2, 3, 2, 1, 3, 3, 0, 1, 0, 4, 2, 4,\n",
    "        2, 3, 3, 0, 3, 0, 2, 3, 3, 2, 1, 0],\n",
    "       [2, 0, 4, 4, 4, 4, 2, 2, 0, 0, 1, 3, 3, 1, 4, 4, 3, 3, 1, 4, 0, 1,\n",
    "        0, 1, 3, 1, 4, 3, 2, 0, 2, 1, 3, 2, 4, 3, 0, 0, 1, 4, 3, 1, 1, 2,\n",
    "        1, 3, 2, 4, 2, 4, 3, 4, 4, 4, 1, 0, 0, 4, 4, 3, 1, 3, 1, 4, 1, 3,\n",
    "        2, 3, 4, 1, 0, 2, 4, 3, 2, 1, 1, 1, 0, 2, 4, 4, 3, 1, 1, 3, 1, 2,\n",
    "        3, 0, 0, 4, 3, 4, 4, 0, 4, 1, 2, 3],\n",
    "       [2, 2, 1, 0, 3, 3, 3, 1, 2, 3, 3, 2, 2, 1, 4, 2, 0, 2, 1, 3, 2, 1,\n",
    "        2, 2, 2, 2, 4, 0, 1, 3, 0, 0, 3, 3, 4, 4, 4, 2, 0, 4, 1, 1, 2, 2,\n",
    "        2, 0, 2, 3, 4, 3, 0, 2, 2, 1, 4, 4, 1, 0, 1, 3, 0, 1, 3, 1, 2, 4,\n",
    "        0, 4, 0, 1, 1, 0, 0, 1, 2, 2, 1, 4, 1, 2, 1, 2, 1, 3, 2, 3, 0, 1,\n",
    "        3, 3, 2, 3, 1, 1, 0, 0, 0, 0, 1, 0],\n",
    "       [3, 2, 2, 2, 3, 4, 2, 0, 0, 2, 3, 0, 2, 4, 2, 0, 3, 2, 3, 0, 1, 4,\n",
    "        4, 0, 1, 3, 4, 1, 1, 1, 0, 3, 3, 2, 3, 2, 0, 1, 1, 4, 2, 4, 4, 1,\n",
    "        4, 3, 3, 4, 1, 4, 4, 4, 0, 1, 0, 2, 0, 1, 2, 3, 2, 2, 1, 4, 3, 2,\n",
    "        0, 0, 1, 3, 3, 1, 4, 2, 4, 3, 2, 0, 3, 1, 2, 3, 3, 4, 1, 3, 3, 0,\n",
    "        3, 2, 0, 4, 4, 0, 4, 2, 4, 1, 2, 0]])\n",
    "let trainLabels = Tensor<Int32>([1, 2, 3, 4, 5, 6])\n",
    "\n",
    "let testData = Tensor<Float32>([[1, 3, 1, 1, 1, 2, 0, 1, 0, 1, 0, 1, 4, 3, 1, 2, 4, 2, 0, 0, 3, 4,\n",
    "        4, 2, 0, 3, 4, 3, 3, 4, 1, 2, 0, 1, 0, 3, 1, 2, 0, 2, 0, 1, 2, 4,\n",
    "        4, 4, 0, 1, 3, 3, 3, 4, 4, 1, 3, 3, 1, 0, 2, 1, 2, 0, 4, 3, 1, 3,\n",
    "        2, 3, 1, 1, 0, 2, 4, 0, 2, 1, 2, 3, 2, 1, 3, 3, 0, 1, 0, 4, 2, 4,\n",
    "        2, 3, 3, 0, 3, 0, 2, 3, 3, 2, 1, 0]])\n",
    "\n",
    "let testLabels = Tensor<Int32>([3])"
   ]
  },
  {
   "cell_type": "code",
   "execution_count": 10,
   "metadata": {},
   "outputs": [
    {
     "name": "stdout",
     "output_type": "stream",
     "text": [
      "Prediction:  [3]\r\n",
      "Score:  1.0\r\n"
     ]
    }
   ],
   "source": [
    "let model = MultinomialNB()\n",
    "model.fit(data: trainData, labels: trainLabels)\n",
    "print(\"Prediction: \",model.prediction(for: testData))\n",
    "print(\"Score: \", model.score(data: testData, labels: testLabels))"
   ]
  }
 ],
 "metadata": {
  "kernelspec": {
   "display_name": "Swift",
   "language": "swift",
   "name": "swift"
  },
  "language_info": {
   "file_extension": ".swift",
   "mimetype": "text/x-swift",
   "name": "swift",
   "version": ""
  }
 },
 "nbformat": 4,
 "nbformat_minor": 2
}

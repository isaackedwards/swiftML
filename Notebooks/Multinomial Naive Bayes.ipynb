{
 "cells": [
  {
   "cell_type": "markdown",
   "metadata": {},
   "source": [
    "# Multinomial naive bayes classifier.\n",
    "The multinomial Naive Bayes classifier is suitable for classification with discrete features.\n",
    "***\n",
    "### `class MultinomialNB(alpha: 1.0)`\n",
    "***\n",
    "\n",
    "## Parameters:\n",
    "  #### `alpha`: *Float, optional, default `1.0`*\n",
    "  Additive smoothing parameter.\n",
    "\n",
    "## Attributes:\n",
    "  #### `classLogPrior`: *Tensor, shape [class count]*\n",
    "  The prior log probability for each class.\n",
    "  #### `featureLogProb`: *Tensor, shape [class count, feature count]*\n",
    "  Empirical log probability of features given a class.\n",
    "  #### `classes`: *Tensor, shape [class count]*\n",
    "  Unique classes in target value set.\n",
    "\n",
    "***\n",
    "\n",
    "## Methods\n",
    "\n",
    "***\n",
    "\n",
    "  ### `fit(data: Tensor, labels: Tensor)`: Fit a multinomial naive bayes classifier model.\n",
    "\n",
    "  ### Parameters:\n",
    "\n",
    "  #### `data`: *Tensor, shape [sample count, feature count]*\n",
    "  Training data.\n",
    "  #### `labels`: *Tensor, shape [sample count]*  \n",
    "  Target values.\n",
    "\n",
    "  ***\n",
    "\n",
    "  ### `prediction(for: Tensor)`: Predict class for sample input data.\n",
    "\n",
    "  ### Parameters:\n",
    "  #### `for`: *Tensor, shape [sample count, feature count]*\n",
    "  Sample data.\n",
    "\n",
    "  ### Returns:\n",
    "  Returns classification of sample input data.\n",
    "  ***\n",
    "\n",
    "  ### `score(data: Tensor, labels: Tensor)`: Returns the mean accuracy.\n",
    "\n",
    "  ### Parameters:\n",
    "  #### `data`: *Tensor, shape [sample count, feature count]*\n",
    "  Test sample data.\n",
    "  #### `labels`: *Tensor, shape [sample count]*  \n",
    "  True value for test sample data.\n",
    "\n",
    "  ### Returns:\n",
    "  Returns the mean accuracy.\n",
    "  ***\n",
    "  \n",
    "  ### `predictLogProba(data: Tensor)`: Returns log-probability estimates.\n",
    "\n",
    "  ### Parameters:\n",
    "  #### `data`: *Tensor, shape [sample count, feature count]*\n",
    "  Input data.\n",
    "\n",
    "  ### Returns:\n",
    "  Returns log-probability estimates for the input data.\n",
    "\n",
    "***"
   ]
  },
  {
   "cell_type": "markdown",
   "metadata": {},
   "source": [
    "# Example"
   ]
  },
  {
   "cell_type": "markdown",
   "metadata": {},
   "source": [
    "<table class=\"tfo-notebook-buttons\" align=\"left\">\n",
    "  <td>\n",
    "    <a target=\"_blank\" href=\"https://colab.research.google.com/drive/1ql7p8_IVeuD8J1S8Zb7_0WDTWGpRF0V0\"><img src=\"https://www.tensorflow.org/images/colab_logo_32px.png\" />Run in Google Colab</a>\n",
    "  </td>\n",
    "  <td>\n",
    "    <a target=\"_blank\" href=\"https://github.com/param087/swiftML/blob/master/Notebooks/Multinomial%20Naive%20Bayes.ipynb\"><img src=\"https://www.tensorflow.org/images/GitHub-Mark-32px.png\" />View source on GitHub</a>\n",
    "  </td>\n",
    "</table>"
   ]
  },
  {
   "cell_type": "markdown",
   "metadata": {},
   "source": [
    "## Install the swiftML package from GitHub."
   ]
  },
  {
   "cell_type": "code",
   "execution_count": 1,
   "metadata": {},
   "outputs": [
    {
     "name": "stdout",
     "output_type": "stream",
     "text": [
      "Installing packages:\n",
      "\t.package(url: \"https://github.com/param087/swiftML\", from: \"0.0.2\")\n",
      "\t\tswiftML\n",
      "With SwiftPM flags: []\n",
      "Working in: /tmp/tmp6z11td5w/swift-install\n",
      "Fetching https://github.com/param087/swiftML\n",
      "Completed resolution in 3.81s\n",
      "Cloning https://github.com/param087/swiftML\n",
      "Resolving https://github.com/param087/swiftML at 0.0.2\n",
      "Compile Swift Module 'swiftML' (16 sources)\n",
      "/tmp/tmp6z11td5w/swift-install/package/.build/checkouts/swiftML-1801b701/Sources/swiftML/PCA.swift:158:13: warning: variable 'u' was written to, but never read\n",
      "        var u: Tensor<Double>\n",
      "            ^\n",
      "/tmp/tmp6z11td5w/swift-install/package/.build/checkouts/swiftML-1801b701/Sources/swiftML/RandomForest.swift:54:13: warning: variable 'outOfBootData' was written to, but never read\n",
      "        var outOfBootData: [[String]]\n",
      "            ^\n",
      "\n",
      "/tmp/tmp6z11td5w/swift-install/package/.build/checkouts/swiftML-1801b701/Sources/swiftML/KNeighborsClassifier.swift:106:13: warning: variable 'indices' was written to, but never read\n",
      "        var indices: Tensor<Int32>\n",
      "            ^\n",
      "\n",
      "Compile Swift Module 'jupyterInstalledPackages' (1 sources)\n",
      "Linking ./.build/x86_64-unknown-linux/debug/libjupyterInstalledPackages.so\n",
      "Initializing Swift...\n",
      "Installation complete!\n"
     ]
    }
   ],
   "source": [
    "%install '.package(url: \"https://github.com/param087/swiftML\", from: \"0.0.2\")' swiftML"
   ]
  },
  {
   "cell_type": "markdown",
   "metadata": {},
   "source": [
    "## Import Swift packages"
   ]
  },
  {
   "cell_type": "code",
   "execution_count": 2,
   "metadata": {},
   "outputs": [],
   "source": [
    "import TensorFlow\n",
    "import swiftML"
   ]
  },
  {
   "cell_type": "markdown",
   "metadata": {},
   "source": [
    "## Dataset"
   ]
  },
  {
   "cell_type": "code",
   "execution_count": 3,
   "metadata": {},
   "outputs": [],
   "source": [
    "let trainData = Tensor<Float>([[2, 4, 0, 3, 2, 2, 2, 4, 3, 2, 0, 2, 3, 4, 1, 2, 2, 4, 0, 1, 1, 0,\n",
    "        3, 1, 1, 2, 2, 0, 1, 3, 3, 3, 4, 4, 0, 0, 0, 3, 0, 0, 3, 4, 3, 1,\n",
    "        2, 0, 0, 2, 1, 3, 2, 3, 0, 1, 1, 4, 0, 0, 0, 2, 4, 2, 3, 2, 2, 0,\n",
    "        4, 3, 4, 3, 3, 2, 3, 3, 1, 4, 4, 1, 4, 0, 1, 3, 2, 1, 0, 2, 3, 0,\n",
    "        1, 0, 2, 3, 4, 0, 4, 2, 2, 0, 1, 2],\n",
    "       [0, 1, 4, 1, 1, 1, 2, 0, 2, 1, 1, 4, 3, 4, 0, 3, 0, 1, 0, 3, 0, 1,\n",
    "        4, 0, 0, 0, 0, 0, 1, 4, 0, 1, 2, 0, 1, 4, 0, 4, 1, 3, 4, 1, 2, 1,\n",
    "        4, 2, 2, 3, 1, 1, 1, 2, 0, 3, 0, 3, 3, 2, 1, 0, 2, 3, 3, 2, 4, 1,\n",
    "        2, 0, 1, 0, 0, 2, 0, 2, 1, 2, 2, 1, 1, 4, 3, 0, 3, 2, 1, 1, 1, 3,\n",
    "        3, 0, 0, 1, 3, 1, 4, 1, 0, 3, 0, 3],\n",
    "       [1, 3, 1, 1, 1, 2, 0, 1, 0, 1, 0, 1, 4, 3, 1, 2, 4, 2, 0, 0, 3, 4,\n",
    "        4, 2, 0, 3, 4, 3, 3, 4, 1, 2, 0, 1, 0, 3, 1, 2, 0, 2, 0, 1, 2, 4,\n",
    "        4, 4, 0, 1, 3, 3, 3, 4, 4, 1, 3, 3, 1, 0, 2, 1, 2, 0, 4, 3, 1, 3,\n",
    "        2, 3, 1, 1, 0, 2, 4, 0, 2, 1, 2, 3, 2, 1, 3, 3, 0, 1, 0, 4, 2, 4,\n",
    "        2, 3, 3, 0, 3, 0, 2, 3, 3, 2, 1, 0],\n",
    "       [2, 0, 4, 4, 4, 4, 2, 2, 0, 0, 1, 3, 3, 1, 4, 4, 3, 3, 1, 4, 0, 1,\n",
    "        0, 1, 3, 1, 4, 3, 2, 0, 2, 1, 3, 2, 4, 3, 0, 0, 1, 4, 3, 1, 1, 2,\n",
    "        1, 3, 2, 4, 2, 4, 3, 4, 4, 4, 1, 0, 0, 4, 4, 3, 1, 3, 1, 4, 1, 3,\n",
    "        2, 3, 4, 1, 0, 2, 4, 3, 2, 1, 1, 1, 0, 2, 4, 4, 3, 1, 1, 3, 1, 2,\n",
    "        3, 0, 0, 4, 3, 4, 4, 0, 4, 1, 2, 3],\n",
    "       [2, 2, 1, 0, 3, 3, 3, 1, 2, 3, 3, 2, 2, 1, 4, 2, 0, 2, 1, 3, 2, 1,\n",
    "        2, 2, 2, 2, 4, 0, 1, 3, 0, 0, 3, 3, 4, 4, 4, 2, 0, 4, 1, 1, 2, 2,\n",
    "        2, 0, 2, 3, 4, 3, 0, 2, 2, 1, 4, 4, 1, 0, 1, 3, 0, 1, 3, 1, 2, 4,\n",
    "        0, 4, 0, 1, 1, 0, 0, 1, 2, 2, 1, 4, 1, 2, 1, 2, 1, 3, 2, 3, 0, 1,\n",
    "        3, 3, 2, 3, 1, 1, 0, 0, 0, 0, 1, 0],\n",
    "       [3, 2, 2, 2, 3, 4, 2, 0, 0, 2, 3, 0, 2, 4, 2, 0, 3, 2, 3, 0, 1, 4,\n",
    "        4, 0, 1, 3, 4, 1, 1, 1, 0, 3, 3, 2, 3, 2, 0, 1, 1, 4, 2, 4, 4, 1,\n",
    "        4, 3, 3, 4, 1, 4, 4, 4, 0, 1, 0, 2, 0, 1, 2, 3, 2, 2, 1, 4, 3, 2,\n",
    "        0, 0, 1, 3, 3, 1, 4, 2, 4, 3, 2, 0, 3, 1, 2, 3, 3, 4, 1, 3, 3, 0,\n",
    "        3, 2, 0, 4, 4, 0, 4, 2, 4, 1, 2, 0]])\n",
    "let trainLabels = Tensor<Int32>([1, 2, 3, 4, 5, 6])\n",
    "\n",
    "let testData = Tensor<Float32>([[1, 3, 1, 1, 1, 2, 0, 1, 0, 1, 0, 1, 4, 3, 1, 2, 4, 2, 0, 0, 3, 4,\n",
    "        4, 2, 0, 3, 4, 3, 3, 4, 1, 2, 0, 1, 0, 3, 1, 2, 0, 2, 0, 1, 2, 4,\n",
    "        4, 4, 0, 1, 3, 3, 3, 4, 4, 1, 3, 3, 1, 0, 2, 1, 2, 0, 4, 3, 1, 3,\n",
    "        2, 3, 1, 1, 0, 2, 4, 0, 2, 1, 2, 3, 2, 1, 3, 3, 0, 1, 0, 4, 2, 4,\n",
    "        2, 3, 3, 0, 3, 0, 2, 3, 3, 2, 1, 0]])\n",
    "\n",
    "let testLabels = Tensor<Int32>([3])"
   ]
  },
  {
   "cell_type": "code",
   "execution_count": 4,
   "metadata": {},
   "outputs": [
    {
     "name": "stdout",
     "output_type": "stream",
     "text": [
      "Prediction:  [3]\r\n",
      "Score:  1.0\r\n"
     ]
    }
   ],
   "source": [
    "let model = MultinomialNB()\n",
    "model.fit(data: trainData, labels: trainLabels)\n",
    "print(\"Prediction: \",model.prediction(for: testData))\n",
    "print(\"Score: \", model.score(data: testData, labels: testLabels))"
   ]
  },
  {
   "cell_type": "code",
   "execution_count": null,
   "metadata": {},
   "outputs": [],
   "source": []
  }
 ],
 "metadata": {
  "kernelspec": {
   "display_name": "Swift",
   "language": "swift",
   "name": "swift"
  },
  "language_info": {
   "file_extension": ".swift",
   "mimetype": "text/x-swift",
   "name": "swift",
   "version": ""
  }
 },
 "nbformat": 4,
 "nbformat_minor": 2
}

{
 "cells": [
  {
   "cell_type": "markdown",
   "metadata": {},
   "source": [
    "# K-neighbors classifier\n",
    "\n",
    "***\n",
    "### `class KNeighborsClassifier(neighborCount: 5, weights: \"distance\", p: 2)`\n",
    "***\n",
    "\n",
    "## Parameters:\n",
    "  #### `neighborCount`: *Int, optional, default `5`*\n",
    "  Number of neighbors to use by queries.\n",
    "  #### `weights`: *{`\"distance\"`,`\"uniform\"`}, optional, default `\"distance\"`*\n",
    "  Weight function used in prediction.\n",
    "  `\"uniform\"`: Uniform weights. All points in each neighborhood are weighted equally.\n",
    "  `\"distance\"`: Weight points by the inverse of their distance. In this case, closer neighbors of a query point will have a greater influence than neighbors which are further away.\n",
    "  #### `p`: *Int, optional, default `2`*\n",
    "  Power parameter for the Minkowski metric. When `p` = 1, this is equivalent to using manhattan distance (`l1`), and euclidean distance (`l2`) for `p` = 2. For arbitrary `p`, minkowski_distance (`l_p`) is used.\n",
    "\n",
    "***\n",
    "\n",
    "## Methods\n",
    "\n",
    "***\n",
    "\n",
    "  ### `fit(data: Tensor, labels: Tensor)`: Fit a K-neighbors classifier model.\n",
    "\n",
    "  ### Parameters:\n",
    "\n",
    "  #### `data`: *Tensor, shape [sample count, feature count]*\n",
    "  Training data.\n",
    "  #### `labels`: *Tensor, shape [sample count]*  \n",
    "  Target values.\n",
    "\n",
    "  ***\n",
    "\n",
    "  ### `prediction(for: Tensor)`: Predict the class labels for the provided data.\n",
    "\n",
    "  ### Parameters:\n",
    "  #### `for`: *Tensor, shape [sample count, feature count]*\n",
    "  Sample data.\n",
    "\n",
    "  ### Returns:\n",
    "  Class label for test data.\n",
    "\n",
    "  ***\n",
    "  ### `score(data: Tensor, labels: Tensor)`: Returns the mean accuracy.\n",
    "\n",
    "  ### Parameters:\n",
    "  #### `data`: *Tensor, shape [sample count, feature count]*\n",
    "  Test sample data.\n",
    "  #### `labels`: *Tensor, shape [sample count]*  \n",
    "  True value for test sample data.\n",
    "\n",
    "  ### Returns:\n",
    "  Returns the mean accuracy.\n",
    "  \n",
    "***"
   ]
  },
  {
   "cell_type": "markdown",
   "metadata": {},
   "source": [
    "# Example"
   ]
  },
  {
   "cell_type": "markdown",
   "metadata": {},
   "source": [
    "##  Install the swiftML package that's in the local directory."
   ]
  },
  {
   "cell_type": "code",
   "execution_count": 1,
   "metadata": {},
   "outputs": [
    {
     "name": "stdout",
     "output_type": "stream",
     "text": [
      "Installing packages:\n",
      "\t.package(path: \"/home/param/GSOC19/github/swiftML\")\n",
      "\t\tswiftML\n",
      "With SwiftPM flags: []\n",
      "Working in: /tmp/tmpwqajoo4b/swift-install\n",
      "Completed resolution in 0.43s\n",
      "Compile Swift Module 'swiftML' (3 sources)\n",
      "/home/param/GSOC19/github/swiftML/Sources/swiftML/KNeighborsClassifier.swift:107:13: warning: variable 'indices' was written to, but never read\n",
      "        var indices: Tensor<Int32>\n",
      "            ^\n",
      "\n",
      "Compile Swift Module 'jupyterInstalledPackages' (1 sources)\n",
      "Linking ./.build/x86_64-unknown-linux/debug/libjupyterInstalledPackages.so\n",
      "Initializing Swift...\n",
      "Installation complete!\n"
     ]
    }
   ],
   "source": [
    "%install '.package(path: \"/home/param/GSOC19/github/swiftML\")' swiftML"
   ]
  },
  {
   "cell_type": "markdown",
   "metadata": {},
   "source": [
    "## Install the swiftML package from GitHub."
   ]
  },
  {
   "cell_type": "code",
   "execution_count": null,
   "metadata": {},
   "outputs": [],
   "source": [
    "%install '.package(url: \"https://github.com/param087/swiftML\", from: \"0.0.1\")' swiftML"
   ]
  },
  {
   "cell_type": "markdown",
   "metadata": {},
   "source": [
    "## Import Swift packages"
   ]
  },
  {
   "cell_type": "code",
   "execution_count": 2,
   "metadata": {},
   "outputs": [],
   "source": [
    "import TensorFlow\n",
    "import swiftML"
   ]
  },
  {
   "cell_type": "markdown",
   "metadata": {},
   "source": [
    "## Import Python modules"
   ]
  },
  {
   "cell_type": "code",
   "execution_count": 3,
   "metadata": {},
   "outputs": [],
   "source": [
    "import Python\n",
    "\n",
    "let np = Python.import(\"numpy\")\n",
    "let datasets = Python.import(\"sklearn.datasets\")\n",
    "let modelSelection = Python.import(\"sklearn.model_selection\")"
   ]
  },
  {
   "cell_type": "markdown",
   "metadata": {},
   "source": [
    "## Load and split dataset"
   ]
  },
  {
   "cell_type": "code",
   "execution_count": 4,
   "metadata": {},
   "outputs": [],
   "source": [
    "// Load the iris dataset\n",
    "let iris = datasets.load_iris()\n",
    "\n",
    "let irisData = Tensor<Float>(numpy: np.array(iris.data, dtype: np.float32))!\n",
    "\n",
    "// Split the dataset into trainig and testing \n",
    "let trainTestSplit = modelSelection.train_test_split(iris.data, iris.target, test_size: 0.3)\n",
    "\n",
    "let trainData = Tensor<Float>(numpy: np.array(trainTestSplit[0], dtype: np.float32))!\n",
    "let testData = Tensor<Float>(numpy: np.array(trainTestSplit[1], dtype: np.float32))!\n",
    "let trainTarget = Tensor<Int32>(\n",
    "    Tensor<Float>(numpy: np.array(trainTestSplit[2], dtype: np.float32))!)\n",
    "let testTarget = Tensor<Int32>(\n",
    "    Tensor<Float>(numpy: np.array(trainTestSplit[3], dtype: np.float32))!)\n"
   ]
  },
  {
   "cell_type": "markdown",
   "metadata": {},
   "source": [
    "##  KNeighbors Classifier "
   ]
  },
  {
   "cell_type": "code",
   "execution_count": 5,
   "metadata": {},
   "outputs": [
    {
     "name": "stdout",
     "output_type": "stream",
     "text": [
      "Training Accuracy:  1.0\n",
      "Testing Accuracy:  0.93333334\n"
     ]
    }
   ],
   "source": [
    "let model = KNeighborsClassifier(neighborCount: 3, weights: \"distance\")\n",
    "model.fit(data: trainData, labels: trainTarget)\n",
    "print(\"Training Accuracy: \", model.score(data: trainData, labels: trainTarget))\n",
    "print(\"Testing Accuracy: \", model.score(data: testData, labels: testTarget))"
   ]
  },
  {
   "cell_type": "markdown",
   "metadata": {},
   "source": [
    "##  KNeighbors Classifier"
   ]
  },
  {
   "cell_type": "code",
   "execution_count": 6,
   "metadata": {},
   "outputs": [
    {
     "name": "stdout",
     "output_type": "stream",
     "text": [
      "Training Accuracy:  1.0\n",
      "Testing Accuracy:  0.93333334\n"
     ]
    }
   ],
   "source": [
    "let model = KNeighborsClassifier(neighborCount: 4, weights: \"distance\", p: 2)\n",
    "model.fit(data: trainData, labels: trainTarget)\n",
    "print(\"Training Accuracy: \", model.score(data: trainData, labels: trainTarget))\n",
    "print(\"Testing Accuracy: \", model.score(data: testData, labels: testTarget))"
   ]
  }
 ],
 "metadata": {
  "kernelspec": {
   "display_name": "Swift",
   "language": "swift",
   "name": "swift"
  },
  "language_info": {
   "file_extension": ".swift",
   "mimetype": "text/x-swift",
   "name": "swift",
   "version": ""
  }
 },
 "nbformat": 4,
 "nbformat_minor": 2
}

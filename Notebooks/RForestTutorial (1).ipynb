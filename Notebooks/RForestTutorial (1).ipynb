{
  "nbformat": 4,
  "nbformat_minor": 0,
  "metadata": {
    "kernelspec": {
      "display_name": "Swift",
      "language": "swift",
      "name": "swift"
    },
    "language_info": {
      "file_extension": ".swift",
      "mimetype": "text/x-swift",
      "name": "swift",
      "version": ""
    },
    "colab": {
      "name": "RForestTutorial.ipynb",
      "version": "0.3.2",
      "provenance": [],
      "collapsed_sections": []
    }
  },
  "cells": [
    {
      "cell_type": "markdown",
      "metadata": {
        "id": "hN2Xlkfgd4vU",
        "colab_type": "text"
      },
      "source": [
        "# Random Forest\n",
        "\n",
        "***\n",
        "### `class RandomForest(data: [[String]],target: Int, perform: String,using: String, nTrees: Int, nFeatures: Int, depth: Int)  `\n",
        "***\n",
        "\n",
        "## Parameters:\n",
        "  #### `data` : [[String]]\n",
        "  Data with labels (see format below)\n",
        "  #### `target`: *Int*\n",
        "  column number of the labels\n",
        "  Max depth tree to which the decision tree is grown\n",
        "  #### `perform`: *String*\n",
        "  whether to do regression or classification\n",
        "  #### `using`: *String*\n",
        "  whether to use infoGain or giniImpurity\n",
        "  #### `nTrees`: *String*\n",
        "  number of Trees\n",
        "  #### `nFeatures`: *String*\n",
        "  number of features to consider at each step\n",
        "  #### `tolerance`: *Float, default: 0.1*\n",
        "  Column number of the labels\n",
        "  \n",
        "\n",
        "***\n",
        "\n",
        "## Methods\n",
        "\n",
        "***\n",
        "\n",
        "  ### `make()` : Grows trees to fill the random forest \n",
        "\n",
        "  ***\n",
        "\n",
        "  ### `predict(this: [[String]])` : Classfies/Predicts an example by using all trees in the foret\n",
        "\n",
        "  ### parameters:\n",
        "  #### `this`: [[String]]\n",
        "  String array of sample with feature header to be classified/predicted\n",
        "\n",
        "  ### Returns:\n",
        "  Returns predicted classification/prediction as a string.  \n",
        "\n",
        "  ***\n",
        "  ### `score(with: [[String]])`: Scores the forest's accuracy on test data.\n",
        "\n",
        "  ### parameters:\n",
        "  #### `with`: [[String]]\n",
        "  test data as a 2D string array with feature header (see format below)\n",
        "\n",
        "  ### Returns:\n",
        "  Returns accuracy of predictions as float \n",
        "  and predictions as string array\n",
        "  \n",
        "***"
      ]
    },
    {
      "cell_type": "markdown",
      "metadata": {
        "id": "LWF2kIiid4vW",
        "colab_type": "text"
      },
      "source": [
        "# Example"
      ]
    },
    {
      "cell_type": "markdown",
      "metadata": {
        "id": "Iep64439d4vX",
        "colab_type": "text"
      },
      "source": [
        "##  Install the swiftML package that's in the local directory."
      ]
    },
    {
      "cell_type": "code",
      "metadata": {
        "id": "npVl0Xxlk9oW",
        "colab_type": "code",
        "colab": {}
      },
      "source": [
        "//path to the local directory\n",
        "%install '.package(path: \"/home/victora/GSOC19/github/swiftML\")' swiftML"
      ],
      "execution_count": 0,
      "outputs": []
    },
    {
      "cell_type": "markdown",
      "metadata": {
        "id": "kcDTSCQcd4vc",
        "colab_type": "text"
      },
      "source": [
        "## Install the swiftML package from GitHub."
      ]
    },
    {
      "cell_type": "code",
      "metadata": {
        "id": "wxCyCTsKd4vd",
        "colab_type": "code",
        "colab": {}
      },
      "source": [
        "%install '.package(url: \"https://github.com/param087/swiftML\", from: \"0.0.1\")' swiftML"
      ],
      "execution_count": 0,
      "outputs": []
    },
    {
      "cell_type": "markdown",
      "metadata": {
        "id": "oI4v2EDQd4vh",
        "colab_type": "text"
      },
      "source": [
        "## Import Swift packages"
      ]
    },
    {
      "cell_type": "code",
      "metadata": {
        "id": "rsVtX_Ihd4vi",
        "colab_type": "code",
        "colab": {}
      },
      "source": [
        "import TensorFlow\n",
        "import swiftML"
      ],
      "execution_count": 0,
      "outputs": []
    },
    {
      "cell_type": "markdown",
      "metadata": {
        "id": "GQMj84mad4vp",
        "colab_type": "text"
      },
      "source": [
        "## Load dataset"
      ]
    },
    {
      "cell_type": "code",
      "metadata": {
        "id": "9Wxckr1hd4vq",
        "colab_type": "code",
        "colab": {}
      },
      "source": [
        "let patientDataTrain : [[String]] = [\n",
        "  [\"temperature\", \"nausea\", \"lumbar pain\", \"urine pushing\", \"micturition pains\", \"Burning of urethra, itch, swelling of urethra outlet\", \"Inflamtation of urinary bladder\", \"Nephritis of renal pelvis origin\"],\n",
        "    [\"35.5\",    \"no\",    \"yes\",    \"no\",    \"no\",    \"no\",    \"no\",    \"no\"],\n",
        "    [\"35.9\",    \"no\",    \"no\",    \"yes\",    \"yes\",    \"yes\",    \"yes\",    \"no\"],\n",
        "    [\"36.0\",    \"no\",    \"no\",    \"yes\",    \"yes\",    \"yes\",    \"yes\",    \"no\"],\n",
        "    [\"36.0\",    \"no\",    \"yes\",    \"no\",    \"no\",    \"no\",    \"no\",    \"no\"],\n",
        "    [\"36.0\",    \"no\",    \"yes\",    \"no\",    \"no\",    \"no\",    \"no\",    \"no\"],\n",
        "    [\"36.2\",    \"no\",    \"no\",    \"yes\",    \"yes\",    \"yes\",    \"yes\",    \"no\"],\n",
        "    [\"36.2\",    \"no\",    \"yes\",    \"no\",    \"no\",    \"no\",    \"no\",    \"no\"],\n",
        "    [\"36.3\",    \"no\",    \"no\",    \"yes\",    \"yes\",    \"yes\",    \"yes\",    \"no\"],\n",
        "    [\"36.6\",    \"no\",    \"no\",    \"yes\",    \"yes\",    \"yes\",    \"yes\",    \"no\"],\n",
        "    [\"36.6\",    \"no\",    \"no\",    \"yes\",    \"yes\",    \"yes\",    \"yes\",    \"no\"],\n",
        "    [\"36.6\",    \"no\",    \"yes\",    \"no\",    \"no\",    \"no\",    \"no\",    \"no\"],\n",
        "    [\"36.6\",    \"no\",    \"yes\",    \"no\",    \"no\",    \"no\",    \"no\",    \"no\"],\n",
        "    [\"36.7\",    \"no\",    \"no\",    \"yes\",    \"yes\",    \"yes\",    \"yes\", \"no\"],\n",
        "    [\"36.7\",    \"no\",    \"yes\",    \"no\",    \"no\",    \"no\",    \"no\",    \"no\"],\n",
        "    [\"36.7\",    \"no\",    \"yes\",    \"no\",    \"no\",    \"no\",    \"no\",    \"no\"],\n",
        "    [\"36.8\",    \"no\",    \"no\",    \"yes\",    \"yes\",    \"yes\",    \"yes\",    \"no\"],\n",
        "    [\"36.8\",    \"no\",    \"no\",   \"yes\",    \"yes\",    \"yes\",    \"yes\",    \"no\"],\n",
        "    [\"36.9\",    \"no\",    \"no\",    \"yes\",    \"yes\",    \"yes\",    \"yes\",    \"no\"],\n",
        "    [\"36.9\",    \"no\",    \"yes\",    \"no\",    \"no\",    \"no\",    \"no\",    \"no\"],\n",
        "    [\"37.0\",    \"no\",    \"no\",    \"yes\",    \"yes\",    \"no\",    \"yes\",    \"no\"],\n",
        "    [\"37.0\",    \"no\",    \"no\",    \"yes\",    \"yes\",    \"no\",    \"yes\",    \"no\"],\n",
        "    [\"37.0\",    \"no\",    \"yes\",    \"no\",    \"no\",    \"no\",    \"no\",    \"no\"],\n",
        "    [\"37.0\",    \"no\",    \"no\",    \"yes\",    \"yes\",    \"yes\",    \"yes\",    \"no\"],\n",
        "    [\"37.0\",    \"no\",    \"no\",    \"yes\",    \"yes\",    \"yes\",    \"yes\",    \"no\"],\n",
        "    [\"37.0\",    \"no\",    \"no\",    \"yes\",    \"yes\",    \"yes\",    \"yes\",    \"no\"],\n",
        "    [\"37.0\",    \"no\",    \"no\",    \"yes\",    \"no\",    \"no\",    \"yes\",    \"no\"],\n",
        "    [\"37.1\",    \"no\",    \"yes\",    \"no\",    \"no\",    \"no\",    \"no\",    \"no\"],\n",
        "    [\"37.1\",    \"no\",    \"no\",    \"yes\",    \"yes\",    \"yes\",    \"yes\",    \"no\"],\n",
        "    [\"37.1\",    \"no\",    \"no\",     \"yes\",    \"no\",    \"no\",    \"yes\",    \"no\"],\n",
        "    [\"37.2\",    \"no\",    \"no\",    \"yes\",    \"yes\",    \"no\",    \"yes\",    \"no\"],\n",
        "    [\"37.2\",    \"no\",    \"yes\",    \"no\",    \"no\",    \"no\",    \"no\",    \"no\"],\n",
        "    [\"37.2\",    \"no\",    \"no\",    \"yes\",    \"no\",    \"no\",    \"yes\",    \"no\"],\n",
        "    [\"37.3\",    \"no\",    \"yes\",    \"no\",    \"no\",    \"no\",    \"no\",    \"no\"],\n",
        "    [\"37.3\",    \"no\",    \"no\",    \"yes\",    \"yes\",    \"yes\",    \"yes\",    \"no\"],\n",
        "    [\"37.3\",    \"no\",    \"no\",    \"yes\",    \"no\",    \"no\",    \"yes\",    \"no\"],\n",
        "    [\"37.4\",    \"no\",    \"yes\",    \"no\",    \"no\",    \"no\",    \"no\",    \"no\"],\n",
        "    [\"37.4\",    \"no\",    \"no\",    \"yes\",    \"no\",    \"no\",    \"yes\",    \"no\"],\n",
        "    [\"37.5\",    \"no\",    \"no\",    \"yes\",    \"yes\",    \"no\",    \"yes\",    \"no\"],\n",
        "    [\"37.5\",    \"no\",    \"yes\",    \"no\",    \"no\",    \"no\",    \"no\",    \"no\"],\n",
        "    [\"37.5\",    \"no\",    \"yes\",    \"no\",    \"no\",    \"no\",    \"no\",    \"no\"],\n",
        "    [\"37.5\",    \"no\",    \"no\",    \"yes\",    \"yes\",    \"yes\",    \"yes\",    \"no\"],\n",
        "    [\"37.5\",    \"no\",    \"no\",    \"yes\",    \"no\",    \"no\",    \"yes\",    \"no\"],\n",
        "    [\"37.6\",    \"no\",    \"no\",    \"yes\",    \"yes\",    \"no\",    \"yes\",    \"no\"],\n",
        "    [\"37.6\",    \"no\",    \"no\",    \"yes\",    \"yes\",    \"no\",    \"yes\",    \"no\"],\n",
        "    [\"37.6\",    \"no\",    \"no\",    \"yes\",    \"yes\",    \"yes\",    \"yes\",    \"no\"],\n",
        "    [\"37.7\",    \"no\",    \"no\",    \"yes\",    \"yes\",    \"no\",    \"yes\",    \"no\"],\n",
        "    [\"37.7\",    \"no\",    \"yes\",    \"no\",    \"no\",    \"no\",    \"no\",    \"no\"],\n",
        "    [\"37.7\",    \"no\",    \"no\",    \"yes\",    \"no\",    \"no\",    \"yes\",    \"no\"],\n",
        "    [\"37.8\",    \"no\",    \"yes\",    \"no\",    \"no\",    \"no\",    \"no\",    \"no\"],\n",
        "    [\"37.8\",    \"no\",    \"no\",    \"yes\",    \"yes\",    \"yes\",    \"yes\",    \"no\"],\n",
        "    [\"37.8\",    \"no\",    \"no\",    \"yes\",    \"no\",    \"no\",    \"yes\",    \"no\"],\n",
        "    [\"37.9\",    \"no\",    \"no\",    \"yes\",    \"yes\",    \"no\",    \"yes\",    \"no\"],\n",
        "    [\"37.9\",    \"no\",    \"no\",    \"yes\",    \"yes\",    \"no\",    \"yes\",    \"no\"],\n",
        "    [\"37.9\",    \"no\",    \"yes\",    \"no\",    \"no\",    \"no\",    \"no\",    \"no\"],\n",
        "    [\"37.9\",    \"no\",    \"no\",    \"yes\",    \"yes\",    \"yes\",    \"yes\",    \"no\"],\n",
        "    [\"37.9\",    \"no\",    \"no\",    \"yes\",    \"no\",    \"no\",    \"yes\",    \"no\"],\n",
        "    [\"38.0\",    \"no\",    \"yes\",    \"yes\",    \"no\",    \"yes\",    \"no\",    \"yes\"],\n",
        "    [\"38.0\",    \"no\",    \"yes\",    \"yes\",    \"no\",    \"yes\",    \"no\",    \"yes\"],\n",
        "    [\"38.1\",    \"no\",    \"yes\",    \"yes\",    \"no\",    \"yes\",    \"no\",    \"yes\"],\n",
        "    [\"38.3\",    \"no\",    \"yes\",    \"yes\",    \"no\",    \"yes\",    \"no\",    \"yes\"],\n",
        "    [\"38.5\",    \"no\",    \"yes\",    \"yes\",    \"no\",    \"yes\",    \"no\",    \"yes\"],\n",
        "    [\"38.9\",    \"no\",    \"yes\",    \"yes\",    \"no\",    \"yes\",    \"no\",    \"yes\"],\n",
        "    [\"39.0\",    \"no\",    \"yes\",    \"yes\",    \"no\",    \"yes\",    \"no\",    \"yes\"],\n",
        "    [\"39.7\",    \"no\",    \"yes\",    \"yes\",    \"no\",    \"yes\",    \"no\",    \"yes\"],\n",
        "    [\"40.0\",    \"yes\",    \"yes\",    \"yes\",    \"yes\",    \"yes\",    \"yes\",    \"yes\"],\n",
        "    [\"40.0\",    \"yes\",    \"yes\",    \"yes\",    \"yes\",    \"yes\",    \"yes\",    \"yes\"],\n",
        "    [\"40.0\",    \"yes\",    \"yes\",    \"yes\",    \"yes\",    \"no\",    \"yes\",    \"yes\"],\n",
        "    [\"40.0\",    \"no\",    \"no\",    \"no\",    \"no\",    \"no\",    \"no\",    \"no\"],\n",
        "    [\"40.0\",    \"no\",    \"no\",    \"no\",    \"no\",    \"no\",    \"no\",    \"no\"],\n",
        "    [\"40.0\",    \"yes\",    \"yes\",    \"no\",    \"yes\",    \"no\",    \"no\",    \"yes\"],\n",
        "    [\"40.0\",    \"no\",    \"yes\",    \"yes\",    \"no\",    \"yes\",    \"no\",    \"yes\"],\n",
        "    [\"40.2\",    \"yes\",    \"yes\",    \"yes\",    \"yes\",    \"yes\",    \"yes\",    \"yes\"],\n",
        "    [\"40.2\",    \"no\",    \"no\",    \"no\",    \"no\",    \"no\",    \"no\",    \"no\"],\n",
        "    [\"40.2\",    \"yes\",    \"yes\",    \"no\",    \"yes\",    \"no\",    \"no\",    \"yes\"],\n",
        "    [\"40.3\",    \"no\",    \"yes\",    \"yes\",    \"no\",    \"yes\",    \"no\",    \"yes\"],\n",
        "    [\"40.4\",    \"yes\",    \"yes\",    \"yes\",    \"yes\",    \"yes\",    \"yes\",    \"yes\"],\n",
        "    [\"40.4\",    \"yes\",    \"yes\",    \"yes\",    \"yes\",    \"no\",    \"yes\",    \"yes\"],\n",
        "    [\"40.4\",    \"yes\",    \"yes\",    \"yes\",    \"yes\",    \"no\",    \"yes\",    \"yes\"],\n",
        "    [\"40.4\",    \"no\",    \"no\",    \"no\",    \"no\",    \"no\",    \"no\",    \"no\"],\n",
        "    [\"40.5\",    \"yes\",    \"yes\",    \"yes\",    \"yes\",    \"no\",    \"yes\",    \"yes\"],\n",
        "    [\"40.6\",    \"yes\",    \"yes\",    \"yes\",    \"yes\",    \"yes\",    \"yes\",    \"yes\"],\n",
        "    [\"40.6\",    \"no\",    \"no\",    \"no\",    \"no\",    \"no\",    \"no\",    \"no\"],\n",
        "    [\"40.6\",    \"yes\",    \"yes\",    \"no\",    \"yes\",    \"no\",    \"no\",    \"yes\"],\n",
        "    [\"40.7\",    \"yes\",    \"yes\",    \"yes\",    \"yes\",    \"yes\",    \"yes\",    \"yes\"],\n",
        "    [\"40.7\",    \"yes\",    \"yes\",    \"yes\",    \"yes\",    \"no\",    \"yes\",    \"yes\"],\n",
        "    [\"40.7\",    \"yes\",    \"yes\",    \"no\",    \"yes\",    \"no\",    \"no\",   \"yes\"],\n",
        "    [\"40.7\",    \"no\",    \"yes\",   \"yes\",    \"no\",    \"yes\",    \"no\",    \"yes\"],\n",
        "    [\"40.8\",    \"no\",    \"yes\",    \"yes\",    \"no\",    \"yes\",    \"no\",    \"yes\"],\n",
        "    [\"40.9\",    \"no\",    \"yes\",    \"yes\",    \"no\",    \"yes\",    \"no\",    \"yes\"],\n",
        "    [\"41.0\",    \"yes\",    \"yes\",    \"yes\",    \"yes\",    \"yes\",    \"yes\",    \"yes\"],\n",
        "    [\"41.0\",    \"yes\",    \"yes\",    \"no\",    \"yes\",   \"no\",    \"no\",    \"yes\"],\n",
        "    [\"41.0\",    \"no\",    \"yes\",    \"yes\",    \"no\",    \"yes\",    \"no\",    \"yes\"],\n",
        "    [\"41.1\",    \"yes\",    \"yes\",    \"yes\",    \"yes\",    \"yes\",    \"yes\",    \"yes\"],\n",
        "    [\"41.1\",    \"yes\",    \"yes\",    \"yes\",    \"yes\",    \"no\",    \"yes\",    \"yes\"],\n",
        "    [\"41.1\",    \"no\",    \"no\",    \"no\",    \"no\",    \"no\",    \"no\",    \"no\"],\n",
        "    [\"41.1\",    \"no\",    \"yes\",    \"yes\",    \"no\",    \"yes\",    \"no\",    \"yes\"],\n",
        "    [\"41.2\",    \"yes\",    \"yes\",    \"yes\",    \"yes\",    \"yes\",    \"yes\",    \"yes\"],\n",
        "    [\"41.2\",    \"no\",    \"no\",    \"no\",    \"no\",    \"no\",    \"no\",    \"no\"],\n",
        "    [\"41.2\",    \"no\",    \"yes\",    \"yes\",    \"no\",    \"yes\",    \"no\",    \"yes\"],\n",
        "    [\"41.3\",    \"yes\",    \"yes\",    \"yes\",    \"yes\",    \"no\",    \"yes\",    \"yes\"],\n",
        "    [\"41.4\",    \"no\",    \"yes\",    \"yes\",    \"no\",    \"yes\",    \"no\",    \"yes\"],\n",
        "    [\"41.5\",    \"no\",   \"no\",    \"no\",    \"no\",    \"no\",    \"no\",    \"no\"],\n",
        "    [\"41.5\",    \"yes\",    \"yes\",    \"no\",    \"yes\",    \"no\",    \"no\",    \"yes\"],\n",
        "    [\"41.5\",    \"no\",    \"yes\",    \"yes\",    \"no\",    \"yes\",    \"no\",    \"yes\"]\n",
        "]\n",
        "\n",
        "\n",
        "let patientDataTest : [[String]] = [\n",
        "  [\"temperature\", \"nausea\", \"lumbar pain\", \"urine pushing\", \"micturition pains\", \"Burning of urethra, itch, swelling of urethra outlet\", \"Inflamtation of urinary bladder\", \"Nephritis of renal pelvis origin\"],\n",
        "        [\"41.5\",    \"no\",    \"yes\",    \"yes\",    \"no\",    \"yes\",    \"no\",    \"yes\"],\n",
        "        [\"41.2\",    \"yes\",    \"yes\",    \"no\",    \"yes\",    \"no\",    \"no\",    \"yes\"],\n",
        "        [\"41.1\",    \"yes\",    \"yes\",    \"no\",    \"yes\",    \"no\",    \"no\",    \"yes\"],\n",
        "        [\"41.0\",    \"no\",    \"no\",    \"no\",    \"no\",    \"no\",    \"no\",    \"no\"],\n",
        "        [\"40.9\",    \"yes\",    \"yes\",    \"yes\",    \"yes\",    \"no\",    \"yes\",   \"yes\"],\n",
        "        [\"40.9\",    \"yes\",    \"yes\",    \"yes\",    \"yes\",    \"no\",    \"yes\",    \"yes\"],\n",
        "        [\"40.7\",    \"no\",    \"no\",    \"no\",    \"no\",    \"no\",    \"no\",    \"no\"],\n",
        "        [\"40.4\",    \"yes\",    \"yes\",    \"no\",    \"yes\",    \"no\",    \"no\",    \"yes\"],\n",
        "        [\"40.1\",    \"yes\",    \"yes\",    \"yes\",    \"yes\",    \"no\",    \"yes\",    \"yes\"],\n",
        "        [\"40.0\",    \"yes\",    \"yes\",    \"no\",    \"yes\",    \"no\",    \"no\",    \"yes\"],\n",
        "        [\"39.4\",    \"no\",    \"yes\",    \"yes\",    \"no\",    \"yes\",    \"no\",    \"yes\"],\n",
        "        [\"38.7\",    \"no\",    \"yes\",    \"yes\",    \"no\",    \"yes\",    \"no\",    \"yes\"],\n",
        "        [\"37.7\",    \"no\",    \"no\",    \"yes\",    \"yes\",    \"no\",    \"yes\",    \"no\"],\n",
        "        [\"37.5\",    \"no\",    \"no\",    \"yes\",    \"no\",    \"no\",    \"yes\",    \"no\"],\n",
        "        [\"37.0\",    \"no\",    \"no\",    \"yes\",    \"yes\",    \"yes\",    \"yes\",    \"no\"],\n",
        "        [\"35.9\",    \"no\",    \"yes\",    \"no\",    \"no\",    \"no\",    \"no\",    \"no\"]\n",
        " ]\n"
      ],
      "execution_count": 0,
      "outputs": []
    },
    {
      "cell_type": "markdown",
      "metadata": {
        "id": "WjJB6Wkdd4vw",
        "colab_type": "text"
      },
      "source": [
        "## Fit a Random Forest Classifier"
      ]
    },
    {
      "cell_type": "code",
      "metadata": {
        "id": "E5YrvnHBd4vy",
        "colab_type": "code",
        "colab": {}
      },
      "source": [
        "let RF = RandomForest(data: patientDataTrain,\n",
        "                      target: 6, perform: \"classification\",\n",
        "                      using: \"gini\", nTrees: 100,\n",
        "                      nFeatures: 3, depth: 5)"
      ],
      "execution_count": 0,
      "outputs": []
    },
    {
      "cell_type": "code",
      "metadata": {
        "id": "I21pEpDrxVnM",
        "colab_type": "code",
        "colab": {}
      },
      "source": [
        "RF.make()"
      ],
      "execution_count": 0,
      "outputs": []
    },
    {
      "cell_type": "markdown",
      "metadata": {
        "id": "SQZBKwpZkZuW",
        "colab_type": "text"
      },
      "source": [
        "### Classifying single example\n",
        "\n",
        "\n"
      ]
    },
    {
      "cell_type": "code",
      "metadata": {
        "id": "Z9ZQtivmkfWJ",
        "colab_type": "code",
        "outputId": "ff1fbc11-09dc-4d2a-dc53-daa0abdfce4a",
        "colab": {
          "base_uri": "https://localhost:8080/",
          "height": 34
        }
      },
      "source": [
        "let sample = [[\"temperature\", \"nausea\", \"lumbar pain\", \"urine pushing\", \"micturition pains\", \"Burning of urethra, itch, swelling of urethra outlet\", \"Inflamtation of urinary bladder\", \"Nephritis of renal pelvis origin\"], \n",
        "              [\"41.5\",    \"no\",    \"yes\",    \"yes\",    \"no\",    \"yes\",    \"?\",    \"yes\"]]\n",
        "\n",
        "let singleClassification = RF.predict(this: sample)\n",
        "\n",
        "print(singleClassification)"
      ],
      "execution_count": 0,
      "outputs": [
        {
          "output_type": "stream",
          "text": [
            "no\r\n"
          ],
          "name": "stdout"
        }
      ]
    },
    {
      "cell_type": "markdown",
      "metadata": {
        "id": "Keypoyz_jSG-",
        "colab_type": "text"
      },
      "source": [
        "### Scoring model accuracy"
      ]
    },
    {
      "cell_type": "code",
      "metadata": {
        "id": "JVIOTzOAd4wA",
        "colab_type": "code",
        "colab": {}
      },
      "source": [
        "let forestOutput = RF.score(with: patientDataTest)"
      ],
      "execution_count": 0,
      "outputs": []
    },
    {
      "cell_type": "code",
      "metadata": {
        "id": "HHgtfosTd4wD",
        "colab_type": "code",
        "outputId": "a4efdadb-1ff2-42c7-e624-31d0a17c2ac5",
        "colab": {
          "base_uri": "https://localhost:8080/",
          "height": 51
        }
      },
      "source": [
        "print(\"accuracy: \", forestOutput.0*100, \"%\")\n",
        "print(\"classifications: \", forestOutput.1)"
      ],
      "execution_count": 0,
      "outputs": [
        {
          "output_type": "stream",
          "text": [
            "accuracy:  100.0 %\r\n",
            "classifications:  [\"no\", \"no\", \"no\", \"no\", \"yes\", \"yes\", \"no\", \"no\", \"yes\", \"no\", \"no\", \"no\", \"yes\", \"yes\", \"yes\", \"no\"]\r\n"
          ],
          "name": "stdout"
        }
      ]
    },
    {
      "cell_type": "markdown",
      "metadata": {
        "colab_type": "text",
        "id": "7LezMj1ruTDH"
      },
      "source": [
        "## Fit a Decision Tree Regressor"
      ]
    },
    {
      "cell_type": "code",
      "metadata": {
        "id": "T9p9YlGauLn5",
        "colab_type": "code",
        "colab": {}
      },
      "source": [
        "let RF = RandomForest(data: patientDataTrain,\n",
        "                      target: 0, perform: \"regression\",\n",
        "                      using: \"gini\", nTrees: 100,\n",
        "                      nFeatures: 3, depth: 5)"
      ],
      "execution_count": 0,
      "outputs": []
    },
    {
      "cell_type": "code",
      "metadata": {
        "id": "MkUojSLvxq90",
        "colab_type": "code",
        "colab": {}
      },
      "source": [
        "RF.make()"
      ],
      "execution_count": 0,
      "outputs": []
    },
    {
      "cell_type": "markdown",
      "metadata": {
        "colab_type": "text",
        "id": "FuQUWwtGud-L"
      },
      "source": [
        "### Scoring model accuracy"
      ]
    },
    {
      "cell_type": "code",
      "metadata": {
        "id": "pgWe4X10ufFb",
        "colab_type": "code",
        "outputId": "a2a9e72e-ea3d-4d16-8efc-ddcc676e81de",
        "colab": {
          "base_uri": "https://localhost:8080/",
          "height": 71
        }
      },
      "source": [
        "let forestOutput = RF.score(with: patientDataTest)\n",
        "\n",
        "print(\"RMSE Error: \", forestOutput.0)\n",
        "print(\"predictions: \", forestOutput.1)\n"
      ],
      "execution_count": 0,
      "outputs": [
        {
          "output_type": "stream",
          "text": [
            "RMSE Error:  0.7102712\r\n",
            "predictions:  [\"39.810196\", \"40.655632\", \"40.655632\", \"40.20183\", \"40.61436\", \"40.61436\", \"40.20183\", \"40.655632\", \"40.61436\", \"40.655632\", \"39.810196\", \"39.810196\", \"37.3996\", \"37.424873\", \"36.915794\", \"37.087673\"]\r\n"
          ],
          "name": "stdout"
        }
      ]
    }
  ]
}
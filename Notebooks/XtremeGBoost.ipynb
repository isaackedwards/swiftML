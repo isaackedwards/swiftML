{
 "cells": [
  {
   "cell_type": "markdown",
   "metadata": {
    "colab_type": "text",
    "id": "hN2Xlkfgd4vU"
   },
   "source": [
    "# Xtreme Gradient Boosting\n",
    "\n",
    "***\n",
    "### `class init (trainData: Tensor<Float>, trainLabel: Tensor<Float>)`\n",
    "#### OR\n",
    "### `class init (trainDataPath: String) `\n",
    "\n",
    "\n",
    "***\n",
    "\n",
    "## Parameters:\n",
    "  #### `trainData` : *Tensor`<Float>`*\n",
    "  tensor of training data\n",
    "  #### `trainLabel`: *Tensor`<Float>`*\n",
    "  tensor of training label\n",
    "  ##### OR\n",
    "  #### `trainDataPath`: *String*\n",
    "  path to libSVM/XGBoostBinary format data file\n",
    "\n",
    "\n",
    "## Attributes: \n",
    "  #### `model`: PythonObject\n",
    "  Fitted model\n",
    "\n",
    "***\n",
    "\n",
    "## Methods\n",
    "\n",
    "***\n",
    "\n",
    "  ### `boost(parameters: Dictionary<String, String>, iterations: Int)` :  Fit a XGBoost Model.\n",
    "  ### parameters:\n",
    "  #### `parameters`: Dictionary<String, String>\n",
    "  Dictionary of paramters.\n",
    "  #### `iterations`: Int, *optional* default: 10\n",
    "  Number of rounds to be trained.\n",
    "\n",
    "  ***\n",
    "\n",
    "  ### `predict(testData: Tensor<Float>, testLabel: Tensor<Float>) -> Tensor<Float>` \n",
    "  \n",
    "  #### OR\n",
    "  \n",
    "  ### `predict(testFile: String) -> Tensor<Float>`\n",
    "  \n",
    "  ### :: Get predictions from fitted model on test data.\n",
    "      \n",
    "  ### parameters:\n",
    "  \n",
    "  #### `testData`: [[String]]\n",
    "  Tensor of test data.\n",
    "  #### `testLabel`: [[String]]\n",
    "  Tensor of test label.\n",
    "  \n",
    "  #### OR\n",
    "  \n",
    "  #### `testData`: [[String]]\n",
    "  Path to libSVM/XGBoostBinary format test data file.\n",
    "  \n",
    "  ### Returns:\n",
    "  Returns Tensor of predictions.  \n",
    "\n",
    "  \n",
    "***"
   ]
  },
  {
   "cell_type": "markdown",
   "metadata": {
    "colab_type": "text",
    "id": "LWF2kIiid4vW"
   },
   "source": [
    "# Example"
   ]
  },
  {
   "cell_type": "markdown",
   "metadata": {
    "colab_type": "text",
    "id": "Iep64439d4vX"
   },
   "source": [
    "<table class=\"tfo-notebook-buttons\" align=\"left\">\n",
    "  <td>\n",
    "    <a target=\"_blank\" href=\"https://colab.research.google.com/github/param087/swiftML/blob/master/Notebooks/XtremeGBoost.ipynb\"><img src=\"https://www.tensorflow.org/images/colab_logo_32px.png\" />Run in Google Colab</a>\n",
    "  </td>\n",
    "  <td>\n",
    "    <a target=\"_blank\" href=\"https://github.com/param087/swiftML/blob/master/Notebooks/XtremeGBoost.ipynb\"><img src=\"https://www.tensorflow.org/images/GitHub-Mark-32px.png\" />View source on GitHub</a>\n",
    "  </td>\n",
    "</table>"
   ]
  },
  {
   "cell_type": "markdown",
   "metadata": {
    "colab_type": "text",
    "id": "kcDTSCQcd4vc"
   },
   "source": [
    "## Install the swiftML package from GitHub."
   ]
  },
  {
   "cell_type": "code",
   "execution_count": 1,
   "metadata": {
    "colab": {},
    "colab_type": "code",
    "id": "wxCyCTsKd4vd"
   },
   "outputs": [
    {
     "name": "stdout",
     "output_type": "stream",
     "text": [
      "Installing packages:\n",
      "\t.package(url: \"https://github.com/param087/swiftML\", from: \"0.0.2\")\n",
      "\t\tswiftML\n",
      "With SwiftPM flags: []\n",
      "Working in: /tmp/tmptr311kuy/swift-install\n",
      "Fetching https://github.com/param087/swiftML\n",
      "Completed resolution in 3.37s\n",
      "Cloning https://github.com/param087/swiftML\n",
      "Resolving https://github.com/param087/swiftML at 0.0.2\n",
      "Compile Swift Module 'swiftML' (16 sources)\n",
      "/tmp/tmptr311kuy/swift-install/package/.build/checkouts/swiftML-1801b701/Sources/swiftML/KNeighborsClassifier.swift:106:13: warning: variable 'indices' was written to, but never read\n",
      "        var indices: Tensor<Int32>\n",
      "            ^\n",
      "\n",
      "/tmp/tmptr311kuy/swift-install/package/.build/checkouts/swiftML-1801b701/Sources/swiftML/PCA.swift:158:13: warning: variable 'u' was written to, but never read\n",
      "        var u: Tensor<Double>\n",
      "            ^\n",
      "/tmp/tmptr311kuy/swift-install/package/.build/checkouts/swiftML-1801b701/Sources/swiftML/RandomForest.swift:54:13: warning: variable 'outOfBootData' was written to, but never read\n",
      "        var outOfBootData: [[String]]\n",
      "            ^\n",
      "\n",
      "Compile Swift Module 'jupyterInstalledPackages' (1 sources)\n",
      "Linking ./.build/x86_64-unknown-linux/debug/libjupyterInstalledPackages.so\n",
      "Initializing Swift...\n",
      "Installation complete!\n"
     ]
    }
   ],
   "source": [
    "%install '.package(url: \"https://github.com/param087/swiftML\", from: \"0.0.4\")' swiftML"
   ]
  },
  {
   "cell_type": "markdown",
   "metadata": {
    "colab_type": "text",
    "id": "oI4v2EDQd4vh"
   },
   "source": [
    "## Import Swift packages"
   ]
  },
  {
   "cell_type": "code",
   "execution_count": 2,
   "metadata": {
    "colab": {},
    "colab_type": "code",
    "id": "rsVtX_Ihd4vi"
   },
   "outputs": [],
   "source": [
    "import TensorFlow\n",
    "import swiftML"
   ]
  },
  {
   "cell_type": "markdown",
   "metadata": {
    "colab_type": "text",
    "id": "GQMj84mad4vp"
   },
   "source": [
    "## Load dataset & create booster"
   ]
  },
  {
   "cell_type": "code",
   "execution_count": 3,
   "metadata": {
    "colab": {},
    "colab_type": "code",
    "id": "9Wxckr1hd4vq"
   },
   "outputs": [],
   "source": [
    "let patientDataTrain : [[String]] = [\n",
    "  [\"temperature\", \"nausea\", \"lumbar pain\", \"urine pushing\", \"micturition pains\", \"Burning of urethra, itch, swelling of urethra outlet\", \"Inflamtation of urinary bladder\", \"Nephritis of renal pelvis origin\"],\n",
    "    [\"35.5\",    \"no\",    \"yes\",    \"no\",    \"no\",    \"no\",    \"no\",    \"no\"],\n",
    "    [\"35.9\",    \"no\",    \"no\",    \"yes\",    \"yes\",    \"yes\",    \"yes\",    \"no\"],\n",
    "    [\"36.0\",    \"no\",    \"no\",    \"yes\",    \"yes\",    \"yes\",    \"yes\",    \"no\"],\n",
    "    [\"36.0\",    \"no\",    \"yes\",    \"no\",    \"no\",    \"no\",    \"no\",    \"no\"],\n",
    "    [\"36.0\",    \"no\",    \"yes\",    \"no\",    \"no\",    \"no\",    \"no\",    \"no\"],\n",
    "    [\"36.2\",    \"no\",    \"no\",    \"yes\",    \"yes\",    \"yes\",    \"yes\",    \"no\"],\n",
    "    [\"36.2\",    \"no\",    \"yes\",    \"no\",    \"no\",    \"no\",    \"no\",    \"no\"],\n",
    "    [\"36.3\",    \"no\",    \"no\",    \"yes\",    \"yes\",    \"yes\",    \"yes\",    \"no\"],\n",
    "    [\"36.6\",    \"no\",    \"no\",    \"yes\",    \"yes\",    \"yes\",    \"yes\",    \"no\"],\n",
    "    [\"36.6\",    \"no\",    \"no\",    \"yes\",    \"yes\",    \"yes\",    \"yes\",    \"no\"],\n",
    "    [\"36.6\",    \"no\",    \"yes\",    \"no\",    \"no\",    \"no\",    \"no\",    \"no\"],\n",
    "    [\"36.6\",    \"no\",    \"yes\",    \"no\",    \"no\",    \"no\",    \"no\",    \"no\"],\n",
    "    [\"36.7\",    \"no\",    \"no\",    \"yes\",    \"yes\",    \"yes\",    \"yes\", \"no\"],\n",
    "    [\"36.7\",    \"no\",    \"yes\",    \"no\",    \"no\",    \"no\",    \"no\",    \"no\"],\n",
    "    [\"36.7\",    \"no\",    \"yes\",    \"no\",    \"no\",    \"no\",    \"no\",    \"no\"],\n",
    "    [\"36.8\",    \"no\",    \"no\",    \"yes\",    \"yes\",    \"yes\",    \"yes\",    \"no\"],\n",
    "    [\"36.8\",    \"no\",    \"no\",   \"yes\",    \"yes\",    \"yes\",    \"yes\",    \"no\"],\n",
    "    [\"36.9\",    \"no\",    \"no\",    \"yes\",    \"yes\",    \"yes\",    \"yes\",    \"no\"],\n",
    "    [\"36.9\",    \"no\",    \"yes\",    \"no\",    \"no\",    \"no\",    \"no\",    \"no\"],\n",
    "    [\"37.0\",    \"no\",    \"no\",    \"yes\",    \"yes\",    \"no\",    \"yes\",    \"no\"],\n",
    "    [\"37.0\",    \"no\",    \"no\",    \"yes\",    \"yes\",    \"no\",    \"yes\",    \"no\"],\n",
    "    [\"37.0\",    \"no\",    \"yes\",    \"no\",    \"no\",    \"no\",    \"no\",    \"no\"],\n",
    "    [\"37.0\",    \"no\",    \"no\",    \"yes\",    \"yes\",    \"yes\",    \"yes\",    \"no\"],\n",
    "    [\"37.0\",    \"no\",    \"no\",    \"yes\",    \"yes\",    \"yes\",    \"yes\",    \"no\"],\n",
    "    [\"37.0\",    \"no\",    \"no\",    \"yes\",    \"yes\",    \"yes\",    \"yes\",    \"no\"],\n",
    "    [\"37.0\",    \"no\",    \"no\",    \"yes\",    \"no\",    \"no\",    \"yes\",    \"no\"],\n",
    "    [\"37.1\",    \"no\",    \"yes\",    \"no\",    \"no\",    \"no\",    \"no\",    \"no\"],\n",
    "    [\"37.1\",    \"no\",    \"no\",    \"yes\",    \"yes\",    \"yes\",    \"yes\",    \"no\"],\n",
    "    [\"37.1\",    \"no\",    \"no\",     \"yes\",    \"no\",    \"no\",    \"yes\",    \"no\"],\n",
    "    [\"37.2\",    \"no\",    \"no\",    \"yes\",    \"yes\",    \"no\",    \"yes\",    \"no\"],\n",
    "    [\"37.2\",    \"no\",    \"yes\",    \"no\",    \"no\",    \"no\",    \"no\",    \"no\"],\n",
    "    [\"37.2\",    \"no\",    \"no\",    \"yes\",    \"no\",    \"no\",    \"yes\",    \"no\"],\n",
    "    [\"37.3\",    \"no\",    \"yes\",    \"no\",    \"no\",    \"no\",    \"no\",    \"no\"],\n",
    "    [\"37.3\",    \"no\",    \"no\",    \"yes\",    \"yes\",    \"yes\",    \"yes\",    \"no\"],\n",
    "    [\"37.3\",    \"no\",    \"no\",    \"yes\",    \"no\",    \"no\",    \"yes\",    \"no\"],\n",
    "    [\"37.4\",    \"no\",    \"yes\",    \"no\",    \"no\",    \"no\",    \"no\",    \"no\"],\n",
    "    [\"37.4\",    \"no\",    \"no\",    \"yes\",    \"no\",    \"no\",    \"yes\",    \"no\"],\n",
    "    [\"37.5\",    \"no\",    \"no\",    \"yes\",    \"yes\",    \"no\",    \"yes\",    \"no\"],\n",
    "    [\"37.5\",    \"no\",    \"yes\",    \"no\",    \"no\",    \"no\",    \"no\",    \"no\"],\n",
    "    [\"37.5\",    \"no\",    \"yes\",    \"no\",    \"no\",    \"no\",    \"no\",    \"no\"],\n",
    "    [\"37.5\",    \"no\",    \"no\",    \"yes\",    \"yes\",    \"yes\",    \"yes\",    \"no\"],\n",
    "    [\"37.5\",    \"no\",    \"no\",    \"yes\",    \"no\",    \"no\",    \"yes\",    \"no\"],\n",
    "    [\"37.6\",    \"no\",    \"no\",    \"yes\",    \"yes\",    \"no\",    \"yes\",    \"no\"],\n",
    "    [\"37.6\",    \"no\",    \"no\",    \"yes\",    \"yes\",    \"no\",    \"yes\",    \"no\"],\n",
    "    [\"37.6\",    \"no\",    \"no\",    \"yes\",    \"yes\",    \"yes\",    \"yes\",    \"no\"],\n",
    "    [\"37.7\",    \"no\",    \"no\",    \"yes\",    \"yes\",    \"no\",    \"yes\",    \"no\"],\n",
    "    [\"37.7\",    \"no\",    \"yes\",    \"no\",    \"no\",    \"no\",    \"no\",    \"no\"],\n",
    "    [\"37.7\",    \"no\",    \"no\",    \"yes\",    \"no\",    \"no\",    \"yes\",    \"no\"],\n",
    "    [\"37.8\",    \"no\",    \"yes\",    \"no\",    \"no\",    \"no\",    \"no\",    \"no\"],\n",
    "    [\"37.8\",    \"no\",    \"no\",    \"yes\",    \"yes\",    \"yes\",    \"yes\",    \"no\"],\n",
    "    [\"37.8\",    \"no\",    \"no\",    \"yes\",    \"no\",    \"no\",    \"yes\",    \"no\"],\n",
    "    [\"37.9\",    \"no\",    \"no\",    \"yes\",    \"yes\",    \"no\",    \"yes\",    \"no\"],\n",
    "    [\"37.9\",    \"no\",    \"no\",    \"yes\",    \"yes\",    \"no\",    \"yes\",    \"no\"],\n",
    "    [\"37.9\",    \"no\",    \"yes\",    \"no\",    \"no\",    \"no\",    \"no\",    \"no\"],\n",
    "    [\"37.9\",    \"no\",    \"no\",    \"yes\",    \"yes\",    \"yes\",    \"yes\",    \"no\"],\n",
    "    [\"37.9\",    \"no\",    \"no\",    \"yes\",    \"no\",    \"no\",    \"yes\",    \"no\"],\n",
    "    [\"38.0\",    \"no\",    \"yes\",    \"yes\",    \"no\",    \"yes\",    \"no\",    \"yes\"],\n",
    "    [\"38.0\",    \"no\",    \"yes\",    \"yes\",    \"no\",    \"yes\",    \"no\",    \"yes\"],\n",
    "    [\"38.1\",    \"no\",    \"yes\",    \"yes\",    \"no\",    \"yes\",    \"no\",    \"yes\"],\n",
    "    [\"38.3\",    \"no\",    \"yes\",    \"yes\",    \"no\",    \"yes\",    \"no\",    \"yes\"],\n",
    "    [\"38.5\",    \"no\",    \"yes\",    \"yes\",    \"no\",    \"yes\",    \"no\",    \"yes\"],\n",
    "    [\"38.9\",    \"no\",    \"yes\",    \"yes\",    \"no\",    \"yes\",    \"no\",    \"yes\"],\n",
    "    [\"39.0\",    \"no\",    \"yes\",    \"yes\",    \"no\",    \"yes\",    \"no\",    \"yes\"],\n",
    "    [\"39.7\",    \"no\",    \"yes\",    \"yes\",    \"no\",    \"yes\",    \"no\",    \"yes\"],\n",
    "    [\"40.0\",    \"yes\",    \"yes\",    \"yes\",    \"yes\",    \"yes\",    \"yes\",    \"yes\"],\n",
    "    [\"40.0\",    \"yes\",    \"yes\",    \"yes\",    \"yes\",    \"yes\",    \"yes\",    \"yes\"],\n",
    "    [\"40.0\",    \"yes\",    \"yes\",    \"yes\",    \"yes\",    \"no\",    \"yes\",    \"yes\"],\n",
    "    [\"40.0\",    \"no\",    \"no\",    \"no\",    \"no\",    \"no\",    \"no\",    \"no\"],\n",
    "    [\"40.0\",    \"no\",    \"no\",    \"no\",    \"no\",    \"no\",    \"no\",    \"no\"],\n",
    "    [\"40.0\",    \"yes\",    \"yes\",    \"no\",    \"yes\",    \"no\",    \"no\",    \"yes\"],\n",
    "    [\"40.0\",    \"no\",    \"yes\",    \"yes\",    \"no\",    \"yes\",    \"no\",    \"yes\"],\n",
    "    [\"40.2\",    \"yes\",    \"yes\",    \"yes\",    \"yes\",    \"yes\",    \"yes\",    \"yes\"],\n",
    "    [\"40.2\",    \"no\",    \"no\",    \"no\",    \"no\",    \"no\",    \"no\",    \"no\"],\n",
    "    [\"40.2\",    \"yes\",    \"yes\",    \"no\",    \"yes\",    \"no\",    \"no\",    \"yes\"],\n",
    "    [\"40.3\",    \"no\",    \"yes\",    \"yes\",    \"no\",    \"yes\",    \"no\",    \"yes\"],\n",
    "    [\"40.4\",    \"yes\",    \"yes\",    \"yes\",    \"yes\",    \"yes\",    \"yes\",    \"yes\"],\n",
    "    [\"40.4\",    \"yes\",    \"yes\",    \"yes\",    \"yes\",    \"no\",    \"yes\",    \"yes\"],\n",
    "    [\"40.4\",    \"yes\",    \"yes\",    \"yes\",    \"yes\",    \"no\",    \"yes\",    \"yes\"],\n",
    "    [\"40.4\",    \"no\",    \"no\",    \"no\",    \"no\",    \"no\",    \"no\",    \"no\"],\n",
    "    [\"40.5\",    \"yes\",    \"yes\",    \"yes\",    \"yes\",    \"no\",    \"yes\",    \"yes\"],\n",
    "    [\"40.6\",    \"yes\",    \"yes\",    \"yes\",    \"yes\",    \"yes\",    \"yes\",    \"yes\"],\n",
    "    [\"40.6\",    \"no\",    \"no\",    \"no\",    \"no\",    \"no\",    \"no\",    \"no\"],\n",
    "    [\"40.6\",    \"yes\",    \"yes\",    \"no\",    \"yes\",    \"no\",    \"no\",    \"yes\"],\n",
    "    [\"40.7\",    \"yes\",    \"yes\",    \"yes\",    \"yes\",    \"yes\",    \"yes\",    \"yes\"],\n",
    "    [\"40.7\",    \"yes\",    \"yes\",    \"yes\",    \"yes\",    \"no\",    \"yes\",    \"yes\"],\n",
    "    [\"40.7\",    \"yes\",    \"yes\",    \"no\",    \"yes\",    \"no\",    \"no\",   \"yes\"],\n",
    "    [\"40.7\",    \"no\",    \"yes\",   \"yes\",    \"no\",    \"yes\",    \"no\",    \"yes\"],\n",
    "    [\"40.8\",    \"no\",    \"yes\",    \"yes\",    \"no\",    \"yes\",    \"no\",    \"yes\"],\n",
    "    [\"40.9\",    \"no\",    \"yes\",    \"yes\",    \"no\",    \"yes\",    \"no\",    \"yes\"],\n",
    "    [\"41.0\",    \"yes\",    \"yes\",    \"yes\",    \"yes\",    \"yes\",    \"yes\",    \"yes\"],\n",
    "    [\"41.0\",    \"yes\",    \"yes\",    \"no\",    \"yes\",   \"no\",    \"no\",    \"yes\"],\n",
    "    [\"41.0\",    \"no\",    \"yes\",    \"yes\",    \"no\",    \"yes\",    \"no\",    \"yes\"],\n",
    "    [\"41.1\",    \"yes\",    \"yes\",    \"yes\",    \"yes\",    \"yes\",    \"yes\",    \"yes\"],\n",
    "    [\"41.1\",    \"yes\",    \"yes\",    \"yes\",    \"yes\",    \"no\",    \"yes\",    \"yes\"],\n",
    "    [\"41.1\",    \"no\",    \"no\",    \"no\",    \"no\",    \"no\",    \"no\",    \"no\"],\n",
    "    [\"41.1\",    \"no\",    \"yes\",    \"yes\",    \"no\",    \"yes\",    \"no\",    \"yes\"],\n",
    "    [\"41.2\",    \"yes\",    \"yes\",    \"yes\",    \"yes\",    \"yes\",    \"yes\",    \"yes\"],\n",
    "    [\"41.2\",    \"no\",    \"no\",    \"no\",    \"no\",    \"no\",    \"no\",    \"no\"],\n",
    "    [\"41.2\",    \"no\",    \"yes\",    \"yes\",    \"no\",    \"yes\",    \"no\",    \"yes\"],\n",
    "    [\"41.3\",    \"yes\",    \"yes\",    \"yes\",    \"yes\",    \"no\",    \"yes\",    \"yes\"],\n",
    "    [\"41.4\",    \"no\",    \"yes\",    \"yes\",    \"no\",    \"yes\",    \"no\",    \"yes\"],\n",
    "    [\"41.5\",    \"no\",   \"no\",    \"no\",    \"no\",    \"no\",    \"no\",    \"no\"],\n",
    "    [\"41.5\",    \"yes\",    \"yes\",    \"no\",    \"yes\",    \"no\",    \"no\",    \"yes\"],\n",
    "    [\"41.5\",    \"no\",    \"yes\",    \"yes\",    \"no\",    \"yes\",    \"no\",    \"yes\"]\n",
    "]\n",
    "\n",
    "\n",
    "let patientDataTest : [[String]] = [\n",
    "  [\"temperature\", \"nausea\", \"lumbar pain\", \"urine pushing\", \"micturition pains\", \"Burning of urethra, itch, swelling of urethra outlet\", \"Inflamtation of urinary bladder\", \"Nephritis of renal pelvis origin\"],\n",
    "        [\"41.5\",    \"no\",    \"yes\",    \"yes\",    \"no\",    \"yes\",    \"no\",    \"yes\"],\n",
    "        [\"41.2\",    \"yes\",    \"yes\",    \"no\",    \"yes\",    \"no\",    \"no\",    \"yes\"],\n",
    "        [\"41.1\",    \"yes\",    \"yes\",    \"no\",    \"yes\",    \"no\",    \"no\",    \"yes\"],\n",
    "        [\"41.0\",    \"no\",    \"no\",    \"no\",    \"no\",    \"no\",    \"no\",    \"no\"],\n",
    "        [\"40.9\",    \"yes\",    \"yes\",    \"yes\",    \"yes\",    \"no\",    \"yes\",   \"yes\"],\n",
    "        [\"40.9\",    \"yes\",    \"yes\",    \"yes\",    \"yes\",    \"no\",    \"yes\",    \"yes\"],\n",
    "        [\"40.7\",    \"no\",    \"no\",    \"no\",    \"no\",    \"no\",    \"no\",    \"no\"],\n",
    "        [\"40.4\",    \"yes\",    \"yes\",    \"no\",    \"yes\",    \"no\",    \"no\",    \"yes\"],\n",
    "        [\"40.1\",    \"yes\",    \"yes\",    \"yes\",    \"yes\",    \"no\",    \"yes\",    \"yes\"],\n",
    "        [\"40.0\",    \"yes\",    \"yes\",    \"no\",    \"yes\",    \"no\",    \"no\",    \"yes\"],\n",
    "        [\"39.4\",    \"no\",    \"yes\",    \"yes\",    \"no\",    \"yes\",    \"no\",    \"yes\"],\n",
    "        [\"38.7\",    \"no\",    \"yes\",    \"yes\",    \"no\",    \"yes\",    \"no\",    \"yes\"],\n",
    "        [\"37.7\",    \"no\",    \"no\",    \"yes\",    \"yes\",    \"no\",    \"yes\",    \"no\"],\n",
    "        [\"37.5\",    \"no\",    \"no\",    \"yes\",    \"no\",    \"no\",    \"yes\",    \"no\"],\n",
    "        [\"37.0\",    \"no\",    \"no\",    \"yes\",    \"yes\",    \"yes\",    \"yes\",    \"no\"],\n",
    "        [\"35.9\",    \"no\",    \"yes\",    \"no\",    \"no\",    \"no\",    \"no\",    \"no\"]\n",
    " ]\n"
   ]
  },
  {
   "cell_type": "code",
   "execution_count": 4,
   "metadata": {
    "colab": {},
    "colab_type": "code",
    "id": "mv-ulegjd4vt"
   },
   "outputs": [],
   "source": [
    "let booster = AdaBoostClassifier(data: patientDataTrain, target: 7, till: 200, using: \"gini\")\n",
    "booster.boost()"
   ]
  },
  {
   "cell_type": "markdown",
   "metadata": {
    "colab_type": "text",
    "id": "WjJB6Wkdd4vw"
   },
   "source": [
    "## Fit a linear model"
   ]
  },
  {
   "cell_type": "code",
   "execution_count": 5,
   "metadata": {
    "colab": {},
    "colab_type": "code",
    "id": "E5YrvnHBd4vy"
   },
   "outputs": [],
   "source": [
    "booster.boost()"
   ]
  },
  {
   "cell_type": "markdown",
   "metadata": {
    "colab_type": "text",
    "id": "SQZBKwpZkZuW"
   },
   "source": [
    "### Classifying single example"
   ]
  },
  {
   "cell_type": "code",
   "execution_count": 6,
   "metadata": {
    "colab": {
     "base_uri": "https://localhost:8080/",
     "height": 34
    },
    "colab_type": "code",
    "executionInfo": {
     "elapsed": 499,
     "status": "ok",
     "timestamp": 1566414545764,
     "user": {
      "displayName": "Victor Antony",
      "photoUrl": "",
      "userId": "18391518674105965387"
     },
     "user_tz": -120
    },
    "id": "Z9ZQtivmkfWJ",
    "outputId": "c467edb5-1761-4946-e2b3-a69b25b596c1"
   },
   "outputs": [
    {
     "data": {
      "text/plain": [
       "\"no\"\n"
      ]
     },
     "execution_count": 6,
     "metadata": {},
     "output_type": "execute_result"
    }
   ],
   "source": [
    "let example = [\n",
    "    [\"temperature\", \"nausea\", \"lumbar pain\", \"urine pushing\", \"micturition pains\", \"Burning of urethra, itch, swelling of urethra outlet\", \"Inflamtation of urinary bladder\", \"Nephritis of renal pelvis origin\"],\n",
    "    [\"35.9\",    \"no\",    \"yes\",    \"no\",    \"no\",    \"no\",    \"no\",    \"?\"]\n",
    "]\n",
    "\n",
    "booster.classify(this: example)"
   ]
  },
  {
   "cell_type": "markdown",
   "metadata": {
    "colab_type": "text",
    "id": "Keypoyz_jSG-"
   },
   "source": [
    "### Scoring model accuracy"
   ]
  },
  {
   "cell_type": "code",
   "execution_count": 7,
   "metadata": {
    "colab": {},
    "colab_type": "code",
    "id": "JVIOTzOAd4wA"
   },
   "outputs": [],
   "source": [
    "let boosterOutput = booster.score(testData: patientDataTrain)"
   ]
  },
  {
   "cell_type": "code",
   "execution_count": 8,
   "metadata": {
    "colab": {
     "base_uri": "https://localhost:8080/",
     "height": 88
    },
    "colab_type": "code",
    "executionInfo": {
     "elapsed": 1072,
     "status": "ok",
     "timestamp": 1566414552127,
     "user": {
      "displayName": "Victor Antony",
      "photoUrl": "",
      "userId": "18391518674105965387"
     },
     "user_tz": -120
    },
    "id": "HHgtfosTd4wD",
    "outputId": "83885074-cb7d-4c75-9b1b-2f4e9434606b"
   },
   "outputs": [
    {
     "name": "stdout",
     "output_type": "stream",
     "text": [
      "400\r\n",
      "accuracy:  100.0 %\r\n",
      "classifications:  [\"no\", \"no\", \"no\", \"no\", \"no\", \"no\", \"no\", \"no\", \"no\", \"no\", \"no\", \"no\", \"no\", \"no\", \"no\", \"no\", \"no\", \"no\", \"no\", \"no\", \"no\", \"no\", \"no\", \"no\", \"no\", \"no\", \"no\", \"no\", \"no\", \"no\", \"no\", \"no\", \"no\", \"no\", \"no\", \"no\", \"no\", \"no\", \"no\", \"no\", \"no\", \"no\", \"no\", \"no\", \"no\", \"no\", \"no\", \"no\", \"no\", \"no\", \"no\", \"no\", \"no\", \"no\", \"no\", \"no\", \"yes\", \"yes\", \"yes\", \"yes\", \"yes\", \"yes\", \"yes\", \"yes\", \"yes\", \"yes\", \"yes\", \"no\", \"no\", \"yes\", \"yes\", \"yes\", \"no\", \"yes\", \"yes\", \"yes\", \"yes\", \"yes\", \"no\", \"yes\", \"yes\", \"no\", \"yes\", \"yes\", \"yes\", \"yes\", \"yes\", \"yes\", \"yes\", \"yes\", \"yes\", \"yes\", \"yes\", \"yes\", \"no\", \"yes\", \"yes\", \"no\", \"yes\", \"yes\", \"yes\", \"no\", \"yes\", \"yes\"]\r\n"
     ]
    }
   ],
   "source": [
    "print(booster.stumps.count)\n",
    "print(\"accuracy: \", boosterOutput.0*100, \"%\")\n",
    "print(\"classifications: \", boosterOutput.1)"
   ]
  }
 ],
 "metadata": {
  "colab": {
   "collapsed_sections": [],
   "name": "Copy of AdaBoostClassifierTutorial.ipynb",
   "provenance": [],
   "version": "0.3.2"
  },
  "kernelspec": {
   "display_name": "Swift",
   "language": "swift",
   "name": "swift"
  },
  "language_info": {
   "file_extension": ".swift",
   "mimetype": "text/x-swift",
   "name": "swift",
   "version": ""
  }
 },
 "nbformat": 4,
 "nbformat_minor": 1
}
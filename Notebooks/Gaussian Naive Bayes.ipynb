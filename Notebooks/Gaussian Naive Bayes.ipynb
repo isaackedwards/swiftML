{
 "cells": [
  {
   "cell_type": "markdown",
   "metadata": {},
   "source": [
    "# Gaussian naive bayes classifier.\n",
    "The Gaussian Naive Bayes classifier is suitable for classification with continuous features.\n",
    "***\n",
    "### `class GaussianNB()`\n",
    "***\n",
    "\n",
    "## Attributes:\n",
    "  #### `model`: *Tensor, shape [class count, feature count, 2]*\n",
    "  The mean and the standard deviation of each feature of each class\n",
    "\n",
    "***\n",
    "\n",
    "## Methods\n",
    "\n",
    "***\n",
    "\n",
    "  ### `fit(data: Tensor, labels: Tensor)`: Fit a Gaussian naive bayes classifier model.\n",
    "\n",
    "  ### Parameters:\n",
    "\n",
    "  #### `data`: *Tensor, shape [sample count, feature count]*\n",
    "  Training data.\n",
    "  #### `labels`: *Tensor, shape [sample count]*  \n",
    "  Target values.\n",
    "\n",
    "  ***\n",
    "\n",
    "  ### `prediction(for: Tensor)`: Predict class for sample input data.\n",
    "\n",
    "  ### Parameters:\n",
    "  #### `for`: *Tensor, shape [sample count, feature count]*\n",
    "  Sample data.\n",
    "\n",
    "  ### Returns:\n",
    "  Returns classification of sample input data.\n",
    "  ***\n",
    "\n",
    "  ### `score(data: Tensor, labels: Tensor)`: Returns the mean accuracy.\n",
    "\n",
    "  ### Parameters:\n",
    "  #### `data`: *Tensor, shape [sample count, feature count]*\n",
    "  Test sample data.\n",
    "  #### `labels`: *Tensor, shape [sample count]*  \n",
    "  True value for test sample data.\n",
    "\n",
    "  ### Returns:\n",
    "  Returns the mean accuracy.\n",
    "  ***\n",
    "  \n",
    "  ### `predictLogProba(data: Tensor)`: Returns log-probability estimates.\n",
    "\n",
    "  ### Parameters:\n",
    "  #### `data`: *Tensor, shape [sample count, feature count]*\n",
    "  Input data.\n",
    "\n",
    "  ### Returns:\n",
    "  Returns log-probability estimates for the input data.\n",
    "\n",
    "***"
   ]
  },
  {
   "cell_type": "markdown",
   "metadata": {},
   "source": [
    "# Example"
   ]
  },
  {
   "cell_type": "markdown",
   "metadata": {},
   "source": [
    "##  Install the swiftML package that's in the local directory."
   ]
  },
  {
   "cell_type": "code",
   "execution_count": 1,
   "metadata": {},
   "outputs": [
    {
     "name": "stdout",
     "output_type": "stream",
     "text": [
      "Installing packages:\n",
      "\t.package(path: \"/home/param/GSOC19/github/swiftML\")\n",
      "\t\tswiftML\n",
      "With SwiftPM flags: []\n",
      "Working in: /tmp/tmpalktfwuj/swift-install\n",
      "Completed resolution in 0.98s\n",
      "Compile Swift Module 'swiftML' (4 sources)\n",
      "Compile Swift Module 'jupyterInstalledPackages' (1 sources)\n",
      "Linking ./.build/x86_64-unknown-linux/debug/libjupyterInstalledPackages.so\n",
      "Initializing Swift...\n",
      "Installation complete!\n"
     ]
    }
   ],
   "source": [
    "%install '.package(path: \"/home/param/GSOC19/github/swiftML\")' swiftML"
   ]
  },
  {
   "cell_type": "markdown",
   "metadata": {},
   "source": [
    "## Install the swiftML package from GitHub."
   ]
  },
  {
   "cell_type": "code",
   "execution_count": null,
   "metadata": {},
   "outputs": [],
   "source": [
    "%install '.package(url: \"https://github.com/param087/swiftML\", from: \"0.0.1\")' swiftML"
   ]
  },
  {
   "cell_type": "markdown",
   "metadata": {},
   "source": [
    "## Import Swift packages"
   ]
  },
  {
   "cell_type": "code",
   "execution_count": 2,
   "metadata": {},
   "outputs": [],
   "source": [
    "import TensorFlow\n",
    "import swiftML"
   ]
  },
  {
   "cell_type": "markdown",
   "metadata": {},
   "source": [
    "## Import Python modules"
   ]
  },
  {
   "cell_type": "code",
   "execution_count": 3,
   "metadata": {},
   "outputs": [],
   "source": [
    "import Python\n",
    "\n",
    "let np = Python.import(\"numpy\")\n",
    "let datasets = Python.import(\"sklearn.datasets\")\n",
    "let modelSelection = Python.import(\"sklearn.model_selection\")"
   ]
  },
  {
   "cell_type": "markdown",
   "metadata": {},
   "source": [
    "## Load and split dataset"
   ]
  },
  {
   "cell_type": "code",
   "execution_count": 4,
   "metadata": {},
   "outputs": [],
   "source": [
    "// Load the iris dataset\n",
    "let iris = datasets.load_iris()\n",
    "\n",
    "let irisData = Tensor<Float>(numpy: np.array(iris.data, dtype: np.float32))!\n",
    "\n",
    "// Split the dataset into trainig and testing \n",
    "let trainTestSplit = modelSelection.train_test_split(iris.data, iris.target, test_size: 0.3)\n",
    "\n",
    "let trainData = Tensor<Float>(numpy: np.array(trainTestSplit[0], dtype: np.float32))!\n",
    "let testData = Tensor<Float>(numpy: np.array(trainTestSplit[1], dtype: np.float32))!\n",
    "let trainTarget = Tensor<Int32>(\n",
    "    Tensor<Float>(numpy: np.array(trainTestSplit[2], dtype: np.float32))!)\n",
    "let testTarget = Tensor<Int32>(\n",
    "    Tensor<Float>(numpy: np.array(trainTestSplit[3], dtype: np.float32))!)\n"
   ]
  },
  {
   "cell_type": "markdown",
   "metadata": {},
   "source": [
    "##  KNeighbors Classifier "
   ]
  },
  {
   "cell_type": "code",
   "execution_count": 5,
   "metadata": {},
   "outputs": [
    {
     "name": "stdout",
     "output_type": "stream",
     "text": [
      "Training Accuracy:  0.9714286\n",
      "Testing Accuracy:  0.9111111\n"
     ]
    }
   ],
   "source": [
    "let model = GaussianNB()\n",
    "model.fit(data: trainData, labels: trainTarget)\n",
    "print(\"Training Accuracy: \", model.score(data: trainData, labels: trainTarget))\n",
    "print(\"Testing Accuracy: \", model.score(data: testData, labels: testTarget))"
   ]
  }
 ],
 "metadata": {
  "kernelspec": {
   "display_name": "Swift",
   "language": "swift",
   "name": "swift"
  },
  "language_info": {
   "file_extension": ".swift",
   "mimetype": "text/x-swift",
   "name": "swift",
   "version": ""
  }
 },
 "nbformat": 4,
 "nbformat_minor": 2
}

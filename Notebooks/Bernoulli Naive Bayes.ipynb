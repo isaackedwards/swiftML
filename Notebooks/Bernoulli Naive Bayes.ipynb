{
 "cells": [
  {
   "cell_type": "markdown",
   "metadata": {},
   "source": [
    "# Bernoulli naive bayes classifier\n",
    "BernoulliNB is designed for binary/boolean features.\n",
    "***\n",
    "### `class BernoulliNB(alpha: 1.0)`\n",
    "***\n",
    "\n",
    "## Parameters:\n",
    "  #### `alpha`: *Float, optional, default `1.0`*\n",
    "  Additive smoothing parameter.\n",
    "\n",
    "## Attributes:\n",
    "  #### `classLogPrior`: *Tensor, shape [class count]*\n",
    "  The prior log probability for each class.\n",
    "  #### `featureLogProb`: *Tensor, shape [class count, feature count]*\n",
    "  Empirical log probability of features given a class.\n",
    "  #### `classes`: *Tensor, shape [class count]*\n",
    "  Unique classes in target value set.\n",
    "\n",
    "***\n",
    "\n",
    "## Methods\n",
    "\n",
    "***\n",
    "\n",
    "  ### `fit(data: Tensor, labels: Tensor)`: Fit a bernoulli naive bayes classifier model.\n",
    "\n",
    "  ### Parameters:\n",
    "\n",
    "  #### `data`: *Tensor, shape [sample count, feature count]*\n",
    "  Training data.\n",
    "  #### `labels`: *Tensor, shape [sample count]*  \n",
    "  Target values.\n",
    "\n",
    "  ***\n",
    "\n",
    "  ### `prediction(for: Tensor)`: Predict class for sample input data.\n",
    "\n",
    "  ### Parameters:\n",
    "  #### `for`: *Tensor, shape [sample count, feature count]*\n",
    "  Sample data.\n",
    "\n",
    "  ### Returns:\n",
    "  Returns classification of sample input data.\n",
    "  ***\n",
    "\n",
    "  ### `score(data: Tensor, labels: Tensor)`: Returns the mean accuracy.\n",
    "\n",
    "  ### Parameters:\n",
    "  #### `data`: *Tensor, shape [sample count, feature count]*\n",
    "  Test sample data.\n",
    "  #### `labels`: *Tensor, shape [sample count]*  \n",
    "  True value for test sample data.\n",
    "\n",
    "  ### Returns:\n",
    "  Returns the mean accuracy.\n",
    "  ***\n",
    "  \n",
    "  ### `predictLogProba(data: Tensor)`: Returns log-probability estimates.\n",
    "\n",
    "  ### Parameters:\n",
    "  #### `data`: *Tensor, shape [sample count, feature count]*\n",
    "  Input data.\n",
    "\n",
    "  ### Returns:\n",
    "  Returns log-probability estimates for the input data.\n",
    "\n",
    "***"
   ]
  },
  {
   "cell_type": "markdown",
   "metadata": {},
   "source": [
    "# Example"
   ]
  },
  {
   "cell_type": "markdown",
   "metadata": {},
   "source": [
    "##  Install the swiftML package that's in the local directory."
   ]
  },
  {
   "cell_type": "code",
   "execution_count": 1,
   "metadata": {},
   "outputs": [
    {
     "name": "stdout",
     "output_type": "stream",
     "text": [
      "Installing packages:\n",
      "\t.package(path: \"/home/param/GSOC19/github/swiftML\")\n",
      "\t\tswiftML\n",
      "With SwiftPM flags: []\n",
      "Working in: /tmp/tmp1sgvdrw8/swift-install\n",
      "Completed resolution in 0.44s\n",
      "Compile Swift Module 'swiftML' (4 sources)\n",
      "Compile Swift Module 'jupyterInstalledPackages' (1 sources)\n",
      "Linking ./.build/x86_64-unknown-linux/debug/libjupyterInstalledPackages.so\n",
      "Initializing Swift...\n",
      "Installation complete!\n"
     ]
    }
   ],
   "source": [
    "%install '.package(path: \"/home/param/GSOC19/github/swiftML\")' swiftML"
   ]
  },
  {
   "cell_type": "markdown",
   "metadata": {},
   "source": [
    "## Install the swiftML package from GitHub."
   ]
  },
  {
   "cell_type": "code",
   "execution_count": null,
   "metadata": {},
   "outputs": [],
   "source": [
    "%install '.package(url: \"https://github.com/param087/swiftML\", from: \"0.0.1\")' swiftML"
   ]
  },
  {
   "cell_type": "markdown",
   "metadata": {},
   "source": [
    "## Import Swift packages"
   ]
  },
  {
   "cell_type": "code",
   "execution_count": 2,
   "metadata": {},
   "outputs": [],
   "source": [
    "import TensorFlow\n",
    "import swiftML"
   ]
  },
  {
   "cell_type": "markdown",
   "metadata": {},
   "source": [
    "## Import Python modules"
   ]
  },
  {
   "cell_type": "code",
   "execution_count": 3,
   "metadata": {},
   "outputs": [],
   "source": [
    "import Python\n",
    "\n",
    "let np = Python.import(\"numpy\")\n",
    "let datasets = Python.import(\"sklearn.datasets\")\n",
    "let modelSelection = Python.import(\"sklearn.model_selection\")"
   ]
  },
  {
   "cell_type": "markdown",
   "metadata": {},
   "source": [
    "## Dataset"
   ]
  },
  {
   "cell_type": "code",
   "execution_count": 4,
   "metadata": {},
   "outputs": [],
   "source": [
    "let trainData = Tensor<Float>([\n",
    "    [1,1,0,0,0,0],\n",
    "    [1,0,1,0,0,0],\n",
    "    [1,0,0,1,0,0],\n",
    "    [1,0,0,0,1,1]\n",
    "])\n",
    "let trainLabels = Tensor<Int32>([0,0,0,1])\n",
    "\n",
    "let testData = Tensor<Float>([[1,0,0,0,1,1],[1,1,1,0,0,1]])\n",
    "let testLabels = Tensor<Int32>([1, 0])\n"
   ]
  },
  {
   "cell_type": "code",
   "execution_count": 5,
   "metadata": {},
   "outputs": [
    {
     "name": "stdout",
     "output_type": "stream",
     "text": [
      "Prediction:  [1, 0]\r\n",
      "Score:  1.0\r\n"
     ]
    }
   ],
   "source": [
    "let model = BernoulliNB()\n",
    "model.fit(data: trainData, labels: trainLabels)\n",
    "print(\"Prediction: \",model.prediction(for: testData))\n",
    "print(\"Score: \", model.score(data: testData, labels: testLabels))"
   ]
  }
 ],
 "metadata": {
  "kernelspec": {
   "display_name": "Swift",
   "language": "swift",
   "name": "swift"
  },
  "language_info": {
   "file_extension": ".swift",
   "mimetype": "text/x-swift",
   "name": "swift",
   "version": ""
  }
 },
 "nbformat": 4,
 "nbformat_minor": 2
}

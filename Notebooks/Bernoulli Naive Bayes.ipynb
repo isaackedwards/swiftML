{
 "cells": [
  {
   "cell_type": "markdown",
   "metadata": {},
   "source": [
    "# Bernoulli naive bayes classifier\n",
    "BernoulliNB is designed for binary/boolean features.\n",
    "***\n",
    "### `class BernoulliNB(alpha: 1.0)`\n",
    "***\n",
    "\n",
    "## Parameters:\n",
    "  #### `alpha`: *Float, optional, default `1.0`*\n",
    "  Additive smoothing parameter.\n",
    "\n",
    "## Attributes:\n",
    "  #### `classLogPrior`: *Tensor, shape [class count]*\n",
    "  The prior log probability for each class.\n",
    "  #### `featureLogProb`: *Tensor, shape [class count, feature count]*\n",
    "  Empirical log probability of features given a class.\n",
    "  #### `classes`: *Tensor, shape [class count]*\n",
    "  Unique classes in target value set.\n",
    "\n",
    "***\n",
    "\n",
    "## Methods\n",
    "\n",
    "***\n",
    "\n",
    "  ### `fit(data: Tensor, labels: Tensor)`: Fit a bernoulli naive bayes classifier model.\n",
    "\n",
    "  ### Parameters:\n",
    "\n",
    "  #### `data`: *Tensor, shape [sample count, feature count]*\n",
    "  Training data.\n",
    "  #### `labels`: *Tensor, shape [sample count]*  \n",
    "  Target values.\n",
    "\n",
    "  ***\n",
    "\n",
    "  ### `prediction(for: Tensor)`: Predict class for sample input data.\n",
    "\n",
    "  ### Parameters:\n",
    "  #### `for`: *Tensor, shape [sample count, feature count]*\n",
    "  Sample data.\n",
    "\n",
    "  ### Returns:\n",
    "  Returns classification of sample input data.\n",
    "  ***\n",
    "\n",
    "  ### `score(data: Tensor, labels: Tensor)`: Returns the mean accuracy.\n",
    "\n",
    "  ### Parameters:\n",
    "  #### `data`: *Tensor, shape [sample count, feature count]*\n",
    "  Test sample data.\n",
    "  #### `labels`: *Tensor, shape [sample count]*  \n",
    "  True value for test sample data.\n",
    "\n",
    "  ### Returns:\n",
    "  Returns the mean accuracy.\n",
    "  ***\n",
    "  \n",
    "  ### `predictLogProba(data: Tensor)`: Returns log-probability estimates.\n",
    "\n",
    "  ### Parameters:\n",
    "  #### `data`: *Tensor, shape [sample count, feature count]*\n",
    "  Input data.\n",
    "\n",
    "  ### Returns:\n",
    "  Returns log-probability estimates for the input data.\n",
    "\n",
    "***"
   ]
  },
  {
   "cell_type": "markdown",
   "metadata": {},
   "source": [
    "# Example"
   ]
  },
  {
   "cell_type": "markdown",
   "metadata": {},
   "source": [
    "<table class=\"tfo-notebook-buttons\" align=\"left\">\n",
    "  <td>\n",
    "    <a target=\"_blank\" href=\"https://colab.research.google.com/drive/1Pkj7ZwAHHgQnFy93ZlmiYhnUcYb9xJLw\"><img src=\"https://www.tensorflow.org/images/colab_logo_32px.png\" />Run in Google Colab</a>\n",
    "  </td>\n",
    "  <td>\n",
    "    <a target=\"_blank\" href=\"https://github.com/param087/swiftML/blob/master/Notebooks/Bernoulli%20Naive%20Bayes.ipynb\"><img src=\"https://www.tensorflow.org/images/GitHub-Mark-32px.png\" />View source on GitHub</a>\n",
    "  </td>\n",
    "</table>"
   ]
  },
  {
   "cell_type": "markdown",
   "metadata": {},
   "source": [
    "## Install the swiftML package from GitHub."
   ]
  },
  {
   "cell_type": "code",
   "execution_count": 1,
   "metadata": {},
   "outputs": [
    {
     "name": "stdout",
     "output_type": "stream",
     "text": [
      "Installing packages:\n",
      "\t.package(url: \"https://github.com/param087/swiftML\", from: \"0.0.2\")\n",
      "\t\tswiftML\n",
      "With SwiftPM flags: []\n",
      "Working in: /tmp/tmplssvvvz7/swift-install\n",
      "Fetching https://github.com/param087/swiftML\n",
      "Completed resolution in 6.12s\n",
      "Cloning https://github.com/param087/swiftML\n",
      "Resolving https://github.com/param087/swiftML at 0.0.2\n",
      "Compile Swift Module 'swiftML' (16 sources)\n",
      "/tmp/tmplssvvvz7/swift-install/package/.build/checkouts/swiftML-1801b701/Sources/swiftML/KNeighborsClassifier.swift:106:13: warning: variable 'indices' was written to, but never read\n",
      "        var indices: Tensor<Int32>\n",
      "            ^\n",
      "/tmp/tmplssvvvz7/swift-install/package/.build/checkouts/swiftML-1801b701/Sources/swiftML/PCA.swift:158:13: warning: variable 'u' was written to, but never read\n",
      "        var u: Tensor<Double>\n",
      "            ^\n",
      "/tmp/tmplssvvvz7/swift-install/package/.build/checkouts/swiftML-1801b701/Sources/swiftML/RandomForest.swift:54:13: warning: variable 'outOfBootData' was written to, but never read\n",
      "        var outOfBootData: [[String]]\n",
      "            ^\n",
      "\n",
      "Compile Swift Module 'jupyterInstalledPackages' (1 sources)\n",
      "Linking ./.build/x86_64-unknown-linux/debug/libjupyterInstalledPackages.so\n",
      "Initializing Swift...\n",
      "Installation complete!\n"
     ]
    }
   ],
   "source": [
    "%install '.package(url: \"https://github.com/param087/swiftML\", from: \"0.0.2\")' swiftML"
   ]
  },
  {
   "cell_type": "markdown",
   "metadata": {},
   "source": [
    "## Import Swift packages"
   ]
  },
  {
   "cell_type": "code",
   "execution_count": 2,
   "metadata": {},
   "outputs": [],
   "source": [
    "import TensorFlow\n",
    "import swiftML"
   ]
  },
  {
   "cell_type": "markdown",
   "metadata": {},
   "source": [
    "## Import Python modules"
   ]
  },
  {
   "cell_type": "code",
   "execution_count": 3,
   "metadata": {},
   "outputs": [],
   "source": [
    "import Python\n",
    "\n",
    "let np = Python.import(\"numpy\")\n",
    "let datasets = Python.import(\"sklearn.datasets\")\n",
    "let modelSelection = Python.import(\"sklearn.model_selection\")"
   ]
  },
  {
   "cell_type": "markdown",
   "metadata": {},
   "source": [
    "## Dataset"
   ]
  },
  {
   "cell_type": "code",
   "execution_count": 4,
   "metadata": {},
   "outputs": [],
   "source": [
    "let trainData = Tensor<Float>([\n",
    "    [1,1,0,0,0,0],\n",
    "    [1,0,1,0,0,0],\n",
    "    [1,0,0,1,0,0],\n",
    "    [1,0,0,0,1,1]\n",
    "])\n",
    "let trainLabels = Tensor<Int32>([0,0,0,1])\n",
    "\n",
    "let testData = Tensor<Float>([[1,0,0,0,1,1],[1,1,1,0,0,1]])\n",
    "let testLabels = Tensor<Int32>([1, 0])\n"
   ]
  },
  {
   "cell_type": "code",
   "execution_count": 5,
   "metadata": {},
   "outputs": [
    {
     "name": "stdout",
     "output_type": "stream",
     "text": [
      "Prediction:  [1, 0]\r\n",
      "Score:  1.0\r\n"
     ]
    }
   ],
   "source": [
    "let model = BernoulliNB()\n",
    "model.fit(data: trainData, labels: trainLabels)\n",
    "print(\"Prediction: \",model.prediction(for: testData))\n",
    "print(\"Score: \", model.score(data: testData, labels: testLabels))"
   ]
  }
 ],
 "metadata": {
  "kernelspec": {
   "display_name": "Swift",
   "language": "swift",
   "name": "swift"
  },
  "language_info": {
   "file_extension": ".swift",
   "mimetype": "text/x-swift",
   "name": "swift",
   "version": ""
  }
 },
 "nbformat": 4,
 "nbformat_minor": 2
}

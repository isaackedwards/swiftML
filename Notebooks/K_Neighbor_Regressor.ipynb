{
 "cells": [
  {
   "cell_type": "markdown",
   "metadata": {},
   "source": [
    "## Installation command for local Repository"
   ]
  },
  {
   "cell_type": "code",
   "execution_count": 1,
   "metadata": {},
   "outputs": [
    {
     "name": "stdout",
     "output_type": "stream",
     "text": [
      "Installing packages:\n",
      "\t.package(path: \"/home/param/GSOC19/github/swiftML\")\n",
      "\t\tswiftML\n",
      "With SwiftPM flags: []\n",
      "Working in: /tmp/tmpg9_arp2u/swift-install\n",
      "Completed resolution in 0.43s\n",
      "Compile Swift Module 'swiftML' (12 sources)\n",
      "/home/param/GSOC19/github/swiftML/Sources/swiftML/KNeighborsClassifier.swift:128:13: warning: variable 'indices' was written to, but never read\n",
      "        var indices: Tensor<Int32>\n",
      "            ^\n",
      "\n",
      "/home/param/GSOC19/github/swiftML/Sources/swiftML/SVC.swift:49:13: warning: initialization of immutable value 'd' was never used; consider replacing with assignment to '_' or removing it\n",
      "        let d = x.shape[1]\n",
      "        ~~~~^\n",
      "        _\n",
      "/home/param/GSOC19/github/swiftML/Sources/swiftML/SVC.swift:299:13: warning: initialization of immutable value 'n' was never used; consider replacing with assignment to '_' or removing it\n",
      "        let n = a.shape[0]\n",
      "        ~~~~^\n",
      "        _\n",
      "/home/param/GSOC19/github/swiftML/Sources/swiftML/SVC.swift:300:13: warning: initialization of immutable value 'm' was never used; consider replacing with assignment to '_' or removing it\n",
      "        let m = a.shape[1]\n",
      "        ~~~~^\n",
      "        _\n",
      "\n",
      "Compile Swift Module 'jupyterInstalledPackages' (1 sources)\n",
      "Linking ./.build/x86_64-unknown-linux/debug/libjupyterInstalledPackages.so\n",
      "Initializing Swift...\n",
      "Installation complete!\n"
     ]
    }
   ],
   "source": [
    "%install '.package(path: \"/home/param/GSOC19/github/swiftML\")' swiftML"
   ]
  },
  {
   "cell_type": "code",
   "execution_count": 2,
   "metadata": {},
   "outputs": [],
   "source": [
    "import TensorFlow\n",
    "import swiftML"
   ]
  },
  {
   "cell_type": "markdown",
   "metadata": {},
   "source": [
    "## dataset"
   ]
  },
  {
   "cell_type": "code",
   "execution_count": 3,
   "metadata": {},
   "outputs": [],
   "source": [
    "let X_train = Tensor<Float>([[10], [9], [2], [15], [10], [16], [11], [16]])\n",
    "let y_train = Tensor<Float>([95, 80, 10, 50, 45, 98, 38, 93])"
   ]
  },
  {
   "cell_type": "markdown",
   "metadata": {},
   "source": [
    "##  KNeighbors Regressor"
   ]
  },
  {
   "cell_type": "code",
   "execution_count": 4,
   "metadata": {},
   "outputs": [
    {
     "name": "stdout",
     "output_type": "stream",
     "text": [
      "Prediction:  [45.0, 80.0, 10.0, 50.0, 45.0, 93.0, 38.0, 93.0]\r\n"
     ]
    }
   ],
   "source": [
    "let model = KNeighborsRegressor(neighbors: 4, weights: \"distance\")\n",
    "model.fit(data: X_train, labels: y_train)\n",
    "print(\"Prediction: \",model.prediction(for: X_train))"
   ]
  },
  {
   "cell_type": "code",
   "execution_count": 5,
   "metadata": {},
   "outputs": [
    {
     "name": "stdout",
     "output_type": "stream",
     "text": [
      "Predcition:  [70.0, 62.5, 45.0, 71.5, 70.0, 95.5, 41.5, 95.5]\r\n"
     ]
    }
   ],
   "source": [
    "let model = KNeighborsRegressor(neighbors: 2, weights: \"uniform\")\n",
    "model.fit(data: X_train, labels: y_train)\n",
    "print(\"Predcition: \",model.prediction(for: X_train))"
   ]
  },
  {
   "cell_type": "code",
   "execution_count": null,
   "metadata": {},
   "outputs": [],
   "source": []
  }
 ],
 "metadata": {
  "kernelspec": {
   "display_name": "Swift",
   "language": "swift",
   "name": "swift"
  },
  "language_info": {
   "file_extension": ".swift",
   "mimetype": "text/x-swift",
   "name": "swift",
   "version": ""
  }
 },
 "nbformat": 4,
 "nbformat_minor": 2
}

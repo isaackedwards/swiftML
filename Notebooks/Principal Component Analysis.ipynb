{
 "cells": [
  {
   "cell_type": "markdown",
   "metadata": {},
   "source": [
    "# Principal Component Analysis\n",
    "\n",
    "***\n",
    "### `class PCA(componentCount: 0, whiten: false)`\n",
    "***\n",
    "\n",
    "## Parameters:\n",
    "  #### `componentCount`: *Int, optional, default `0`*\n",
    "  Number of components to keep. If `componentCount` is `0` then Minka’s MLE is used to select componentCount that best describe the dataset, else the `componentCount` is used to represent the number of component to keep.\n",
    "  #### `whiten`: *Bool, optional, default `false`*\n",
    "  When `true` the `components` vectors are multiplied by the square root of sample count and then divided by the singular values to ensure uncorrelated outputs with unit component-wise variances.\n",
    "  Whitening will remove some information from the transformed signal (the relative variance scales of the components) but can sometime improve the predictive accuracy of the downstream estimators by making their data respect some hard-wired assumptions.\n",
    "\n",
    "\n",
    "## Attributes: \n",
    "  #### `components`: *Tensor, shape [component count, feature count]*\n",
    "  Principal axes in feature space, representing the directions of maximum variance in the data. The components are sorted by `explainedVariance`.\n",
    "  #### `explainedVariance`: *Tensor, shape [component count]*\n",
    "  The amount of variance explained by each of the selected components.\n",
    "  #### `explainedVarianceRatio`: *Tensor, shape [component count]*\n",
    "  Percentage of variance explained by each of the selected components.\n",
    "  #### `singularValues`: *Tensor, shape [component count]*\n",
    "  The singular values corresponding to each of the selected components.\n",
    "  #### `mean`: *Tensor, shape [feature count]*\n",
    "  Per-feature empirical mean, estimated from the training set.\n",
    "  #### `noiseVariance`: *Tensor*\n",
    "  The estimated noise covariance.\n",
    "\n",
    "  \n",
    "\n",
    "***\n",
    "\n",
    "## Methods\n",
    "\n",
    "***\n",
    "\n",
    "  ### `fit(data: Tensor)`:  Fit a Principal Component Analysis.\n",
    "\n",
    "  ### Parameters:\n",
    "\n",
    "  #### `data`: *Tensor, shape [sample count, feature count]*\n",
    "  Training data.\n",
    "\n",
    "  ***\n",
    "\n",
    "  ### `transformation(data: Tensor)`: Apply dimensionality reduction to input.\n",
    "\n",
    "  ### Parameters:\n",
    "  #### `for`: *Tensor, shape [sample count, feature count]*\n",
    "  New data.\n",
    "\n",
    "  ### Returns:\n",
    "  Dimensionally reduced data. \n",
    "\n",
    "  ### `inverseTransformation(data: Tensor)`: Transform data to its original space.\n",
    "  ### Parameters:\n",
    "  #### `for`: *Tensor, shape [sample count, feature count]*\n",
    "  New data.\n",
    "\n",
    "  ### Returns:\n",
    "  Original data whose transform would be input data.\n",
    "\n",
    "\n",
    "***"
   ]
  },
  {
   "cell_type": "markdown",
   "metadata": {},
   "source": [
    "# Example"
   ]
  },
  {
   "cell_type": "markdown",
   "metadata": {},
   "source": [
    "<table class=\"tfo-notebook-buttons\" align=\"left\">\n",
    "  <td>\n",
    "    <a target=\"_blank\" href=\"https://colab.research.google.com/drive/1XaoIWnlgyLUJo6dtmHCRPWfAm1XpGinC\"><img src=\"https://www.tensorflow.org/images/colab_logo_32px.png\" />Run in Google Colab</a>\n",
    "  </td>\n",
    "  <td>\n",
    "    <a target=\"_blank\" href=\"https://github.com/param087/swiftML/blob/master/Notebooks/Principal%20Component%20Analysis.ipynb\"><img src=\"https://www.tensorflow.org/images/GitHub-Mark-32px.png\" />View source on GitHub</a>\n",
    "  </td>\n",
    "</table>"
   ]
  },
  {
   "cell_type": "markdown",
   "metadata": {},
   "source": [
    "## Install the swiftML package from GitHub."
   ]
  },
  {
   "cell_type": "code",
   "execution_count": 1,
   "metadata": {},
   "outputs": [
    {
     "name": "stdout",
     "output_type": "stream",
     "text": [
      "Installing packages:\n",
      "\t.package(url: \"https://github.com/param087/swiftML\", from: \"0.0.2\")\n",
      "\t\tswiftML\n",
      "With SwiftPM flags: []\n",
      "Working in: /tmp/tmpzakxgcwi/swift-install\n",
      "Fetching https://github.com/param087/swiftML\n",
      "Completed resolution in 8.40s\n",
      "Cloning https://github.com/param087/swiftML\n",
      "Resolving https://github.com/param087/swiftML at 0.0.2\n",
      "Compile Swift Module 'swiftML' (16 sources)\n",
      "/tmp/tmpzakxgcwi/swift-install/package/.build/checkouts/swiftML-1801b701/Sources/swiftML/PCA.swift:158:13: warning: variable 'u' was written to, but never read\n",
      "        var u: Tensor<Double>\n",
      "            ^\n",
      "/tmp/tmpzakxgcwi/swift-install/package/.build/checkouts/swiftML-1801b701/Sources/swiftML/RandomForest.swift:54:13: warning: variable 'outOfBootData' was written to, but never read\n",
      "        var outOfBootData: [[String]]\n",
      "            ^\n",
      "/tmp/tmpzakxgcwi/swift-install/package/.build/checkouts/swiftML-1801b701/Sources/swiftML/KNeighborsClassifier.swift:106:13: warning: variable 'indices' was written to, but never read\n",
      "        var indices: Tensor<Int32>\n",
      "            ^\n",
      "\n",
      "Compile Swift Module 'jupyterInstalledPackages' (1 sources)\n",
      "Linking ./.build/x86_64-unknown-linux/debug/libjupyterInstalledPackages.so\n",
      "Initializing Swift...\n",
      "Installation complete!\n"
     ]
    }
   ],
   "source": [
    "%install '.package(url: \"https://github.com/param087/swiftML\", from: \"0.0.4\")' swiftML"
   ]
  },
  {
   "cell_type": "markdown",
   "metadata": {},
   "source": [
    "## Import Swift packages"
   ]
  },
  {
   "cell_type": "code",
   "execution_count": 2,
   "metadata": {},
   "outputs": [],
   "source": [
    "import TensorFlow\n",
    "import swiftML"
   ]
  },
  {
   "cell_type": "markdown",
   "metadata": {},
   "source": [
    "## Dataset"
   ]
  },
  {
   "cell_type": "code",
   "execution_count": 3,
   "metadata": {},
   "outputs": [],
   "source": [
    "let data = Tensor<Double>([[-1, -1], [-2, -1], [-3, -2], [1, 1], [2, 1], [3, 2]])"
   ]
  },
  {
   "cell_type": "markdown",
   "metadata": {},
   "source": [
    "## Principal Component Analysis"
   ]
  },
  {
   "cell_type": "code",
   "execution_count": 4,
   "metadata": {},
   "outputs": [
    {
     "name": "stdout",
     "output_type": "stream",
     "text": [
      "[[    1.383405778728807,   0.29357869708094075],\r\n",
      " [   2.2218980166336806,   -0.2513348437429923],\r\n",
      " [    3.605303795362487,  0.042243853337948334],\r\n",
      " [   -1.383405778728807,  -0.29357869708094075],\r\n",
      " [  -2.2218980166336806,    0.2513348437429923],\r\n",
      " [   -3.605303795362487, -0.042243853337948334]]\r\n"
     ]
    }
   ],
   "source": [
    "let model = PCA(componentCount: 2)\n",
    "model.fit(data: data)\n",
    "let newData = model.transformation(for: data)\n",
    "print(newData)"
   ]
  },
  {
   "cell_type": "markdown",
   "metadata": {},
   "source": [
    "## Retrieve Original Dataset"
   ]
  },
  {
   "cell_type": "code",
   "execution_count": 5,
   "metadata": {},
   "outputs": [
    {
     "name": "stdout",
     "output_type": "stream",
     "text": [
      "[[-0.9999999999999997, -0.9999999999999998],\r\n",
      " [-1.9999999999999993, -0.9999999999999997],\r\n",
      " [-2.9999999999999987,  -1.999999999999999],\r\n",
      " [ 0.9999999999999997,  0.9999999999999998],\r\n",
      " [ 1.9999999999999993,  0.9999999999999997],\r\n",
      " [ 2.9999999999999987,   1.999999999999999]]\r\n"
     ]
    }
   ],
   "source": [
    "let originalData = model.inverseTransformation(for: newData)\n",
    "print(originalData)"
   ]
  },
  {
   "cell_type": "code",
   "execution_count": 6,
   "metadata": {},
   "outputs": [
    {
     "name": "stdout",
     "output_type": "stream",
     "text": [
      "mean:  [[0.0, 0.0]]\r\n",
      "components:  [[-0.8384922379048738, -0.5449135408239331],\r\n",
      " [ 0.5449135408239331, -0.8384922379048738]]\r\n",
      "componentCount:  2\r\n",
      "explainedVariance:  [ 7.9395431207184375, 0.06045687928155813]\r\n",
      "explainedVarianceRatio:  [   0.9924428900898052, 0.0075571099101947705]\r\n",
      "singularValues:  [ 6.300612319734661, 0.5498039617971033]\r\n"
     ]
    }
   ],
   "source": [
    "print(\"mean: \", model.mean)\n",
    "print(\"components: \", model.components)\n",
    "print(\"componentCount: \", model.componentCount)\n",
    "print(\"explainedVariance: \",model.explainedVariance)\n",
    "print(\"explainedVarianceRatio: \", model.explainedVarianceRatio)\n",
    "print(\"singularValues: \", model.singularValues)"
   ]
  },
  {
   "cell_type": "markdown",
   "metadata": {},
   "source": [
    "## Minka’s MLE is used to guess the dimension"
   ]
  },
  {
   "cell_type": "code",
   "execution_count": 7,
   "metadata": {},
   "outputs": [
    {
     "name": "stdout",
     "output_type": "stream",
     "text": [
      "[[  1.383405778728807],\r\n",
      " [ 2.2218980166336806],\r\n",
      " [  3.605303795362487],\r\n",
      " [ -1.383405778728807],\r\n",
      " [-2.2218980166336806],\r\n",
      " [ -3.605303795362487]]\r\n"
     ]
    }
   ],
   "source": [
    "let model = PCA()\n",
    "model.fit(data: data)\n",
    "let newData = model.transformation(for: data)\n",
    "print(newData)"
   ]
  },
  {
   "cell_type": "code",
   "execution_count": 8,
   "metadata": {},
   "outputs": [
    {
     "name": "stdout",
     "output_type": "stream",
     "text": [
      "[[ -1.159975007336852, -0.7538365412834047],\r\n",
      " [-1.8630442403635754,  -1.210742315593533],\r\n",
      " [ -3.023019247700427, -1.9645788568769373],\r\n",
      " [  1.159975007336852,  0.7538365412834047],\r\n",
      " [ 1.8630442403635754,   1.210742315593533],\r\n",
      " [  3.023019247700427,  1.9645788568769373]]\r\n"
     ]
    }
   ],
   "source": [
    "let XOriginal = model.inverseTransformation(for: newData)\n",
    "print(XOriginal)"
   ]
  },
  {
   "cell_type": "code",
   "execution_count": 9,
   "metadata": {},
   "outputs": [
    {
     "name": "stdout",
     "output_type": "stream",
     "text": [
      "mean:  [[0.0, 0.0]]\r\n",
      "components:  [[-0.8384922379048738, -0.5449135408239331]]\r\n",
      "componentCount:  1\r\n",
      "explainedVariance:  [7.9395431207184375]\r\n",
      "explainedVarianceRatio:  [0.9924428900898052]\r\n",
      "singularValues:  [6.300612319734661]\r\n"
     ]
    }
   ],
   "source": [
    "print(\"mean: \", model.mean)\n",
    "print(\"components: \", model.components)\n",
    "print(\"componentCount: \", model.componentCount)\n",
    "print(\"explainedVariance: \",model.explainedVariance)\n",
    "print(\"explainedVarianceRatio: \", model.explainedVarianceRatio)\n",
    "print(\"singularValues: \", model.singularValues)"
   ]
  },
  {
   "cell_type": "code",
   "execution_count": null,
   "metadata": {},
   "outputs": [],
   "source": []
  }
 ],
 "metadata": {
  "kernelspec": {
   "display_name": "Swift",
   "language": "swift",
   "name": "swift"
  },
  "language_info": {
   "file_extension": ".swift",
   "mimetype": "text/x-swift",
   "name": "swift",
   "version": ""
  }
 },
 "nbformat": 4,
 "nbformat_minor": 2
}